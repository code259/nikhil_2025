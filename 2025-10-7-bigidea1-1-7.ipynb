{
 "cells": [
  {
   "cell_type": "raw",
   "id": "88124eef",
   "metadata": {
    "vscode": {
     "languageId": "raw"
    }
   },
   "source": [
    "---\n",
    "layout: post\n",
    "title: Big Idea 1 Lesson 1.7\n",
    "description: Big Idea 1 Lesson 1.7\n",
    "type: issues\n",
    "comments: true\n",
    "---"
   ]
  },
  {
   "cell_type": "markdown",
   "id": "6e083fac",
   "metadata": {},
   "source": [
    "# Popcorn Hacks"
   ]
  },
  {
   "cell_type": "markdown",
   "id": "13c73cc5",
   "metadata": {},
   "source": [
    "### Popcorn Hack 1"
   ]
  },
  {
   "cell_type": "code",
   "execution_count": null,
   "id": "92d69bde",
   "metadata": {
    "vscode": {
     "languageId": "java"
    }
   },
   "outputs": [
    {
     "name": "stdout",
     "output_type": "stream",
     "text": [
      "3^4 = 81.0\n",
      "Square root of 64 = 8.0\n",
      "ArrayList size: 3\n"
     ]
    }
   ],
   "source": [
    "import java.util.ArrayList;\n",
    "\n",
    "public class PopcornHack1 {\n",
    "    public static void main(String[] args) {\n",
    "        // TODO: Use Math.pow() to calculate 3^4\n",
    "        double power = Math.pow(3, 4);\n",
    "        System.out.println(\"3^4 = \" + power);\n",
    "        \n",
    "        // TODO: Use Math.sqrt() to find square root of 64\n",
    "        double squareRoot = Math.sqrt(64);\n",
    "        System.out.println(\"Square root of 64 = \" + squareRoot);\n",
    "        \n",
    "        // TODO: Create ArrayList of Strings\n",
    "        ArrayList<String> colors = new ArrayList<String>();\n",
    "        \n",
    "        // TODO: Add 3 colors (\"red\", \"blue\", \"green\")\n",
    "        colors.add(\"red\");\n",
    "        colors.add(\"blue\");\n",
    "        colors.add(\"green\");\n",
    "        \n",
    "        // TODO: Print the size\n",
    "        System.out.println(\"ArrayList size: \" + colors.size());\n",
    "    }\n",
    "}\n",
    "\n",
    "PopcornHack1.main(null);"
   ]
  },
  {
   "cell_type": "markdown",
   "id": "3fdd6a5f",
   "metadata": {},
   "source": [
    "### Popcorn Hack 2"
   ]
  },
  {
   "cell_type": "code",
   "execution_count": 3,
   "id": "666cf964",
   "metadata": {
    "vscode": {
     "languageId": "java"
    }
   },
   "outputs": [
    {
     "name": "stdout",
     "output_type": "stream",
     "text": [
      "Book Information:\n",
      "Title: Java Basics\n",
      "Author: John Doe\n",
      "Pages: 350\n",
      "\n",
      "Is this book long? true\n",
      "\n",
      "--- Testing another book ---\n",
      "Title: Quick Guide\n",
      "Author: Jane Smith\n",
      "Pages: 150\n",
      "\n",
      "Is this book long? false\n"
     ]
    }
   ],
   "source": [
    "public class Book {\n",
    "    // TODO: Add 3 attributes (title, author, pages)\n",
    "    private String title;\n",
    "    private String author;\n",
    "    private int pages;\n",
    "    \n",
    "    // TODO: Add constructor\n",
    "    public Book(String title, String author, int pages) {\n",
    "        this.title = title;\n",
    "        this.author = author;\n",
    "        this.pages = pages;\n",
    "    }\n",
    "    \n",
    "    // TODO: Add displayInfo() method\n",
    "    public void displayInfo() {\n",
    "        System.out.println(\"Title: \" + title);\n",
    "        System.out.println(\"Author: \" + author);\n",
    "        System.out.println(\"Pages: \" + pages);\n",
    "    }\n",
    "    \n",
    "    // TODO: Add isLong() method (returns true if pages > 300)\n",
    "    public boolean isLong() {\n",
    "        return pages > 300;\n",
    "    }\n",
    "    \n",
    "    // Main method for testing\n",
    "    public static void main(String[] args) {\n",
    "        // TODO: Create a Book object and test all methods\n",
    "        Book myBook = new Book(\"Java Basics\", \"John Doe\", 350);\n",
    "        \n",
    "        System.out.println(\"Book Information:\");\n",
    "        myBook.displayInfo();\n",
    "        \n",
    "        System.out.println(\"\\nIs this book long? \" + myBook.isLong());\n",
    "        \n",
    "        System.out.println(\"\\n--- Testing another book ---\");\n",
    "        Book shortBook = new Book(\"Quick Guide\", \"Jane Smith\", 150);\n",
    "        shortBook.displayInfo();\n",
    "        System.out.println(\"\\nIs this book long? \" + shortBook.isLong());\n",
    "    }\n",
    "}\n",
    "\n",
    "Book.main(null);"
   ]
  },
  {
   "cell_type": "markdown",
   "id": "86957f9a",
   "metadata": {},
   "source": [
    "# Homework Hacks"
   ]
  },
  {
   "cell_type": "code",
   "execution_count": 4,
   "id": "e758c802",
   "metadata": {
    "vscode": {
     "languageId": "java"
    }
   },
   "outputs": [
    {
     "name": "stdout",
     "output_type": "stream",
     "text": [
      "=== Creating Phone 1 ===\n",
      "\n",
      "=== Creating Phone 2 ===\n",
      "\n",
      "=== Adding Contacts to Phone 1 ===\n",
      "Added contact: Alice\n",
      "Added contact: Bob\n",
      "Added contact: Charlie\n",
      "\n",
      "=== Adding Contacts to Phone 2 ===\n",
      "Added contact: David\n",
      "Added contact: Emma\n",
      "Added contact: Frank\n",
      "\n",
      "=== Using Phones ===\n",
      "Used phone for 25 minutes. Battery now at 75%\n",
      "Used phone for 40 minutes. Battery now at 60%\n",
      "\n",
      "=== Phone 1 Information ===\n",
      "Brand: Apple\n",
      "Model: iPhone 15\n",
      "Battery Level: 75%\n",
      "Contacts (3):\n",
      "  - Alice\n",
      "  - Bob\n",
      "  - Charlie\n",
      "\n",
      "=== Phone 2 Information ===\n",
      "Brand: Samsung\n",
      "Model: Galaxy S24\n",
      "Battery Level: 60%\n",
      "Contacts (3):\n",
      "  - David\n",
      "  - Emma\n",
      "  - Frank\n"
     ]
    }
   ],
   "source": [
    "import java.util.ArrayList;\n",
    "\n",
    "public class Phone {\n",
    "    // TODO: Add 4 attributes\n",
    "    private String brand;\n",
    "    private String model;\n",
    "    private int batteryLevel;\n",
    "    private ArrayList<String> contacts;\n",
    "    \n",
    "    // TODO: Add constructor\n",
    "    public Phone(String brand, String model) {\n",
    "        this.brand = brand;\n",
    "        this.model = model;\n",
    "        this.batteryLevel = 100;\n",
    "        this.contacts = new ArrayList<String>();\n",
    "    }\n",
    "    \n",
    "    // TODO: Add displayInfo() method\n",
    "    public void displayInfo() {\n",
    "        System.out.println(\"Brand: \" + brand);\n",
    "        System.out.println(\"Model: \" + model);\n",
    "        System.out.println(\"Battery Level: \" + batteryLevel + \"%\");\n",
    "    }\n",
    "    \n",
    "    // TODO: Add addContact(String name) method\n",
    "    public void addContact(String name) {\n",
    "        contacts.add(name);\n",
    "        System.out.println(\"Added contact: \" + name);\n",
    "    }\n",
    "    \n",
    "    // TODO: Add showContacts() method\n",
    "    public void showContacts() {\n",
    "        System.out.println(\"Contacts (\" + contacts.size() + \"):\");\n",
    "        for (String contact : contacts) {\n",
    "            System.out.println(\"  - \" + contact);\n",
    "        }\n",
    "    }\n",
    "    \n",
    "    // TODO: Add usePhone(int minutes) method\n",
    "    public void usePhone(int minutes) {\n",
    "        batteryLevel -= minutes;\n",
    "        if (batteryLevel < 0) {\n",
    "            batteryLevel = 0;\n",
    "        }\n",
    "        System.out.println(\"Used phone for \" + minutes + \" minutes. Battery now at \" + batteryLevel + \"%\");\n",
    "    }\n",
    "}\n",
    "\n",
    "class PhoneTest {\n",
    "    public static void main(String[] args) {\n",
    "        // TODO: Create 2 Phone objects\n",
    "        System.out.println(\"=== Creating Phone 1 ===\");\n",
    "        Phone phone1 = new Phone(\"Apple\", \"iPhone 15\");\n",
    "        \n",
    "        System.out.println(\"\\n=== Creating Phone 2 ===\");\n",
    "        Phone phone2 = new Phone(\"Samsung\", \"Galaxy S24\");\n",
    "        \n",
    "        // TODO: Add 3 contacts to each\n",
    "        System.out.println(\"\\n=== Adding Contacts to Phone 1 ===\");\n",
    "        phone1.addContact(\"Alice\");\n",
    "        phone1.addContact(\"Bob\");\n",
    "        phone1.addContact(\"Charlie\");\n",
    "        \n",
    "        System.out.println(\"\\n=== Adding Contacts to Phone 2 ===\");\n",
    "        phone2.addContact(\"David\");\n",
    "        phone2.addContact(\"Emma\");\n",
    "        phone2.addContact(\"Frank\");\n",
    "        \n",
    "        // TODO: Use phones for some minutes\n",
    "        System.out.println(\"\\n=== Using Phones ===\");\n",
    "        phone1.usePhone(25);\n",
    "        phone2.usePhone(40);\n",
    "        \n",
    "        // TODO: Display all information\n",
    "        System.out.println(\"\\n=== Phone 1 Information ===\");\n",
    "        phone1.displayInfo();\n",
    "        phone1.showContacts();\n",
    "        \n",
    "        System.out.println(\"\\n=== Phone 2 Information ===\");\n",
    "        phone2.displayInfo();\n",
    "        phone2.showContacts();\n",
    "    }\n",
    "}\n",
    "\n",
    "PhoneTest.main(null);"
   ]
  }
 ],
 "metadata": {
  "kernelspec": {
   "display_name": "Java",
   "language": "java",
   "name": "java"
  },
  "language_info": {
   "codemirror_mode": "java",
   "file_extension": ".jshell",
   "mimetype": "text/x-java-source",
   "name": "Java",
   "pygments_lexer": "java",
   "version": "18.0.1.1+2-6"
  }
 },
 "nbformat": 4,
 "nbformat_minor": 5
}

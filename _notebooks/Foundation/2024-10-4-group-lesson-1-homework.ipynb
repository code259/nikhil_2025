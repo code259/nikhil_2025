{
 "cells": [
  {
   "cell_type": "raw",
   "metadata": {
    "vscode": {
     "languageId": "raw"
    }
   },
   "source": [
    "---\n",
    "layout: post\n",
    "title: Group Lesson Day 1 Group 2 Homework\n",
    "description: Popcorn and Homework Hacks\n",
    "type: issues \n",
    "comments: true\n",
    "---"
   ]
  },
  {
   "cell_type": "markdown",
   "metadata": {},
   "source": [
    "### Popcorn Hacks"
   ]
  },
  {
   "cell_type": "code",
   "execution_count": 2,
   "metadata": {},
   "outputs": [
    {
     "name": "stdout",
     "output_type": "stream",
     "text": [
      "Adding Numbers In List Script\n",
      "-------------------------\n",
      "Added 5 to list.\n",
      "Added 10 to list.\n",
      "Sum of numbers in list is 15\n"
     ]
    }
   ],
   "source": [
    "print(\"Adding Numbers In List Script\")\n",
    "print(\"-\"*25)\n",
    "numlist = []\n",
    "while True:\n",
    "    start = input(\"Would you like to (1) enter numbers (2) add numbers (3) remove last value added or (4) exit: \")\n",
    "    if start == \"1\":\n",
    "        val = input(\"Enter a numeric value: \") # take input while storing it in a variable\n",
    "        try: \n",
    "            test = int(val) # testing to see if input is an integer (numeric)\n",
    "        except:\n",
    "            print(\"Please enter a valid number\")\n",
    "            continue # 'continue' keyword skips to next step of while loop (basically restarting the loop)\n",
    "        numlist.append(int(val)) # append method to add values\n",
    "        print(\"Added \"+val+\" to list.\")\n",
    "    elif start == \"2\":\n",
    "        sum = 0\n",
    "        for num in numlist: # loop through list and add all values to sum variable\n",
    "            sum += num\n",
    "        print(\"Sum of numbers in list is \"+str(sum))\n",
    "    elif start == \"3\":\n",
    "        if len(numlist) > 0: # Make sure there are values in list to remove\n",
    "            print(\"Removed \"+str(numlist[len(numlist)-1])+\" from list.\")\n",
    "            numlist.pop()\n",
    "        else:\n",
    "            print(\"No values to delete\")\n",
    "    elif start == \"4\":\n",
    "        break # Break out of the while loop, or it will continue running forever\n",
    "    else:\n",
    "        continue"
   ]
  },
  {
   "cell_type": "markdown",
   "metadata": {},
   "source": [
    "##### Pseudocode\n",
    "   nums ← 1 to 100\n",
    "odd_sum ← 0\n",
    "\n",
    "FOR EACH score IN nums\n",
    "    IF score MOD 2 ≠ 0 THEN\n",
    "        odd_sum ← odd_sum + score\n",
    "    END IF\n",
    "END FOR\n",
    "\n",
    "DISPLAY (\"Sum of odd numbers in the list:\", odd_sum)"
   ]
  },
  {
   "cell_type": "code",
   "execution_count": null,
   "metadata": {},
   "outputs": [],
   "source": [
    "nums = range(1, 101)  # This creates a range of numbers from 1 to 100\n",
    "odd_sum = 0\n",
    "\n",
    "for score in nums:\n",
    "    if score % 2 != 0:\n",
    "        odd_sum += score\n",
    "\n",
    "print(\"Sum of odd numbers in the list:\", odd_sum)"
   ]
  },
  {
   "cell_type": "code",
   "execution_count": 3,
   "metadata": {},
   "outputs": [
    {
     "name": "stdout",
     "output_type": "stream",
     "text": [
      "Enter your tasks (type 'done' to finish):\n",
      "You have 3 task(s) on your list:\n",
      "- eat\n",
      "- sleep\n",
      "- drink\n"
     ]
    }
   ],
   "source": [
    "def gather_tasks():\n",
    "    tasks = []\n",
    "    print(\"Enter your tasks (type 'done' to finish):\")\n",
    "    \n",
    "    while True:\n",
    "        task = input(\"Task: \")\n",
    "        if task.lower() == 'done':\n",
    "            break\n",
    "        tasks.append(task)\n",
    "    \n",
    "    return tasks\n",
    "\n",
    "# Function to display tasks\n",
    "def display_tasks(tasks):\n",
    "    count = len(tasks)\n",
    "    print(f\"You have {count} task(s) on your list:\")  # No color\n",
    "    for task in tasks:\n",
    "        print(f\"- {task}\")  # No color\n",
    "\n",
    "# Main code\n",
    "if __name__ == \"__main__\":\n",
    "    user_tasks = gather_tasks()\n",
    "    display_tasks(user_tasks)"
   ]
  },
  {
   "cell_type": "markdown",
   "metadata": {},
   "source": [
    "### Homework Hacks"
   ]
  },
  {
   "cell_type": "code",
   "execution_count": 7,
   "metadata": {},
   "outputs": [
    {
     "name": "stdout",
     "output_type": "stream",
     "text": [
      "Removed the number from the list\n",
      "This is the new list [1, 2, 3, 4, 5, 6, 7, 8, 9]\n"
     ]
    }
   ],
   "source": [
    "myList = [1, 2, 3, 4, 5, 6, 7, 8, 9, 10]\n",
    "\n",
    "number = int(input(\"Enter a number to be removed from the list: \"))\n",
    "\n",
    "if number in myList:\n",
    "    print(\"Removed the number from the list\")\n",
    "    myList.remove(number)\n",
    "    print(\"This is the new list\", myList)\n",
    "else:\n",
    "    print(\"No number removed.\")"
   ]
  },
  {
   "cell_type": "raw",
   "metadata": {
    "vscode": {
     "languageId": "raw"
    }
   },
   "source": [
    "##### Pseudocode\n",
    "\n",
    "nums <- [1, 2, 3, 4, 5, 6, 7, 8, 9, 10, 11, 12, 13, 14, 15, 16, 17, 18, 19, 20, 21, 22, 23, 24, 25, 26, 27, 28, 29, 30]\n",
    "total <- 0\n",
    "odd_total <- 0\n",
    "\n",
    "FOR EACH score IN nums\n",
    "    total ← total + score\n",
    "    IF score MOD 3 = 0 THEN\n",
    "        odd_total ← odd_total + score\n",
    "    END IF\n",
    "END FOR"
   ]
  },
  {
   "cell_type": "code",
   "execution_count": 8,
   "metadata": {},
   "outputs": [
    {
     "name": "stdout",
     "output_type": "stream",
     "text": [
      "Total of numbers 465\n",
      "Total of odd numbers 165\n"
     ]
    }
   ],
   "source": [
    "nums = [1, 2, 3, 4, 5, 6, 7, 8, 9, 10, 11, 12, 13, 14, 15, 16, 17, 18, 19, 20, 21, 22, 23, 24, 25, 26, 27, 28, 29, 30]\n",
    "total = 0\n",
    "odd_total = 0\n",
    "\n",
    "for num in nums:\n",
    "    total += num\n",
    "    if num % 3 == 0:\n",
    "        odd_total += num\n",
    "\n",
    "print(\"Total of numbers\", total)\n",
    "print(\"Total of odd numbers\", odd_total)"
   ]
  },
  {
   "cell_type": "code",
   "execution_count": 9,
   "metadata": {},
   "outputs": [
    {
     "name": "stdout",
     "output_type": "stream",
     "text": [
      "Programming\n",
      "Reading\n",
      "Basketball\n",
      "Tennis\n",
      "Movies\n"
     ]
    }
   ],
   "source": [
    "hobbies = [\"Programming\", \"Reading\", \"Basketball\", \"Tennis\", \"Movies\"]\n",
    "\n",
    "for hobby in hobbies:\n",
    "    print(hobby)"
   ]
  },
  {
   "cell_type": "code",
   "execution_count": 10,
   "metadata": {},
   "outputs": [
    {
     "name": "stdout",
     "output_type": "stream",
     "text": [
      "Wrong\n",
      "Wrong\n"
     ]
    }
   ],
   "source": [
    "answers = [\"no\", \"yes\"]\n",
    "\n",
    "ans_1 = input(\"Is the sun green?\")\n",
    "ans_2 = input(\"Is Creed a movie series?\")\n",
    "\n",
    "# Question 1\n",
    "if ans_1.strip().lower() == answers[0]:\n",
    "    print(\"Correct\")\n",
    "elif ans_1.strip().lower() != answers[0]:\n",
    "    print(\"Wrong\")\n",
    "\n",
    "# Question 2\n",
    "if ans_2.strip().lower() == answers[1]:\n",
    "    print(\"Correct\")\n",
    "elif ans_2.strip().lower() != answers[1]:\n",
    "    print(\"Wrong\")"
   ]
  }
 ],
 "metadata": {
  "kernelspec": {
   "display_name": "venv",
   "language": "python",
   "name": "python3"
  },
  "language_info": {
   "codemirror_mode": {
    "name": "ipython",
    "version": 3
   },
   "file_extension": ".py",
   "mimetype": "text/x-python",
   "name": "python",
   "nbconvert_exporter": "python",
   "pygments_lexer": "ipython3",
   "version": "3.9.19"
  }
 },
 "nbformat": 4,
 "nbformat_minor": 2
}

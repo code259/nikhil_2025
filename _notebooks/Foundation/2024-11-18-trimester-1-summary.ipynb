{
 "cells": [
  {
   "cell_type": "raw",
   "metadata": {
    "vscode": {
     "languageId": "raw"
    }
   },
   "source": [
    "---\n",
    "layout: post\n",
    "title: Trimester 1 Summary\n",
    "description: For beginning of Trimester 2 review.\n",
    "type: issues\n",
    "comments: true\n",
    "---"
   ]
  },
  {
   "cell_type": "markdown",
   "metadata": {},
   "source": [
    "## Executive Summary for Trimester 1\n",
    "\n",
    "#### Executive Summary:\n",
    "- Self Grade: Earned 55/66 on MCQ, approximately 6 mistakes were silly mistakes based on misreading or not reading properly, and the other 5 were content related mistakes as described below. My most important contributions to sprint 3 were helping the initial design, the AI game (image posting, gemini AI prompt engineering, small features), backend to frontend integration for main post room and chat room.\n",
    "\n",
    "#### MCQ Mistakes and Content Learned:\n",
    "- 33% on Data Compression, 50% on Crowd Sourcing, Algorithmic Efficiency, 67% on Safe computing, 60% on Calling Procedures are some of lowest categories.\n",
    "- Crowd sourcing: Enables various individuals to access information and collect data, but it is not a valid approach to distributing computational workload.\n",
    "- Encryption (public and private keys): In public encryption, the sender's public keys encrypt the message, and the recipient's private key is used to decrypt it.\n",
    "- Time Complexity: n^2 time complexity is executable, and most polynomial time complexities are runnable for moderately large sample sizes. The exponential (i.e. 2^n) time complexities or factorial time complexities are a problem. In rare cases super-exponential (n^n) also cause issues.\n",
    "- Byte Encoding: A type of encoding where repeating motifs are abstracted with special characters, so it doesn't work in cases where no motifs are repeated.\n",
    "- Lossy and Lossless Transformations: Lossy transformations are where the data after encoding can't be restored, and lossless transformations are where data is compressed with a loss in data quality.\n",
    "- Silly Mistakes: Mistakes because didn't read the question carefully or didn't read all answers carefully.\n",
    "\n",
    "#### Specific Questions\n",
    "- Defining Internet Enabled Crowdsourcing\n",
    "- Results of the KeepPlaying Procedure\n",
    "- Encrypting and Decrypting using public key crytography\n",
    "- Infinite loops in undecidable problems\n",
    "- Runtime of algorithm for online retailer\n",
    "- Comparing smartphone and reading data in graph\n",
    "- Completing Robot Code by adding if statement\n",
    "- Shortening strings by replacing TH and IS\n",
    "- Compression by replacing TH and IS with characters\n",
    "- Procedure to determine the weather\n",
    "- Comparing robot algorithms\n",
    "- General Observations: On algorithms with long programs or answers, I tend to make foolish mistakes due to question length - may be a test taking skill to work on. And the general gaps in knowledge as mentioned previously.\n",
    "\n",
    "#### Sprint 3 Contributions\n",
    "- Initial Figma Design: Brought the idea of using Figma, and built the basic flow of the webpage and helped guided the design process.\n",
    "- AI Game: Made the chat feature, added the Modal, optimized the prompt to act like a realistic human to some extent. Added other small features for realism (the loaded prompt, the time delay, the \"typing...\" thing)\n",
    "- Backend Integration: Added the backend integration to the main posts page and the posts for the chat room. Used the REST API with fetch requests on the frontend. Sended data in JSON, using post and get requests, etc."
   ]
  }
 ],
 "metadata": {
  "language_info": {
   "name": "python"
  }
 },
 "nbformat": 4,
 "nbformat_minor": 2
}

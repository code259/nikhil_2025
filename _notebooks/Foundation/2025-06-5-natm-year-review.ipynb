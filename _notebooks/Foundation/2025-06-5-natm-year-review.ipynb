{
 "cells": [
  {
   "cell_type": "raw",
   "id": "cb32a1d1",
   "metadata": {
    "vscode": {
     "languageId": "raw"
    }
   },
   "source": [
    "---\n",
    "layout: post\n",
    "title: N@TM Museum Yearly Review\n",
    "description: Yearly Review Blog\n",
    "type: issues\n",
    "comments: true\n",
    "---"
   ]
  },
  {
   "cell_type": "markdown",
   "id": "ced24615",
   "metadata": {},
   "source": [
    "# N@TM (Night at the Museum) Experience\n",
    "\n",
    "## Trimester 3 N@TM\n",
    "\n",
    "Took Interest In: The border crossing application was my favorite from tonight's Night at the Museum. \n",
    "- The group's machine learning to predict border times was robust, and I found their methodology and the architecture they used fascinating.\n",
    "- Also the group had a nice clean UI that made it easy to interface with and use the various features of the website.\n",
    "- Group had core features such as tracking when the border wait time was the least on a long term scale using machine learning, had short term prediction using navigation tools as well providing a dynamic and robust solution to the problem.\n",
    "\n",
    "**My experience:**\n",
    "- My group presented our project about fire management, analysis, and prediction, and I got to talk with some other students about our program and had some great conversations about other potential solutions and ways to approach the problem. Overall, it was a great night and I enjoyed listening to everyone present their projects and learn more about computer science.\n",
    "\n",
    "**Takeaways:**\n",
    "- Our presentation can be improved a bit more to make it more consistent across groups, as for some groups we mainly focused on the tools page as it was the thing we first used to introduce the project. However, the more advanced interesting features weren't given the time they needed as we had a vast amount of things to showcase. I believe, in the future we should prioritize features and perhaps accept that not everything must be shown.\n",
    "- Most groups and individuals were impressed with our UI design and we got lots of compliments for the cohesiveness and frontend design.\n",
    "- Also many groups enjoyed the Machine Learning features and saw the use and robustness of the Machine Learning and were intrigued by our application.\n",
    "\n",
    "<img src=\"{{site.baseurl}}/images/natm1.JPG\">\n",
    "<img src=\"{{site.baseurl}}/images/natm2.JPG\">\n",
    "<img src=\"{{site.baseurl}}/images/natm3.JPG\">\n",
    "<img src=\"{{site.baseurl}}/images/natm4.PNG\">\n",
    "<img src=\"{{site.baseurl}}/images/natm5.PNG\">\n",
    "\n",
    "## Trimeter 2 N@TM\n",
    "\n",
    "Took Interest In: Period 1 Project (InterTravel)\n",
    "- Project Overview:\n",
    "    - A travel website that allows users to search for flights, hotels, and activities based on their preferences and budget.\n",
    "    - Users can create an account, save their favorite hotels, and give ratings as well.\n",
    "    - The website also offers a maps section with pinpoints on a map with various guides.\n",
    "    - One feature I thought was interesting was the ability for the user to create a custom packing list based on their travel plans.\n",
    "- Also saw the Ansh Kumar's website (ClubHub) and liked the very simple interface which was aesthetic, clean and simple to use and got some potential ideas for our website in the future.\n",
    "\n",
    "<img src=\"{{site.baseurl}}/images/natm_photo.JPG\">\n",
    "\n",
    "**Our Project Feedback:**\n",
    "\n",
    "<img src=\"{{site.baseurl}}/images/feedback_overview.png\">\n",
    "\n",
    "- It was really fun\n",
    "- Very clean looking with nice features\n",
    "- i liked how you guys incorporated stockfish chess engine into your website and the user experience was really simple and easy to use!\n",
    "- This website had lots of impressive features and the pictures of the chess game after playing were a great touch to the website. I honestly had no constructive criticism as the website was very well made.\n",
    "- I loved the chess feature and how you had too lose to play it\n",
    "- The pawns website can help the user gain a better experience when playing chess such as it can rate each movement.\n",
    "- Show something other than the chess feature.\n",
    "- Amazing website and helps people with chess\n",
    "- It was great, I rlly liked how well designed this site was\n",
    "- The chess analyzer looked really cool. As a chess player being able to analyze your moves, skill rating, ranking, and power bot all helps me to improve my chess skill. Each moves shows highlighted in yellow box made me happy because it was cool. i think better css styling would be great\n",
    "- Add an edit feature for chess moves. Very cool idea to download a file and analyze moves based off of a png file!\n",
    "- UI is a bit buggy and also the ELO selection could be a more elegant UI\n",
    "- Loved your games and features.\n",
    "- Very nice UI, I like your features they make a lot of sense! You mentioned there wasn’t token required so maybe consider adding that?\n",
    "- The website’s functionality is really cool. I like how I can choose the elo level and review my moves and analyze them. I don’t know if you had this, but it would be cool if when I analyze my moves, it gives me a rating on how I did and if it was a good or bad move\n",
    "- Great project overall, I‘m sure it takes a lot time and effort to code an actual chess bot. I also like how all the moves get recorded and how there is a leaderboard. The only thing I was wondering about was whether or not the bot is programmed to play strategically to play the smartest moves, or if - it simply does random moves. Other than that, great job!\n",
    "- awesome\n",
    "- Explain a bit more than just the fact that you can move the pieces around.\n",
    "- nice site\n",
    "- i liked how you guys incorporated stockfish chess engine into your website and how the user experience is very simple and easy to to use and navigate. one thing u would improve is making the website have a more consistent theme.\n",
    "- It was really good and it was interesting to learn about chess\n",
    "- I would have liked more color in the website but liked the functionality and explanation of how the website works\n",
    "\n",
    "**Takeaways**\n",
    "- Looks like our presentation can be improved a bit more to make it more consistent across groups, as for some groups we mainly focused on the game page as it was the most flashy and interesting intially. We could be more consistent with showing the analysis and other types of features.\n",
    "- Seems like UI was also something that came up, some better UI testing and making a cleaner more cohesive webpage would also go along way.\n",
    "- Expanding upon the analysis feature could also be a new implementation in the future, and expanding upon the analysis API and displying it with a simpler analysis page UI.\n",
    "- Add more explanation for game function on the game and analysis as some users seemed a bit confused."
   ]
  }
 ],
 "metadata": {
  "language_info": {
   "name": "python"
  }
 },
 "nbformat": 4,
 "nbformat_minor": 5
}

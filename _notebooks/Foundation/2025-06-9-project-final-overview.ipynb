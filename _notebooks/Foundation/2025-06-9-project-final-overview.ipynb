{
 "cells": [
  {
   "cell_type": "raw",
   "id": "4d91bc15",
   "metadata": {
    "vscode": {
     "languageId": "raw"
    }
   },
   "source": [
    "---\n",
    "layout: post\n",
    "title: Projects Final Review\n",
    "description: Projects Final Review\n",
    "type: issues\n",
    "comments: true\n",
    "---"
   ]
  },
  {
   "cell_type": "markdown",
   "id": "d08aebf4",
   "metadata": {},
   "source": [
    "## Projects\n",
    "\n",
    "### Pyre Project\n",
    "- Created comprehensive Fire Dashboard Page with Weather API integration, Real Time Fire Incidents (scraped in real time from San Diego PD website with fire incident reports), detailed map with current fire incidents from NASA data, and Machine Learning Integration for Hecate Fire Size prediction.\n",
    "- Created multiple Machine Learning Algorithms for Historical page: numerous regression models (linear, logistic, seasonal based), clustering models, and graphed/visualized data with numerous graphs and animations.\n",
    "- Created fire evacuation route page with suggestions for areas in remote areas based on current locations with drive location using Google Maps integration as well.\n",
    "- Created crowd sourcing page with Fire Hazard Reporting with backend REST APis and CRUD application with the entries stored in the database for admin use, where the admin can update status of request as either: pending, verified, resolved.\n",
    "- Created notification system using Twilio API that can be expanded in future, but takes user phone number and makes call from purchase (free phone number) to the user to inform them of fire in the area.\n",
    "- Consolidated & simplified website with Pranav to put tools in on page, created modals to make the chat page accesible everywhere, and add other always accesible buttons for simplified website UX and use.\n",
    "- Managed team as assistant Scrum Master in Collaboration with Pranav in first part of the trimester, managing planning with issues, standups and other agile methodologies. Later after breaking up into Earthquake and Fire Teams, I lead the fire team and lead collaboration between fire and earthquake team.\n",
    "- Deployed website backend with Pranav to ensure that ML models ran on the backend and all functionalities were working on the deployed website, especially after integration into Open Coding Society.\n",
    "\n",
    "<img src=\"{{site.baseurl}}/images/tri3_dashboard.png\">\n",
    "<img src=\"{{site.baseurl}}/images/tri3_tools.png\">\n",
    "<img src=\"{{site.baseurl}}/images/tri3_crowd.png\">\n",
    "<img src=\"{{site.baseurl}}/images/tri3_chat.png\">\n",
    "\n",
    "### Pawnsy Project\n",
    "\n",
    "- Created Stockfish Engine (varying difficulty) and implemented it with Javascript Chess Libraries\n",
    "- Create Stockfish Analysis for Evaluation\n",
    "- Created Game Manager with CRUD and Automatic Additions and Implementation with Analysis Page\n",
    "- Performed Deployment Setup (prior to Vasanth's shift to Deployment Assistant)\n",
    "- Complete integration of my feature with the User API (helped Nikhil N and Vasanth implement user api as well)\n",
    "\n",
    "**Some features I worked on:**\n",
    "\n",
    "<img src=\"{{site.baseurl}}/images/accom1.png\">\n",
    "Caption: Created Stockfish Engine (varying difficulty) and implemented it with Javascript Chess Libraries\n",
    "\n",
    "<img src=\"{{site.baseurl}}/images/accom2.png\">\n",
    "Caption: Created Stockfish Engine (varying difficulty) and implemented it with Javascript Chess Libraries\n",
    "\n",
    "### Trimester 1 Project\n",
    "\n",
    "- Initial Figma Design: Brought the idea of using Figma, and built the basic flow of the webpage and helped guided the design process.\n",
    "- AI Game: Made the chat feature, added the Modal, optimized the prompt to act like a realistic human to some extent. Added other small features for realism (the loaded prompt, the time delay, the “typing…” thing)\n",
    "- Backend Integration: Added the backend integration to the main posts page and the posts for the chat room. Used the REST API with fetch requests on the frontend. Sended data in JSON, using post and get requests, etc.\n",
    "\n",
    "**Some features I worked on:**\n",
    "<img src=\"{{site.baseurl}}/images/tri1_demo1.png\">\n",
    "<img src=\"{{site.baseurl}}/images/tri1_demo2.png\">"
   ]
  },
  {
   "cell_type": "markdown",
   "id": "036a4320",
   "metadata": {},
   "source": [
    "## Unique Qualities\n",
    "\n",
    "### 1. **Full-Stack Development and API Integration**  \n",
    "Throughout the project, I developed strong skills in full-stack development by creating important features like the Stockfish chess engine implementation and CRUD operations for the game manager. This involved building both the frontend interfaces and backend APIs that allowed smooth communication between the user and the server. Working with APIs helped me understand how data flows through an application and how to connect different components effectively. It also taught me to think carefully about the user experience, making sure features worked seamlessly and were easy to use.\n",
    "\n",
    "---\n",
    "\n",
    "### 2. **Scrum Master and Agile Team Leadership**  \n",
    "As the scrum master, I learned a lot about planning and organizing teamwork. I helped break down tasks into smaller goals, assigned them to teammates, and reminded everyone to stay on track using Slack. I supported others when they faced challenges and spent extra time helping them solve problems. Although I could improve on encouraging more collaboration during class time, this role taught me how important clear communication and regular check-ins are for keeping a team productive and connected. It also helped me see how Agile methods, like breaking work into sprints, can make complex projects more manageable.\n",
    "\n",
    "---\n",
    "\n",
    "### 3. **Presentation and Communication Skills**  \n",
    "Throughout the project, I practiced explaining technical concepts clearly by writing detailed feature blogs and preparing project demos. Early on, I focused too much on just finishing the work rather than thinking about how others would understand it. However, by the end, I improved my presentations by planning them better and using clearer language. This helped me make information accessible and engaging for my audience. These communication skills are important because they allow me to share what I’ve learned and collaborate more effectively with others.\n",
    "\n",
    "---\n",
    "\n",
    "### 4. **Deployment and Scalable Application Management**  \n",
    "Working on the deployment of our project gave me valuable hands-on experience with how to make a web app available online. I learned the challenges involved in deploying an app at scale, including setting up environments and managing cloud storage. This experience taught me the importance of writing clean, well-documented code from the beginning, as it makes debugging and future updates much easier. I also realized how crucial it is to plan deployment steps early in the process to avoid last-minute issues.\n",
    "\n",
    "---\n",
    "\n",
    "### 5. **Problem Solving and Code Quality Improvement**  \n",
    "During development, I learned to break large features into smaller, manageable parts, which made debugging and testing easier. I also understood the need for writing modular and well-organized code instead of putting everything in one place, which improves the developer experience for myself and others. Reflecting on my work, I know I can improve by adopting better code standards (like PEP 8) and writing more comments and documentation. This focus on code quality will help ensure that projects remain maintainable and scalable as they grow.\n",
    "\n",
    "---\n",
    "\n",
    "### 6. **Machine Learning for Data Analysis and Prediction**  \n",
    "I explored machine learning techniques using tools like Scikit-Learn to analyze historical data and build predictive models. For example, I worked on fire size prediction by applying methods such as linear and logistic regression, clustering, and advanced regression techniques. I also learned how to handle seasonal trends and components through models like seasonal decomposition and Facebook’s Prophet. These skills allowed me to map and interpret complex data patterns, giving valuable insights for real-world problems like wildfire forecasting. This experience deepened my understanding of how machine learning can be applied beyond coding to solve environmental and scientific challenges."
   ]
  }
 ],
 "metadata": {
  "language_info": {
   "name": "python"
  }
 },
 "nbformat": 4,
 "nbformat_minor": 5
}

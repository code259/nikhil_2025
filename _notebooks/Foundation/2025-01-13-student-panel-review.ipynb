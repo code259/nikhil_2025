{
 "cells": [
  {
   "cell_type": "raw",
   "metadata": {
    "vscode": {
     "languageId": "raw"
    }
   },
   "source": [
    "---\n",
    "layout: post\n",
    "title: Student Panel Review\n",
    "description: Lessons and advice from students in engineering and CS majors\n",
    "type: issues\n",
    "comments: true\n",
    "---"
   ]
  },
  {
   "cell_type": "markdown",
   "metadata": {},
   "source": [
    "### Photo Proof\n",
    "\n",
    "<img src=\"{{site.baseurl}}/images/proof.JPG\">"
   ]
  },
  {
   "cell_type": "markdown",
   "metadata": {},
   "source": [
    "### Notes from Girls in CSP Student Panel\n",
    "\n",
    "- Left individual has clear speaking and was able to articulate thoughts clearly. **Connection:** Clear speaking is useful for showcasing idea and being able to be concise (like 3-7 rule in presentations)\n",
    "- Clubs in college have interviews. **Connection:** Having projects to showcase are useful to getting clubs and internships alike.\n",
    "- One individual got interested in STEM because he is in San diego and is always around it. **Connection:** Being around the environment you want to learn about is useful, and should seek to immerse yourself in the field of interest.\n",
    "- Agile methodology (sprints, standups, etc) has been used in clubs. And one individual said her employer were impressed at her internship with northrop and grumman. **Connection:** Ability to use Github and agile is useful for working in teams and is impressive to some employers.\n",
    "- Uses flowcharts and use draw.io, methodology will also start with a flow chart **Connection:** Used extensively in college and is a useful planning tool.\n",
    "- Used UML diagrams, use cases diagram (like user stories -- connection)\n",
    "- Manages 100 people in some club, engineering manager. **Connection:** Leading teams in certain clubs like robotics is a useful skill and good way to build leadership experience.\n",
    "- One individual ,ade a project with djikstra, with a simulation to depict the path finding capabilities, other person made a web scraping project.\n",
    "- Commenting is a requirement in college, and is a key comment of write clear high quality code.\n",
    "- Utilizes linkedin for networking **Connection:** inkedin is a useful networking tool to build relationships\n",
    "- Another individual made a project that detected emotions and provided quotes\n",
    "\n"
   ]
  }
 ],
 "metadata": {
  "language_info": {
   "name": "python"
  }
 },
 "nbformat": 4,
 "nbformat_minor": 2
}

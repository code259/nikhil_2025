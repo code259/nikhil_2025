{
 "cells": [
  {
   "cell_type": "raw",
   "id": "ea825f7b",
   "metadata": {
    "vscode": {
     "languageId": "raw"
    }
   },
   "source": [
    "---\n",
    "layout: post\n",
    "title: Big Idea 1 Lesson 1.14\n",
    "description: Big Idea 1 Lesson 1.14\n",
    "type: issues\n",
    "comments: true\n",
    "---"
   ]
  },
  {
   "cell_type": "markdown",
   "id": "7a85ffd4",
   "metadata": {},
   "source": [
    "# Popcorn Hacks"
   ]
  },
  {
   "cell_type": "markdown",
   "id": "2ac4212e",
   "metadata": {},
   "source": [
    "### Popcorn Hack 1"
   ]
  },
  {
   "cell_type": "code",
   "execution_count": 2,
   "id": "0ff75b8c",
   "metadata": {
    "vscode": {
     "languageId": "java"
    }
   },
   "outputs": [
    {
     "name": "stdout",
     "output_type": "stream",
     "text": [
      "My dog Buddy is a Golden Retriever!\n"
     ]
    }
   ],
   "source": [
    "// Work by Nikhil Maturi\n",
    "\n",
    "public class Dog {\n",
    "    // Properties\n",
    "    String name;\n",
    "    String breed;  // Added breed property\n",
    "\n",
    "    // Constructor\n",
    "    public Dog(String name, String breed) {\n",
    "        this.name = name;\n",
    "        this.breed = breed;\n",
    "    }\n",
    "\n",
    "    // Method to print dog's name and breed\n",
    "    public void printDogInfo() {\n",
    "        System.out.println(\"My dog \" + name + \" is a \" + breed + \"!\");\n",
    "    }\n",
    "}\n",
    "\n",
    "var dog1 = new Dog(\"Buddy\", \"Golden Retriever\");\n",
    "dog1.printDogInfo(); // Output: My dog Buddy is a Golden Retriever!"
   ]
  },
  {
   "cell_type": "markdown",
   "id": "0a0188ef",
   "metadata": {},
   "source": [
    "### Popcorn Hack 2"
   ]
  },
  {
   "cell_type": "code",
   "execution_count": 3,
   "id": "9ec96b7b",
   "metadata": {
    "vscode": {
     "languageId": "java"
    }
   },
   "outputs": [
    {
     "data": {
      "text/plain": [
       "10"
      ]
     },
     "execution_count": 3,
     "metadata": {},
     "output_type": "execute_result"
    }
   ],
   "source": [
    "// Work by Nikhil Maturi\n",
    "\n",
    "public class Counter {\n",
    "    private int count;\n",
    "\n",
    "    // Addition\n",
    "    public void add(int x) {\n",
    "        count += x;\n",
    "    }\n",
    "\n",
    "    // Subtraction\n",
    "    public void subtract(int x) {\n",
    "        count -= x;\n",
    "    }\n",
    "\n",
    "    // Multiplication\n",
    "    public void multiply(int x) {\n",
    "        count *= x;\n",
    "    }\n",
    "\n",
    "    // Division\n",
    "    public void divide(int x) {\n",
    "        if (x != 0) {\n",
    "            count /= x;\n",
    "        } else {\n",
    "            System.out.println(\"Cannot divide by zero!\");\n",
    "        }\n",
    "    }\n",
    "\n",
    "    // Get current count\n",
    "    public int getCount() {\n",
    "        return count;\n",
    "    }\n",
    "}\n",
    "\n",
    "// Use it:\n",
    "Counter c = new Counter();\n",
    "c.add(10);           // count = 10\n",
    "c.subtract(3);       // count = 7\n",
    "c.multiply(4);       // count = 28\n",
    "c.divide(7);         // count = 4\n",
    "c.add(6);            // count = 10\n",
    "c.getCount();        // returns 10\n"
   ]
  },
  {
   "cell_type": "markdown",
   "id": "b3bd8535",
   "metadata": {},
   "source": [
    "# Homework Hacks"
   ]
  },
  {
   "cell_type": "code",
   "execution_count": 1,
   "id": "b41b872c",
   "metadata": {
    "vscode": {
     "languageId": "java"
    }
   },
   "outputs": [
    {
     "name": "stdout",
     "output_type": "stream",
     "text": [
      "=== Student Grade Tracker System ===\n",
      "\n",
      "Creating student: Emma Rodriguez\n",
      "Student created successfully!\n",
      "\n",
      "--- Adding Grades for Emma ---\n",
      "Adding grade: 95 points\n",
      "Adding grade: 88 points\n",
      "Adding grade: 92 points\n",
      "Adding grade: 85 points\n",
      "Adding extra credit: 0 points\n",
      "\n",
      "--- Emma Rodriguez's Grade Report ---\n",
      "Student Name: Emma Rodriguez\n",
      "Total Points: 360\n",
      "Assignments Completed: 4\n",
      "Current Average: 90\n",
      "Letter Grade: A\n",
      "Status: Excellent work!\n",
      "\n",
      "========================================\n",
      "\n",
      "Creating student: James Wilson\n",
      "Student created successfully!\n",
      "\n",
      "--- Adding Grades for James ---\n",
      "Adding grade: 78 points\n",
      "Adding grade: 82 points\n",
      "Adding grade: 75 points\n",
      "\n",
      "--- James Wilson's Grade Report ---\n",
      "Student Name: James Wilson\n",
      "Total Points: 235\n",
      "Assignments Completed: 3\n",
      "Current Average: 78.33\n",
      "Letter Grade: C\n",
      "Status: Keep working hard!\n",
      "\n",
      "========================================\n",
      "\n",
      "Final Summary:\n",
      "Emma Rodriguez - Average: 90 (A)\n",
      "James Wilson - Average: 78.33 (C)\n"
     ]
    }
   ],
   "source": [
    "import java.text.DecimalFormat;\n",
    "\n",
    "public class StudentGradeTracker {\n",
    "\n",
    "    // Student class definition\n",
    "    public static class Student {\n",
    "        // Required instance variables\n",
    "        private String name;\n",
    "        private int totalPoints;\n",
    "        private int numAssignments;\n",
    "\n",
    "        // Constructor\n",
    "        public Student(String name) {\n",
    "            this.name = name;\n",
    "            this.totalPoints = 0;\n",
    "            this.numAssignments = 0;\n",
    "            System.out.println(\"Creating student: \" + this.name);\n",
    "            System.out.println(\"Student created successfully!\\n\");\n",
    "        }\n",
    "\n",
    "        // Void method that modifies grades: add a normal assignment grade\n",
    "        public void addGrade(int points) {\n",
    "            System.out.println(\"Adding grade: \" + points + \" points\");\n",
    "            this.totalPoints += points;\n",
    "            this.numAssignments++;\n",
    "        }\n",
    "\n",
    "        // Additional void method that modifies grades (extra credit / bonus)\n",
    "        public void addExtraCredit(int points) {\n",
    "            System.out.println(\"Adding extra credit: \" + points + \" points\");\n",
    "            this.totalPoints += points;\n",
    "            // note: extra credit does NOT increment numAssignments in this implementation\n",
    "        }\n",
    "\n",
    "        // Void method to display a formatted report\n",
    "        public void printReport() {\n",
    "            DecimalFormat df = new DecimalFormat(\"#.##\"); // up to 2 decimal places\n",
    "            double avg = getAverage();\n",
    "            System.out.println(\"\\n--- \" + this.name + \"'s Grade Report ---\");\n",
    "            System.out.println(\"Student Name: \" + this.name);\n",
    "            System.out.println(\"Total Points: \" + this.totalPoints);\n",
    "            System.out.println(\"Assignments Completed: \" + this.numAssignments);\n",
    "            System.out.println(\"Current Average: \" + df.format(avg));\n",
    "            System.out.println(\"Letter Grade: \" + getLetterGrade());\n",
    "            System.out.println(\"Status: \" + statusMessage());\n",
    "            System.out.println(\"\\n========================================\\n\");\n",
    "        }\n",
    "\n",
    "        // Non-void method: compute average (double)\n",
    "        public double getAverage() {\n",
    "            if (this.numAssignments == 0) return 0.0;\n",
    "            return (double) this.totalPoints / this.numAssignments;\n",
    "        }\n",
    "\n",
    "        // Non-void method: return letter grade as String\n",
    "        public String getLetterGrade() {\n",
    "            double avg = getAverage();\n",
    "            if (avg >= 90.0) return \"A\";\n",
    "            else if (avg >= 80.0) return \"B\";\n",
    "            else if (avg >= 70.0) return \"C\";\n",
    "            else if (avg >= 60.0) return \"D\";\n",
    "            else return \"F\";\n",
    "        }\n",
    "\n",
    "        // Helper: short status message based on letter grade\n",
    "        private String statusMessage() {\n",
    "            String letter = getLetterGrade();\n",
    "            switch (letter) {\n",
    "                case \"A\": return \"Excellent work!\";\n",
    "                case \"B\": return \"Good job — keep it up!\";\n",
    "                case \"C\": return \"Keep working hard!\";\n",
    "                case \"D\": return \"Needs improvement — ask for help!\";\n",
    "                default:  return \"At risk — extra effort recommended!\";\n",
    "            }\n",
    "        }\n",
    "    }\n",
    "\n",
    "    // Main demonstration: create students and use all methods\n",
    "    public static void main(String[] args) {\n",
    "        System.out.println(\"=== Student Grade Tracker System ===\\n\");\n",
    "\n",
    "        // Student 1: Emma Rodriguez\n",
    "        Student emma = new Student(\"Emma Rodriguez\");\n",
    "\n",
    "        System.out.println(\"--- Adding Grades for Emma ---\");\n",
    "        emma.addGrade(95);\n",
    "        emma.addGrade(88);\n",
    "        emma.addGrade(92);\n",
    "        emma.addGrade(85);\n",
    "        // show an example of extra credit\n",
    "        emma.addExtraCredit(0); // optional; here it has no effect but demonstrates method\n",
    "\n",
    "        emma.printReport();\n",
    "\n",
    "        // Student 2: James Wilson\n",
    "        Student james = new Student(\"James Wilson\");\n",
    "\n",
    "        System.out.println(\"--- Adding Grades for James ---\");\n",
    "        james.addGrade(78);\n",
    "        james.addGrade(82);\n",
    "        james.addGrade(75);\n",
    "\n",
    "        james.printReport();\n",
    "\n",
    "        // Final summary\n",
    "        DecimalFormat df = new DecimalFormat(\"#.##\");\n",
    "        System.out.println(\"Final Summary:\");\n",
    "        System.out.println(emma.name + \" - Average: \" + df.format(emma.getAverage()) + \" (\" + emma.getLetterGrade() + \")\");\n",
    "        System.out.println(james.name + \" - Average: \" + df.format(james.getAverage()) + \" (\" + james.getLetterGrade() + \")\");\n",
    "    }\n",
    "}\n",
    "\n",
    "StudentGradeTracker.main(null);"
   ]
  }
 ],
 "metadata": {
  "kernelspec": {
   "display_name": "Java",
   "language": "java",
   "name": "java"
  },
  "language_info": {
   "codemirror_mode": "java",
   "file_extension": ".jshell",
   "mimetype": "text/x-java-source",
   "name": "Java",
   "pygments_lexer": "java",
   "version": "18.0.1.1+2-6"
  }
 },
 "nbformat": 4,
 "nbformat_minor": 5
}

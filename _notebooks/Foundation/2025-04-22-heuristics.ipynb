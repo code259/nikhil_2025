{
 "cells": [
  {
   "cell_type": "raw",
   "id": "10b73024",
   "metadata": {
    "vscode": {
     "languageId": "raw"
    }
   },
   "source": [
    "---\n",
    "layout: post\n",
    "title: Heuristics and Undecidable Problems Teach Teach\n",
    "description: Heuristics and Undecidable Problems Teach Teach Blog\n",
    "type: issues\n",
    "comments: true\n",
    "---"
   ]
  },
  {
   "cell_type": "markdown",
   "id": "db462417",
   "metadata": {
    "vscode": {
     "languageId": "raw"
    }
   },
   "source": [
    "### Popcorn Hack #1\n",
    "\n",
    "<img src=\"{{site.baseurl}}/images/halting.png\">\n",
    "\n",
    "The Halting Machine Simulator lets you test whether a given program finishes running (halts) or loops forever, demonstrating the concept behind the Halting Problem. Proves that there's no general algorithm that can determine whether every possible program/input combination halts or not. More generally, the halting problem is the problem of determining, from a description of an arbitrary computer program and an input, whether the program will finish running."
   ]
  },
  {
   "cell_type": "markdown",
   "id": "2df6333b",
   "metadata": {},
   "source": [
    "### DFS (Depth First Search) - Popcorn Hack #2"
   ]
  },
  {
   "cell_type": "code",
   "execution_count": 3,
   "id": "7a7116c8",
   "metadata": {},
   "outputs": [],
   "source": [
    "graph = {\n",
    "    'A': ['B', 'C', 'E'],\n",
    "    'B': ['A', 'D'],\n",
    "    'C': ['A', 'E'],\n",
    "    'D': ['B', 'E'],\n",
    "    'E': ['A', 'C', 'D']\n",
    "}"
   ]
  },
  {
   "cell_type": "code",
   "execution_count": 4,
   "id": "b86a67d4",
   "metadata": {},
   "outputs": [
    {
     "name": "stdout",
     "output_type": "stream",
     "text": [
      "A B D E C "
     ]
    }
   ],
   "source": [
    "def dfs(graph, start, visited=None):\n",
    "    if visited is None:\n",
    "        visited = set()\n",
    "    \n",
    "    visited.add(start)\n",
    "    print(start, end=\" \")\n",
    "    \n",
    "    for neighbor in graph[start]:\n",
    "        if neighbor not in visited:\n",
    "            dfs(graph, neighbor, visited)\n",
    "\n",
    "# Using our example graph\n",
    "dfs(graph, 'A')  # Output: A B D E C"
   ]
  },
  {
   "cell_type": "markdown",
   "id": "eca3ea34",
   "metadata": {},
   "source": [
    "### BFS (Breadth First Search) Popcorn Hack #3"
   ]
  },
  {
   "cell_type": "code",
   "execution_count": 5,
   "id": "ef46c3d3",
   "metadata": {},
   "outputs": [
    {
     "name": "stdout",
     "output_type": "stream",
     "text": [
      "A B C E D "
     ]
    }
   ],
   "source": [
    "from collections import deque\n",
    "\n",
    "def bfs(graph, start):\n",
    "    visited = set()\n",
    "    queue = deque([start])\n",
    "    visited.add(start)\n",
    "    \n",
    "    while queue:\n",
    "        vertex = queue.popleft()\n",
    "        print(vertex, end=\" \")\n",
    "        \n",
    "        for neighbor in graph[vertex]:\n",
    "            if neighbor not in visited:\n",
    "                visited.add(neighbor)\n",
    "                queue.append(neighbor)\n",
    "\n",
    "# Using our example graph\n",
    "bfs(graph, 'A')  # Output: A B C E D"
   ]
  },
  {
   "cell_type": "markdown",
   "id": "ffc6bb2b",
   "metadata": {},
   "source": [
    "### Practice Problems"
   ]
  },
  {
   "cell_type": "markdown",
   "id": "ffd85c97",
   "metadata": {},
   "source": [
    "### MCQ 1\n",
    "\n",
    "<img src=\"{{site.baseurl}}/images/und_mcq1.png\">\n",
    "\n",
    "B: Algorithm II uses a heuristic approach to provide an approximate solution in reasonable time. Explanation: Algorithm II is implementing the Nearest Neighbor heuristic. While it may not find the optimal solution, it runs in polynomial time (O(n²)), which is considered reasonable, unlike Algorithm I which would take factorial time (O(n!)).\n",
    "\n",
    "### MCQ 2\n",
    "\n",
    "<img src=\"{{site.baseurl}}/images/und_mcq2.png\">\n",
    "\n",
    "D: There exist some problems that cannot be solved using any algorithm. Explanation: These are known as undecidable problems in computer science. No matter how powerful a computer is, or how advanced algorithms become, there are some problems (like the Halting Problem) that no algorithm can ever solve for all possible inputs."
   ]
  },
  {
   "cell_type": "markdown",
   "id": "831fb588",
   "metadata": {},
   "source": [
    "## Homework"
   ]
  },
  {
   "cell_type": "markdown",
   "id": "1ffd75b5",
   "metadata": {},
   "source": [
    "### Part 1:\n",
    "\n",
    "Another real-life undecidable problem is checking if two computer programs always do the exact same thing (called program equivalence). Even if two programs look different, there’s no guaranteed way to tell if they’ll always give the same results for every possible input—no matter how smart your tools are—because this would also solve the Halting Problem."
   ]
  },
  {
   "cell_type": "markdown",
   "id": "45ac5e46",
   "metadata": {},
   "source": [
    "### Part 2\n",
    "\n",
    "<img src=\"{{site.baseurl}}/images/tps.png\">"
   ]
  },
  {
   "cell_type": "code",
   "execution_count": null,
   "id": "6462796f",
   "metadata": {},
   "outputs": [
    {
     "name": "stdout",
     "output_type": "stream",
     "text": [
      "Visit order: [0, 1, 2, 4, 3, 0]\n",
      "Total distance: 22.020939245503307\n"
     ]
    }
   ],
   "source": [
    "import math\n",
    "\n",
    "def distance(a, b):\n",
    "    return math.sqrt((a[0] - b[0]) ** 2 + (a[1] - b[1]) ** 2)\n",
    "\n",
    "def nearest_neighbor_tsp(cities):\n",
    "    n = len(cities)\n",
    "    visited = [False] * n\n",
    "    path = []\n",
    "    total_distance = 0.0\n",
    "\n",
    "    current_city = 0\n",
    "    path.append(current_city)\n",
    "    visited[current_city] = True\n",
    "\n",
    "    for _ in range(n - 1):\n",
    "        nearest_city = None\n",
    "        min_dist = float('inf')\n",
    "\n",
    "        for i in range(n):\n",
    "            if not visited[i]:\n",
    "                dist = distance(cities[current_city], cities[i])\n",
    "                if dist < min_dist:\n",
    "                    min_dist = dist\n",
    "                    nearest_city = i\n",
    "\n",
    "        path.append(nearest_city)\n",
    "        visited[nearest_city] = True\n",
    "        total_distance += min_dist\n",
    "        current_city = nearest_city\n",
    "\n",
    "    # Return to starting city\n",
    "    total_distance += distance(cities[current_city], cities[path[0]])\n",
    "    path.append(path[0])  # Complete the cycle\n",
    "\n",
    "    return path, total_distance\n",
    "\n",
    "# Example usage\n",
    "cities = [(0, 0), (2, 3), (5, 2), (6, 6), (8, 3)]\n",
    "path, total_distance = nearest_neighbor_tsp(cities)\n",
    "print(\"Visit order:\", path)\n",
    "print(\"Total distance:\", total_distance)"
   ]
  },
  {
   "cell_type": "markdown",
   "id": "9408756d",
   "metadata": {},
   "source": [
    "### Part 3\n",
    "\n",
    "A real-world example of using heuristics is Google Maps when it finds the fastest driving route. The app uses quick guesses based on traffic, road types, and speed limits to find a good path. It doesn’t check every possible route because there are too many combinations, which would take too long. Instead, it picks a route that’s probably the fastest, even if it’s not perfect. This helps people get directions quickly without waiting for a computer to try every option."
   ]
  },
  {
   "cell_type": "markdown",
   "id": "b7b9c4d1",
   "metadata": {},
   "source": [
    "### Part 4\n",
    "\n",
    "<img src=\"{{site.baseurl}}/images/kahoot.png\">"
   ]
  }
 ],
 "metadata": {
  "kernelspec": {
   "display_name": "venv",
   "language": "python",
   "name": "python3"
  },
  "language_info": {
   "codemirror_mode": {
    "name": "ipython",
    "version": 3
   },
   "file_extension": ".py",
   "mimetype": "text/x-python",
   "name": "python",
   "nbconvert_exporter": "python",
   "pygments_lexer": "ipython3",
   "version": "3.9.19"
  }
 },
 "nbformat": 4,
 "nbformat_minor": 5
}

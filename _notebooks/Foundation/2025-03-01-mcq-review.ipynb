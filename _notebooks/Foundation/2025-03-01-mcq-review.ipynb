{
 "cells": [
  {
   "cell_type": "raw",
   "metadata": {
    "vscode": {
     "languageId": "raw"
    }
   },
   "source": [
    "---\n",
    "layout: post\n",
    "title: MCQ Review\n",
    "description: MCQ Review Blog for Final\n",
    "type: issues\n",
    "comments: true\n",
    "---"
   ]
  },
  {
   "cell_type": "markdown",
   "metadata": {},
   "source": [
    "### MCQ Review\n",
    "\n",
    "**Categories for Improvement**\n",
    "-\n",
    "\n",
    "**Question Review**\n",
    "<img src=\"{{site.baseurl}}/images/mcq_questions.png\">\n",
    "\n",
    "- Q11 Color represented by binary triplet: Did the binary to base 10 conversion of the RGB triplet given wrong (11111111, 11111111, 11110000), I approximated  the final number instead of calcuating it which was a mistake.\n",
    "- Q15 Compare output of program a and b: While half of my logic was correct (i.e the part that identified both programs have same number of entires), I thought they have different values when they didn't. Going through a few concrete examples for each algorithm would be a useful tool in future problems.\n",
    "- Q18 Algorithm to move robot to goal: Didn't read the question correctly, I thought that the black section was a walll rather than something that termiantes the robot.\n",
    "- Q27 Existence of unsolvable problems: Moore's Law is the observation that the number of transistors on a computer chip doubles roughly every two years, and this improves performance thus by this observation performance is not a problem. Rather it is the lack of algorithms to solve certain complex problems, although some optimization problems are limited by classical computer's efficiency and provide a premise and usecase for quantum computing in the future. The algorithm option is the better answer despite the other option choice holding true in some cases.\n",
    "- Q40 Role of certificate authorities: Didn't know that a certificate authority verifies the authenticity of encryption keys used in secured communications.\n",
    "- Q50 Reasonable time algorithms: I knew that 1 and 3 were reasonable time but wasn't sure if n^2 was considered reasnonable time for a large n, thus choose the last one despite it not making complete sense. Will employ process of elimination in the future in the future, and will consider n^2 as reasonable run time.\n",
    "- Q66 Error in counting perfect numbers: Logical mistake - didn't read the purpose of the algorithm correctly and thus got wrong answer.\n",
    "- Q67 Error in numOccurrences procedure: Didn't understand the question and what it was asking for, moreover the purpose of the algorithm and its function was confusing for this question.\n",
    "\n"
   ]
  }
 ],
 "metadata": {
  "language_info": {
   "name": "python"
  }
 },
 "nbformat": 4,
 "nbformat_minor": 2
}

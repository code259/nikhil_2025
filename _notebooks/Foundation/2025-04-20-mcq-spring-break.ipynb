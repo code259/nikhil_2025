{
 "cells": [
  {
   "cell_type": "raw",
   "id": "497d23b9",
   "metadata": {
    "vscode": {
     "languageId": "raw"
    }
   },
   "source": [
    "---\n",
    "layout: post\n",
    "title: MCQ Review Spring Break\n",
    "description: MCQ Review Blog from Spring Break\n",
    "type: issues\n",
    "comments: true\n",
    "---"
   ]
  },
  {
   "cell_type": "markdown",
   "id": "eabbf419",
   "metadata": {},
   "source": [
    "## Breakdown\n",
    "\n",
    "<img src=\"{{site.baseurl}}/images/mcq_topic_spring.png\">\n",
    "\n",
    "<img src=\"{{site.baseurl}}/images/mcq_skill_spring.png\">\n",
    "\n",
    "<img src=\"{{site.baseurl}}/images/mcq_bigidea_spring.png\">\n",
    "\n",
    "## Questions\n",
    "**Score**: 66/70\n",
    "\n",
    "<img src=\"{{site.baseurl}}/images/mcq_wrong_spring.png\">\n",
    "\n",
    "### Question 7\n",
    "\n",
    "<img src=\"{{site.baseurl}}/images/mcq_question7.png\">\n",
    "\n",
    "- Why I got it wrong: When taking the test, mentally simulated the algorithm wrong - like I read the algorithm described and executed it wrong in my head when I was visualizing its execution which lead to the wrong answer. In the future, perhaps writing it out on paper (if available) could improve my accuracy for these types of questions.\n",
    "\n",
    "- Correct Answer Explanation: The game piece begins at the rightmost black space. The piece moves one space to the left to a yellow space, and the counter is incremented to 1. The piece then moves three spaces to the left to another yellow space, and the counter is incremented to 2. The piece then moves three spaces to the left to a green space, and the counter is incremented to 3. The piece then moves two spaces to the right to the red space, and the counter is incremented to 4. The algorithm terminates now that the piece is in the red space.\n",
    "\n",
    "### Question 30\n",
    "\n",
    "<img src=\"{{site.baseurl}}/images/mcq_question30.png\">\n",
    "\n",
    "- Why I got it wrong: Knowledge issue, didn't know that packets of data could travel along different routes - but packets can travel along different routes and be reassambled after all have reached destination. The packets can travel in order or out of order and be reassambled, now with this knowledge I can answer all future packet related questions. \n",
    "\n",
    "- Correct Answer Explanation: Data transmitted on the Internet is broken into packets and then reassembled upon arrival. Packets may travel along different paths, arriving at the destination in order, out of order, or not at all.\n",
    "\n",
    "### Question 36\n",
    "\n",
    "<img src=\"{{site.baseurl}}/images/mcq_question36.png\">\n",
    "\n",
    "- Why I got it wrong: I said that the reason why the information would be hard to remove would be because of the large number of devices, the logic being the internet is interconnected so if you remove once it would remove it all over, but this missed the fact that the information could be stored locally. Moreover, I misinterpreted the correct answer differently - and it is indeed true that lots of sites lack authentication to view data thus making it the correct answer.\n",
    "\n",
    "- Correct Answer Explanation: Personal information can be found in a variety of places where authentication measures may not be used, including social media sites. Personal information placed online can be collected, aggregated, distributed, and exploited.\n",
    "\n",
    "### Question 63\n",
    "\n",
    "<img src=\"{{site.baseurl}}/images/mcq_question63.png\">\n",
    "\n",
    "- Why I got it wrong: Correct answer was A & D, I but A & B. Option B was wrong because when input1 is true and input2 is false, then (NOT input1) will be false and (NOT input2) will be true. Therefore, (NOT input1) AND (NOT input2) will be false instead of the intended value true.\n",
    "\n",
    "- Correct Answer Explanation: D was correct because when both true, the expression (input1 AND input2) is true, so NOT (input1 AND input2) will evaluate to false. In all other cases, (input1 AND input2) will evaluate to false, so NOT (input1 AND input2) will evaluate to true.\n",
    "\n",
    "## Progress from last MCQ?\n",
    "\n",
    "- I scored 59/67 on the last MCQ on collegeboard I took, whereas I scored 66/70 on this MCQ - going from 8 wrong to 4 wrong is a decent improvement.\n",
    "\n",
    "### Categories\n",
    "\n",
    "- For 3.18 (Undecidable problems) I scored 0% on the last MCQ but I scored 100% on that same topic for this latest MCQ.\n",
    "- For 3.17 (Algorithmic Efficiency) I scored 50% on the last MCQ but I scored 100% on that same topic for this latest MCQ.\n",
    "- For 5.6 (Safe Computing) I scored 67% (2/3) on the last MCQ but I scored 89% (8/9) on that same topic for this latest MCQ.\n",
    "- For 1.4 (Identifying and Correcting Errors) I scored 71% on the last MCQ but I scored 100% on that same topic for this latest MCQ.\n",
    "- Lastly last time my lowest scoring Big Idea, Creative Developement, I scored a 78% on but this time I scored 100%. All my other Big Ideas scores stayed the same or increased, with all of my Big Idea scores being in the 90% range.\n",
    "\n",
    "<img src=\"{{site.baseurl}}/images/mcq_categories.png\">\n",
    "\n",
    "<img src=\"{{site.baseurl}}/images/mcq_skills.png\">\n",
    "\n",
    "<img src=\"{{site.baseurl}}/images/mcq_bigideas.png\">\n",
    "\n",
    "\n",
    "\n",
    "\n",
    "\n",
    "\n",
    "\n"
   ]
  }
 ],
 "metadata": {
  "language_info": {
   "name": "python"
  }
 },
 "nbformat": 4,
 "nbformat_minor": 5
}

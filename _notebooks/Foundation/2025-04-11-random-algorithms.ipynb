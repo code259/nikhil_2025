{
 "cells": [
  {
   "cell_type": "raw",
   "id": "361936cd",
   "metadata": {
    "vscode": {
     "languageId": "raw"
    }
   },
   "source": [
    "---\n",
    "layout: post\n",
    "title: Random Algorithms\n",
    "description: Random  Algorithm - Team Teach\n",
    "type: issues\n",
    "comments: true\n",
    "---"
   ]
  },
  {
   "cell_type": "markdown",
   "id": "3a3e9241",
   "metadata": {},
   "source": [
    "# Popcorn Hacks"
   ]
  },
  {
   "cell_type": "markdown",
   "id": "351f98f9",
   "metadata": {},
   "source": [
    "### Popcorn Hack #1"
   ]
  },
  {
   "cell_type": "code",
   "execution_count": 1,
   "id": "0b46cfbb",
   "metadata": {},
   "outputs": [
    {
     "name": "stdout",
     "output_type": "stream",
     "text": [
      "Dice roll: 2\n"
     ]
    }
   ],
   "source": [
    "import random\n",
    "\n",
    "def roll_dice():\n",
    "    # Simulate a 6-sided dice roll (returns a number between 1 and 6)\n",
    "    return random.randint(1, 6)\n",
    "\n",
    "# Example usage:\n",
    "print(\"Dice roll:\", roll_dice())"
   ]
  },
  {
   "cell_type": "markdown",
   "id": "c3f69c70",
   "metadata": {},
   "source": [
    "### Popcorn Hack #2"
   ]
  },
  {
   "cell_type": "code",
   "execution_count": 2,
   "id": "dfb2962a",
   "metadata": {},
   "outputs": [
    {
     "name": "stdout",
     "output_type": "stream",
     "text": [
      "Red\n",
      "Blue\n",
      "Red\n",
      "Blue\n",
      "Blue\n",
      "Yellow\n",
      "Green\n",
      "Blue\n",
      "Red\n",
      "Red\n"
     ]
    }
   ],
   "source": [
    "import random\n",
    "\n",
    "def biased_color():\n",
    "    colors = [\"Red\", \"Blue\", \"Green\", \"Yellow\", \"Purple\", \"Orange\"]\n",
    "    weights = [0.50, 0.30, 0.04, 0.04, 0.04, 0.04]  # Total = 1.00\n",
    "\n",
    "    # Print 10 biased random colors\n",
    "    for _ in range(10):\n",
    "        print(random.choices(colors, weights=weights, k=1)[0])\n",
    "\n",
    "# Call the function\n",
    "biased_color()"
   ]
  },
  {
   "cell_type": "markdown",
   "id": "487d87dd",
   "metadata": {},
   "source": [
    "# Homework Hacks"
   ]
  },
  {
   "cell_type": "markdown",
   "id": "336bfc19",
   "metadata": {},
   "source": [
    "### Homework Hack 1"
   ]
  },
  {
   "cell_type": "code",
   "execution_count": 3,
   "id": "53ed23b6",
   "metadata": {},
   "outputs": [
    {
     "name": "stdout",
     "output_type": "stream",
     "text": [
      "Round 1: Player 1 - heads, Player 2 - tails\n",
      "Score: Player 1 = 1, Player 2 = 0\n",
      "\n",
      "Round 2: Player 1 - heads, Player 2 - heads\n",
      "Score: Player 1 = 2, Player 2 = 1\n",
      "\n",
      "Round 3: Player 1 - tails, Player 2 - tails\n",
      "Score: Player 1 = 2, Player 2 = 1\n",
      "\n",
      "Round 4: Player 1 - heads, Player 2 - tails\n",
      "Score: Player 1 = 3, Player 2 = 1\n",
      "\n",
      "Player 1 wins in 4 rounds!\n"
     ]
    }
   ],
   "source": [
    "import random\n",
    "\n",
    "def coin_flip_game():\n",
    "    player1_heads = 0\n",
    "    player2_heads = 0\n",
    "    rounds = 0\n",
    "\n",
    "    while player1_heads < 3 and player2_heads < 3:\n",
    "        rounds += 1\n",
    "        flip1 = random.choice([\"heads\", \"tails\"])\n",
    "        flip2 = random.choice([\"heads\", \"tails\"])\n",
    "\n",
    "        if flip1 == \"heads\":\n",
    "            player1_heads += 1\n",
    "        if flip2 == \"heads\":\n",
    "            player2_heads += 1\n",
    "\n",
    "        print(f\"Round {rounds}: Player 1 - {flip1}, Player 2 - {flip2}\")\n",
    "        print(f\"Score: Player 1 = {player1_heads}, Player 2 = {player2_heads}\\n\")\n",
    "\n",
    "    if player1_heads == 3:\n",
    "        print(f\"Player 1 wins in {rounds} rounds!\")\n",
    "    else:\n",
    "        print(f\"Player 2 wins in {rounds} rounds!\")\n",
    "\n",
    "# Run the game\n",
    "coin_flip_game()"
   ]
  }
 ],
 "metadata": {
  "kernelspec": {
   "display_name": "venv",
   "language": "python",
   "name": "python3"
  },
  "language_info": {
   "codemirror_mode": {
    "name": "ipython",
    "version": 3
   },
   "file_extension": ".py",
   "mimetype": "text/x-python",
   "name": "python",
   "nbconvert_exporter": "python",
   "pygments_lexer": "ipython3",
   "version": "3.9.19"
  }
 },
 "nbformat": 4,
 "nbformat_minor": 5
}

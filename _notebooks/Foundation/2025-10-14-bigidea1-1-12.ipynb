{
 "cells": [
  {
   "cell_type": "raw",
   "id": "1009ad62",
   "metadata": {
    "vscode": {
     "languageId": "raw"
    }
   },
   "source": [
    "---\n",
    "layout: post\n",
    "title: Big Idea 1 Lesson 1.12\n",
    "description: Big Idea 1 Lesson 1.12\n",
    "type: issues\n",
    "comments: true\n",
    "---"
   ]
  },
  {
   "cell_type": "markdown",
   "id": "7ea5dd2f",
   "metadata": {},
   "source": [
    "# Popcorn Hack 1"
   ]
  },
  {
   "cell_type": "code",
   "execution_count": 1,
   "id": "d109ed8e",
   "metadata": {
    "vscode": {
     "languageId": "java"
    }
   },
   "outputs": [
    {
     "name": "stdout",
     "output_type": "stream",
     "text": [
      "Title: Java Basics, Pages: 150\n"
     ]
    }
   ],
   "source": [
    "class Book {\n",
    "    String title;\n",
    "    int pages;\n",
    "    \n",
    "    void printInfo() {\n",
    "        System.out.println(\"Title: \" + title + \", Pages: \" + pages);\n",
    "    }\n",
    "}\n",
    "\n",
    "class MainPopcorn {\n",
    "    public static void main(String[] args) {\n",
    "        Book myBook = new Book();\n",
    "        myBook.title = \"Java Basics\";\n",
    "        myBook.pages = 150;\n",
    "        myBook.printInfo();\n",
    "    }\n",
    "}\n",
    "\n",
    "MainPopcorn.main(null);"
   ]
  },
  {
   "cell_type": "markdown",
   "id": "062c7dd0",
   "metadata": {},
   "source": [
    "# Homework Hack"
   ]
  },
  {
   "cell_type": "code",
   "execution_count": 2,
   "id": "5a2276c0",
   "metadata": {
    "vscode": {
     "languageId": "java"
    }
   },
   "outputs": [
    {
     "name": "stdout",
     "output_type": "stream",
     "text": [
      "Name: Kush, Grade: 10, Pets: 2, Siblings: 1, Favorite Subject: Math\n",
      "Name: Brian, Grade: 11, Pets: 0, Siblings: 3, Favorite Subject: Science\n",
      "Name: Catherine, Grade: 12, Pets: 1, Siblings: 2, Favorite Subject: English\n",
      "\n",
      "Using the nickname reference:\n",
      "Name: Kush, Grade: 10, Pets: 2, Siblings: 1, Favorite Subject: Math\n"
     ]
    }
   ],
   "source": [
    "class Student {\n",
    "    String name;\n",
    "    int grade;\n",
    "    int pets;\n",
    "    int siblings;\n",
    "    String favoriteSubject;  // New instance variable\n",
    "\n",
    "    // Method to print student info\n",
    "    void printInfo() {\n",
    "        System.out.println(\"Name: \" + name + \", Grade: \" + grade +\n",
    "                           \", Pets: \" + pets + \", Siblings: \" + siblings +\n",
    "                           \", Favorite Subject: \" + favoriteSubject);\n",
    "    }\n",
    "\n",
    "    public static void main(String[] args) {\n",
    "        // Create 3 student objects\n",
    "        Student kush = new Student();\n",
    "        kush.name = \"Kush\";\n",
    "        kush.grade = 10;\n",
    "        kush.pets = 2;\n",
    "        kush.siblings = 1;\n",
    "        kush.favoriteSubject = \"Math\";\n",
    "\n",
    "        Student student2 = new Student();\n",
    "        student2.name = \"Brian\";\n",
    "        student2.grade = 11;\n",
    "        student2.pets = 0;\n",
    "        student2.siblings = 3;\n",
    "        student2.favoriteSubject = \"Science\";\n",
    "\n",
    "        Student student3 = new Student();\n",
    "        student3.name = \"Catherine\";\n",
    "        student3.grade = 12;\n",
    "        student3.pets = 1;\n",
    "        student3.siblings = 2;\n",
    "        student3.favoriteSubject = \"English\";\n",
    "\n",
    "        // Output info for all students\n",
    "        kush.printInfo();\n",
    "        student2.printInfo();\n",
    "        student3.printInfo();\n",
    "\n",
    "        // Create a reference variable pointing to kush (nickname)\n",
    "        Student k = kush;\n",
    "\n",
    "        // Output attributes using the new reference variable\n",
    "        System.out.println(\"\\nUsing the nickname reference:\");\n",
    "        k.printInfo();\n",
    "    }\n",
    "}\n",
    "\n",
    "Student.main(null);"
   ]
  }
 ],
 "metadata": {
  "kernelspec": {
   "display_name": "Java",
   "language": "java",
   "name": "java"
  },
  "language_info": {
   "codemirror_mode": "java",
   "file_extension": ".jshell",
   "mimetype": "text/x-java-source",
   "name": "Java",
   "pygments_lexer": "java",
   "version": "18.0.1.1+2-6"
  }
 },
 "nbformat": 4,
 "nbformat_minor": 5
}

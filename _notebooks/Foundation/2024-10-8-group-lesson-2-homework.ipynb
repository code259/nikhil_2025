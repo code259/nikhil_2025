{
 "cells": [
  {
   "cell_type": "raw",
   "metadata": {
    "vscode": {
     "languageId": "raw"
    }
   },
   "source": [
    "---\n",
    "layout: post\n",
    "title: Group Lesson 2 Homework\n",
    "description: Popcorn and Homework Hacks\n",
    "type: issues \n",
    "comments: true\n",
    "---"
   ]
  },
  {
   "cell_type": "markdown",
   "metadata": {
    "vscode": {
     "languageId": "raw"
    }
   },
   "source": [
    "# Section 1 Homework"
   ]
  },
  {
   "cell_type": "markdown",
   "metadata": {},
   "source": [
    "### Popcorn Hacks"
   ]
  },
  {
   "cell_type": "code",
   "execution_count": 1,
   "metadata": {
    "vscode": {
     "languageId": "javascript"
    }
   },
   "outputs": [
    {
     "data": {
      "application/javascript": "\n// Create a dictionary (object) in JavaScript\nvar myDictionary = {\n    1: \"fruit\",\n    2: \"fruit\",\n    3: \"fruit\"\n};\n\n// Accessing a value\nconsole.log(\"Fruit with key 2:\", myDictionary[2]); // Output: fruit\n",
      "text/plain": [
       "<IPython.core.display.Javascript object>"
      ]
     },
     "metadata": {},
     "output_type": "display_data"
    }
   ],
   "source": [
    "%%js\n",
    "\n",
    "// Create a dictionary (object) in JavaScript\n",
    "var myDictionary = {\n",
    "    1: \"fruit\",\n",
    "    2: \"fruit\",\n",
    "    3: \"fruit\"\n",
    "};\n",
    "\n",
    "// Accessing a value\n",
    "console.log(\"Fruit with key 2:\", myDictionary[2]); // Output: fruit"
   ]
  },
  {
   "cell_type": "code",
   "execution_count": 2,
   "metadata": {},
   "outputs": [
    {
     "name": "stdout",
     "output_type": "stream",
     "text": [
      "Welcome to the Math Quiz Game!\n",
      "Answer as many questions as you can. Type 'q' to quit anytime.\n",
      "\n",
      "What is 2 + 10?\n",
      "Invalid input, please enter a number or 'q' to quit.\n",
      "What is 1 + 10?\n",
      "Thanks for playing! Your final score is 0.\n"
     ]
    }
   ],
   "source": [
    "import random\n",
    "\n",
    "def play_game():\n",
    "    score = 0\n",
    "    operators = ['+', '-', '*', '/']\n",
    "\n",
    "    print(\"Welcome to the Math Quiz Game!\")\n",
    "    print(\"Answer as many questions as you can. Type 'q' to quit anytime.\\n\")\n",
    "\n",
    "    while True:\n",
    "        # Generate two random numbers and choose a random operator\n",
    "        num1 = random.randint(1, 50)\n",
    "        num2 = random.randint(1, 50)\n",
    "        op = random.choice(operators)\n",
    "\n",
    "        # Calculate the correct answer based on the operator\n",
    "        if op == '+':\n",
    "            answer = num1 + num2\n",
    "        elif op == '-':\n",
    "            answer = num1 - num2\n",
    "        elif op == '/':\n",
    "            answer = num1/num2\n",
    "        else:\n",
    "            answer = num1 * num2\n",
    "\n",
    "        # Ask the player the question\n",
    "        print(f\"What is {num1} {op} {num2}?\")\n",
    "        player_input = input(\"Your answer (or type 'q' to quit): \")\n",
    "\n",
    "        # Check if the player wants to quit\n",
    "        if player_input.lower() == 'q':\n",
    "            break\n",
    "\n",
    "        # Check if the answer is correct\n",
    "        try:\n",
    "            player_answer = int(player_input)\n",
    "            if player_answer == answer:\n",
    "                print(\"Correct!\")\n",
    "                score += 1\n",
    "            else:\n",
    "                print(f\"Oops! The correct answer was {answer}.\")\n",
    "        except ValueError:\n",
    "            print(\"Invalid input, please enter a number or 'q' to quit.\")\n",
    "\n",
    "    print(f\"Thanks for playing! Your final score is {score}.\")\n",
    "\n",
    "# Start the game\n",
    "play_game()\n",
    "\n"
   ]
  },
  {
   "cell_type": "code",
   "execution_count": 2,
   "metadata": {},
   "outputs": [
    {
     "name": "stdout",
     "output_type": "stream",
     "text": [
      "20.0°F is equal to -6.67°C\n"
     ]
    }
   ],
   "source": [
    "\n",
    "# Function to convert temperatures\n",
    "def temperature_converter():\n",
    "    try:\n",
    "        # Prompt the user for the temperature\n",
    "        temperature = float(input(\"Enter the temperature: \"))\n",
    "        \n",
    "        # Ask the user for the conversion type\n",
    "        conversion_type = input(\"Convert to Celsius or Fahrenheit? \").strip().upper()\n",
    "\n",
    "        if conversion_type == \"C\":\n",
    "            celsius = (temperature - 32) * (5 / 9)\n",
    "            print(f\"{temperature}°F is equal to {celsius:.2f}°C\")\n",
    "\n",
    "        elif conversion_type == \"F\":\n",
    "            fahrenheit = (temperature * (9 / 5)) + 32\n",
    "            print(f\"{temperature}°C is equal to {fahrenheit:.2f}°F\")\n",
    "\n",
    "        else:\n",
    "            print(\"Invalid conversion type entered. Please enter 'C' or 'F'.\")\n",
    "\n",
    "    except ValueError:\n",
    "        print(\"Invalid input. Please enter a numeric temperature value.\")\n",
    "\n",
    "# Call the temperature converter function\n",
    "temperature_converter()"
   ]
  },
  {
   "cell_type": "code",
   "execution_count": 3,
   "metadata": {
    "vscode": {
     "languageId": "javascript"
    }
   },
   "outputs": [
    {
     "data": {
      "application/javascript": "\n// Temperature Converter in JavaScript\nlet temperature = parseFloat(prompt(\"Enter the temperature:\"));\nlet conversionType = prompt(\"Convert to (C)elsius or (F)ahrenheit?\").toUpperCase();\n\nif (conversionType === \"C\") {\n    // Convert Fahrenheit to Celsius\n    let celsius = (temperature - 32) * (5 / 9);\n    console.log(`${temperature}°F is equal to ${celsius.toFixed(2)}°C`);\n} else if (conversionType === \"F\") {\n    // Convert Celsius to Fahrenheit\n    let fahrenheit = (temperature * (9 / 5)) + 32;\n    console.log(`${temperature}°C is equal to ${fahrenheit.toFixed(2)}°F`);\n} else {\n    console.log(\"Invalid conversion type entered.\");\n}\n",
      "text/plain": [
       "<IPython.core.display.Javascript object>"
      ]
     },
     "metadata": {},
     "output_type": "display_data"
    }
   ],
   "source": [
    "%%js\n",
    "\n",
    "// Temperature Converter in JavaScript\n",
    "let temperature = parseFloat(prompt(\"Enter the temperature:\"));\n",
    "let conversionType = prompt(\"Convert to (C)elsius or (F)ahrenheit?\").toUpperCase();\n",
    "\n",
    "if (conversionType === \"C\") {\n",
    "    // Convert Fahrenheit to Celsius\n",
    "    let celsius = (temperature - 32) * (5 / 9);\n",
    "    console.log(`${temperature}°F is equal to ${celsius.toFixed(2)}°C`);\n",
    "} else if (conversionType === \"F\") {\n",
    "    // Convert Celsius to Fahrenheit\n",
    "    let fahrenheit = (temperature * (9 / 5)) + 32;\n",
    "    console.log(`${temperature}°C is equal to ${fahrenheit.toFixed(2)}°F`);\n",
    "} else {\n",
    "    console.log(\"Invalid conversion type entered.\");\n",
    "}"
   ]
  },
  {
   "cell_type": "markdown",
   "metadata": {},
   "source": [
    "### Homework Hacks"
   ]
  },
  {
   "cell_type": "code",
   "execution_count": 5,
   "metadata": {},
   "outputs": [
    {
     "name": "stdout",
     "output_type": "stream",
     "text": [
      "Total Cost: 3.0\n",
      "What you bought: ['dog', 'cat']\n"
     ]
    }
   ],
   "source": [
    "shopping_list = [] \n",
    "total_cost = 0.0\n",
    "\n",
    "while True:\n",
    "  item_name = input(\"Enter the item name (or ‘done’ to finish):\") \n",
    "  if item_name.lower() == \"done\": \n",
    "    break \n",
    "  item_price = float(input(\"Enter the price of the item:\"))\n",
    "  shopping_list.append(item_name)\n",
    "  total_cost += item_price\n",
    "\n",
    "print(\"Total Cost:\", total_cost)\n",
    "print(\"What you bought:\", shopping_list)"
   ]
  },
  {
   "cell_type": "code",
   "execution_count": 12,
   "metadata": {},
   "outputs": [
    {
     "name": "stdout",
     "output_type": "stream",
     "text": [
      "The number of teaspoons of cat is 96\n",
      "The number of teaspoons of dog is 96\n"
     ]
    }
   ],
   "source": [
    "cup = 48 #the conversion is in teaspoons for 1 cup\n",
    "tablespoon = 3 #the conversion is in teaspoons for 1 tablespoon\n",
    "\n",
    "while True:\n",
    "    ingredient = input(\"Enter name of ingredient or type 'done' to quit:\")\n",
    "\n",
    "    if ingredient.lower() == \"done\":\n",
    "        break\n",
    "\n",
    "    quantity = int(input(\"Enter the quantity of the ingredient: \"))\n",
    "    unit = input(\"Enter the unit of the ingredient: \")\n",
    "\n",
    "    if unit.strip().lower() == \"cup\":\n",
    "        print(f\"The number of teaspoons of {ingredient} is\", quantity*cup)\n",
    "\n",
    "    if unit.strip().lower() == \"tablespoon\":\n",
    "        print(f\"The number of teaspoons of {ingredient} is\", quantity*tablespoon)"
   ]
  },
  {
   "cell_type": "markdown",
   "metadata": {},
   "source": [
    "# Lesson 3.4"
   ]
  },
  {
   "cell_type": "markdown",
   "metadata": {},
   "source": [
    "### Popcorn Hacks"
   ]
  },
  {
   "cell_type": "code",
   "execution_count": 13,
   "metadata": {
    "vscode": {
     "languageId": "javascript"
    }
   },
   "outputs": [
    {
     "data": {
      "application/javascript": "\n\nlet favoriteMovie = \"No favorite\";\nlet favoriteSport = \"Basketball\";\nlet favoriteFood = \"Pasta\";\n\n\n// Concatenation\nlet concatenatedMessage = \"My favorite movie is \" + favoriteMovie + \". I love playing \" + favoriteSport + \" and my favorite food is \" + favoriteFood + \".\";\n\n\n// Interpolation\nlet interpolatedMessage = `My favorite movie is ${favoriteMovie}. I love playing ${favoriteSport} and my favorite food is ${favoriteFood}.`;\n",
      "text/plain": [
       "<IPython.core.display.Javascript object>"
      ]
     },
     "metadata": {},
     "output_type": "display_data"
    }
   ],
   "source": [
    "%%js\n",
    "\n",
    "\n",
    "let favoriteMovie = \"No favorite\";\n",
    "let favoriteSport = \"Basketball\";\n",
    "let favoriteFood = \"Pasta\";\n",
    "\n",
    "\n",
    "// Concatenation\n",
    "let concatenatedMessage = \"My favorite movie is \" + favoriteMovie + \". I love playing \" + favoriteSport + \" and my favorite food is \" + favoriteFood + \".\";\n",
    "\n",
    "\n",
    "// Interpolation\n",
    "let interpolatedMessage = `My favorite movie is ${favoriteMovie}. I love playing ${favoriteSport} and my favorite food is ${favoriteFood}.`;"
   ]
  },
  {
   "cell_type": "code",
   "execution_count": 14,
   "metadata": {
    "vscode": {
     "languageId": "javascript"
    }
   },
   "outputs": [
    {
     "data": {
      "application/javascript": "\n\n// Define string\nlet phrase = \"A journey of a thousand miles begins with a single step\";\n\n\n// Extraction\nlet partOne = phrase.slice(2, 8);\nlet partTwo = phrase.slice(-18, -12);\nlet remainder = phrase.slice(20);\n\n\n// Output\nconsole.log(partOne);  // Output: journey\nconsole.log(partTwo);  // Output: miles\nconsole.log(remainder); // Output: begins with a single step\n",
      "text/plain": [
       "<IPython.core.display.Javascript object>"
      ]
     },
     "metadata": {},
     "output_type": "display_data"
    }
   ],
   "source": [
    "%%js\n",
    "\n",
    "\n",
    "// Define string\n",
    "let phrase = \"A journey of a thousand miles begins with a single step\";\n",
    "\n",
    "\n",
    "// Extraction\n",
    "let partOne = phrase.slice(2, 8);\n",
    "let partTwo = phrase.slice(-18, -12);\n",
    "let remainder = phrase.slice(20);\n",
    "\n",
    "\n",
    "// Output\n",
    "console.log(partOne);  // Output: journey\n",
    "console.log(partTwo);  // Output: miles\n",
    "console.log(remainder); // Output: begins with a single step"
   ]
  },
  {
   "cell_type": "code",
   "execution_count": 17,
   "metadata": {},
   "outputs": [
    {
     "name": "stdout",
     "output_type": "stream",
     "text": [
      "Pythn njy lrnng !\n"
     ]
    }
   ],
   "source": [
    "def remove_vowels(input_str):\n",
    "    vowels = \"aeiouAEIOU\"\n",
    "    result = ''.join([char for char in input_str if char not in vowels])\n",
    "    return result\n",
    "\n",
    "sentence = \"Python enjoy learning I!\"\n",
    "print(remove_vowels(sentence))\n"
   ]
  },
  {
   "cell_type": "code",
   "execution_count": 16,
   "metadata": {},
   "outputs": [
    {
     "name": "stdout",
     "output_type": "stream",
     "text": [
      "reversed! not is This\n"
     ]
    }
   ],
   "source": [
    "def reverse_words(input_str):\n",
    "    words = input_str.split()\n",
    "    reversed_words = \" \".join(words[::-1])\n",
    "    return reversed_words\n",
    "\n",
    "sentence = \"This is not reversed!\"\n",
    "print(reverse_words(sentence))"
   ]
  },
  {
   "cell_type": "markdown",
   "metadata": {},
   "source": [
    "### Homework Hacks"
   ]
  },
  {
   "cell_type": "code",
   "execution_count": 23,
   "metadata": {
    "vscode": {
     "languageId": "javascript"
    }
   },
   "outputs": [
    {
     "data": {
      "application/javascript": "\nlet firstName = 'Nikhil';\nlet lastName = 'Maturi';\n\nconsole.log(`Hello, ${firstName} ${lastName}`);\n",
      "text/plain": [
       "<IPython.core.display.Javascript object>"
      ]
     },
     "metadata": {},
     "output_type": "display_data"
    }
   ],
   "source": [
    "%%js\n",
    "\n",
    "let firstName = 'Nikhil';\n",
    "let lastName = 'Maturi';\n",
    "\n",
    "console.log(`Hello, ${firstName} ${lastName}`);"
   ]
  },
  {
   "cell_type": "code",
   "execution_count": 18,
   "metadata": {},
   "outputs": [
    {
     "name": "stdout",
     "output_type": "stream",
     "text": [
      "palindrome\n"
     ]
    }
   ],
   "source": [
    "string = input(\"Enter something:\")\n",
    "\n",
    "inverted_string = []\n",
    "for letter in string:\n",
    "  inverted_string.append(letter)\n",
    "result = ''.join(inverted_string[::-1])\n",
    "\n",
    "if result == string:\n",
    "  print(\"palindrome\")\n",
    "else:\n",
    "  print(\"Not palindrome :(\")"
   ]
  }
 ],
 "metadata": {
  "kernelspec": {
   "display_name": "venv",
   "language": "python",
   "name": "python3"
  },
  "language_info": {
   "codemirror_mode": {
    "name": "ipython",
    "version": 3
   },
   "file_extension": ".py",
   "mimetype": "text/x-python",
   "name": "python",
   "nbconvert_exporter": "python",
   "pygments_lexer": "ipython3",
   "version": "3.9.19"
  }
 },
 "nbformat": 4,
 "nbformat_minor": 2
}

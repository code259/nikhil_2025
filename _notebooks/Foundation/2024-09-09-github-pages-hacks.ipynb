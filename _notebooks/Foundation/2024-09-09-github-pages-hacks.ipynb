{
 "cells": [
  {
   "cell_type": "raw",
   "metadata": {
    "vscode": {
     "languageId": "raw"
    }
   },
   "source": [
    "---\n",
    "layout: post\n",
    "title: Github Pages Hacks\n",
    "description:  Github pages hacks.\n",
    "type: issues\n",
    "comments: true\n",
    "---"
   ]
  },
  {
   "cell_type": "markdown",
   "metadata": {
    "vscode": {
     "languageId": "raw"
    }
   },
   "source": [
    "# Planned\n",
    "Planned to achieve all the main hacks:\n",
    "- Tools and Equipment\n",
    "- Github Pages integration with Javascript Cells\n",
    "- Github Pages integration with Python Cells\n",
    "- SASS Basics\n",
    "- Frontend Developement (utilize javascript and the DOM)\n",
    "- Work on peer project (cookie clicker, calculator, etc.)\n",
    "\n",
    "# Finished\n",
    "What I finished:\n",
    "- Tools Equipment\n",
    "- Github Pages integration with Python Cells\n",
    "- Worked on Frontend Developement (utilize javascript and the DOM)\n",
    "- Finished on peer project (cookie clicker, calculator, etc.)"
   ]
  },
  {
   "cell_type": "markdown",
   "metadata": {},
   "source": [
    "# JS Cell\n",
    "- This is a javascript cell, the prompt that opened in the beginning was due to a javascript cell (you can't see it though)\n",
    "- Inspect the page and open the console to see what you typed in the prompt box!\n",
    "<script>\n",
    "  console.log(\"JavaScript is running!\");\n",
    "  value = prompt(\"This JavaScript code runs on GitHub Pages.\");\n",
    "  console.log(value);\n",
    "</script>"
   ]
  }
 ],
 "metadata": {
  "kernelspec": {
   "display_name": "venv",
   "language": "python",
   "name": "python3"
  },
  "language_info": {
   "codemirror_mode": {
    "name": "ipython",
    "version": 3
   },
   "file_extension": ".py",
   "mimetype": "text/x-python",
   "name": "python",
   "nbconvert_exporter": "python",
   "pygments_lexer": "ipython3",
   "version": "3.9.19"
  }
 },
 "nbformat": 4,
 "nbformat_minor": 2
}

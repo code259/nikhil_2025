{
 "cells": [
  {
   "cell_type": "raw",
   "id": "11ae2831",
   "metadata": {
    "vscode": {
     "languageId": "raw"
    }
   },
   "source": [
    "---\n",
    "layout: post\n",
    "title: Big Idea 1 Lesson 1.10\n",
    "description: Big Idea 1 Lesson 1.10\n",
    "type: issues\n",
    "comments: true\n",
    "---"
   ]
  },
  {
   "cell_type": "markdown",
   "id": "11818538",
   "metadata": {},
   "source": [
    "# Homework "
   ]
  },
  {
   "cell_type": "code",
   "execution_count": null,
   "id": "3a82ca9d",
   "metadata": {
    "vscode": {
     "languageId": "javascript"
    }
   },
   "outputs": [],
   "source": [
    "public class UltimateBattle {\n",
    "    // Instance variables\n",
    "    String name;\n",
    "    int power;\n",
    "    int health;\n",
    "\n",
    "    // Static variable\n",
    "    static double fightDuration = 0;\n",
    "\n",
    "    // Constructor\n",
    "    public UltimateBattle(String name, int power, int health) {\n",
    "        this.name = name;\n",
    "        this.power = power;\n",
    "        this.health = health;\n",
    "    }\n",
    "\n",
    "    // Instance method: attack\n",
    "    public void attack(UltimateBattle opponent) {\n",
    "        System.out.println(this.name + \" attacks \" + opponent.name + \"!\");\n",
    "        opponent.health -= this.power;\n",
    "        if (opponent.health < 0) opponent.health = 0;\n",
    "        fightDuration += 1.5; // pretend each attack takes 1.5 seconds\n",
    "    }\n",
    "\n",
    "    // Instance method: printStatus\n",
    "    public void printStatus() {\n",
    "        System.out.println(name + \" | Power: \" + power + \" | Health: \" + health);\n",
    "    }\n",
    "\n",
    "    // Static method: compare who’s stronger\n",
    "    public static int strongerFighter(UltimateBattle f1, UltimateBattle f2) {\n",
    "        if (f1.power > f2.power) return 1;\n",
    "        else if (f2.power > f1.power) return 2;\n",
    "        else return 0;\n",
    "    }\n",
    "\n",
    "    // Static method: beginBattle\n",
    "    public static void beginBattle(UltimateBattle f1, UltimateBattle f2) {\n",
    "        System.out.println(\"=== Battle Begins Between \" + f1.name + \" and \" + f2.name + \" ===\");\n",
    "        while (f1.health > 0 && f2.health > 0) {\n",
    "            f1.attack(f2);\n",
    "            if (f2.health <= 0) break;\n",
    "            f2.attack(f1);\n",
    "        }\n",
    "\n",
    "        System.out.println(\"=== Battle Over! ===\");\n",
    "        if (f1.health <= 0 && f2.health <= 0) {\n",
    "            System.out.println(\"It’s a draw!\");\n",
    "        } else if (f1.health <= 0) {\n",
    "            System.out.println(f2.name + \" wins!\");\n",
    "        } else {\n",
    "            System.out.println(f1.name + \" wins!\");\n",
    "        }\n",
    "\n",
    "        System.out.println(\"Battle lasted \" + fightDuration + \" seconds.\");\n",
    "    }\n",
    "\n",
    "    // Main method\n",
    "    public static void main(String[] args) {\n",
    "        // Create two fighters\n",
    "        UltimateBattle robot = new UltimateBattle(\"Robot Rex\", 25, 100);\n",
    "        UltimateBattle dinosaur = new UltimateBattle(\"Dino Doom\", 30, 90);\n",
    "\n",
    "        // Print initial status\n",
    "        robot.printStatus();\n",
    "        dinosaur.printStatus();\n",
    "\n",
    "        // Compare who’s stronger\n",
    "        int stronger = UltimateBattle.strongerFighter(robot, dinosaur);\n",
    "        if (stronger == 1) System.out.println(robot.name + \" is stronger!\");\n",
    "        else if (stronger == 2) System.out.println(dinosaur.name + \" is stronger!\");\n",
    "        else System.out.println(\"They’re equally strong!\");\n",
    "\n",
    "        // Begin the battle\n",
    "        UltimateBattle.beginBattle(robot, dinosaur);\n",
    "    }\n",
    "}\n",
    "\n",
    "// Run main\n",
    "UltimateBattle.main(null);\n"
   ]
  }
 ],
 "metadata": {
  "language_info": {
   "name": "python"
  }
 },
 "nbformat": 4,
 "nbformat_minor": 5
}

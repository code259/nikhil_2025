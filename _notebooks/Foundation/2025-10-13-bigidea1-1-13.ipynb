{
 "cells": [
  {
   "cell_type": "raw",
   "id": "70d34176",
   "metadata": {
    "vscode": {
     "languageId": "raw"
    }
   },
   "source": [
    "---\n",
    "layout: post\n",
    "title: Big Idea 1 Lesson 1.13\n",
    "description: Big Idea 1 Lesson 1.13\n",
    "type: issues\n",
    "comments: true\n",
    "---"
   ]
  },
  {
   "cell_type": "markdown",
   "id": "7a46387c",
   "metadata": {},
   "source": [
    "# Popcorn Hacks"
   ]
  },
  {
   "cell_type": "markdown",
   "id": "f2c7614e",
   "metadata": {},
   "source": [
    "### Popcorn Hack 1"
   ]
  },
  {
   "cell_type": "code",
   "execution_count": null,
   "id": "b68f287c",
   "metadata": {},
   "outputs": [
    {
     "name": "stdout",
     "output_type": "stream",
     "text": [
      "Primitives (Stack):\n",
      "a = 10\n",
      "b = 20\n",
      "\n",
      "Arrays (Heap):\n",
      "array1[0] = 99\n",
      "array2[0] = 99\n"
     ]
    }
   ],
   "source": [
    "public class MemoryDemo {\n",
    "    public static void main(String[] args) {\n",
    "        // Stack variables\n",
    "        int a = 10;\n",
    "        int b = a;  // Copy of value\n",
    "        b = 20;     // Changing b doesn't affect a\n",
    "        \n",
    "        System.out.println(\"Primitives (Stack):\");\n",
    "        System.out.println(\"a = \" + a);  // Still 10\n",
    "        System.out.println(\"b = \" + b);  // Now it's 20\n",
    "        \n",
    "        // Heap variables\n",
    "        int[] array1 = {1, 2, 3};\n",
    "        int[] array2 = array1;  // Copy of reference (address)\n",
    "        array2[0] = 99;         // Changing array2 DOES affect array1\n",
    "        \n",
    "        System.out.println(\"\\nArrays (Heap):\");\n",
    "        System.out.println(\"array1[0] = \" + array1[0]);  // Now it's 99!\n",
    "        System.out.println(\"array2[0] = \" + array2[0]);  // Also 99\n",
    "    }\n",
    "}\n",
    "MemoryDemo.main(null);"
   ]
  },
  {
   "cell_type": "markdown",
   "id": "ca679890",
   "metadata": {},
   "source": [
    "Changing b doesn’t affect a because they’re primitive types stored by value on the stack — b gets its own copy.\n",
    "array1 and array2 are references to the same array in the heap, so changing one affects the other.\n",
    "\n",
    "Stack: holds primitive variables (a, b) and references to objects (array1, array2).\n",
    "Heap: holds the actual array object {99, 2, 3} that both references point to."
   ]
  },
  {
   "cell_type": "markdown",
   "id": "8937b53d",
   "metadata": {},
   "source": [
    "### Popcorn Hack 2"
   ]
  },
  {
   "cell_type": "code",
   "execution_count": 5,
   "id": "e2a5080a",
   "metadata": {},
   "outputs": [
    {
     "name": "stdout",
     "output_type": "stream",
     "text": [
      "Before birthday: John is 20\n",
      "Inside method: John is now 21\n",
      "After birthday: John is 21\n",
      "\n",
      "Before reassign: John is 21\n",
      "Inside reassign: New Person is 99\n",
      "After reassign: John is 21\n"
     ]
    }
   ],
   "source": [
    "public class PersonDemo {\n",
    "    static class Person {\n",
    "        String name;\n",
    "        int age;\n",
    "        \n",
    "        Person(String name, int age) {\n",
    "            this.name = name;\n",
    "            this.age = age;\n",
    "        }\n",
    "    }\n",
    "    \n",
    "    public static void haveBirthday(Person p) {\n",
    "        p.age = p.age + 1;  // Modifying object content\n",
    "        System.out.println(\"Inside method: \" + p.name + \" is now \" + p.age);\n",
    "    }\n",
    "    \n",
    "    public static void reassignPerson(Person p) {\n",
    "        p = new Person(\"New Person\", 99);  // Reassigning reference\n",
    "        System.out.println(\"Inside reassign: \" + p.name + \" is \" + p.age);\n",
    "    }\n",
    "    \n",
    "    public static void main(String[] args) {\n",
    "        Person john = new Person(\"John\", 20);\n",
    "        \n",
    "        System.out.println(\"Before birthday: \" + john.name + \" is \" + john.age);\n",
    "        haveBirthday(john);\n",
    "        System.out.println(\"After birthday: \" + john.name + \" is \" + john.age);\n",
    "        \n",
    "        System.out.println(\"\\nBefore reassign: \" + john.name + \" is \" + john.age);\n",
    "        reassignPerson(john);\n",
    "        System.out.println(\"After reassign: \" + john.name + \" is \" + john.age);\n",
    "    }\n",
    "}\n",
    "\n",
    "PersonDemo.main(null);"
   ]
  },
  {
   "cell_type": "markdown",
   "id": "af2e8f15",
   "metadata": {},
   "source": [
    "After haveBirthday(john) is called, John’s age is 21, because the method modifies the contents of the same Person object in the heap that john references.\n",
    "\n",
    "After reassignPerson(john) is called, John’s name and age remain “John, 21”, because the method only reassigns the local reference p to a new object, without changing the original john reference in main.\n",
    "\n",
    "Difference:\n",
    "\n",
    "Modifying an object’s contents changes the data stored in the same heap object, visible to all references pointing to it.\n",
    "\n",
    "Reassigning a reference only changes the local variable to point somewhere else; it doesn’t affect other references to the original object."
   ]
  },
  {
   "cell_type": "markdown",
   "id": "3695654d",
   "metadata": {},
   "source": [
    "# Homework Hacks"
   ]
  },
  {
   "cell_type": "markdown",
   "id": "435c9bae",
   "metadata": {},
   "source": [
    "### Popcorn Hack 1"
   ]
  },
  {
   "cell_type": "code",
   "execution_count": 7,
   "id": "61370f70",
   "metadata": {},
   "outputs": [
    {
     "name": "stdout",
     "output_type": "stream",
     "text": [
      "Brand: Tesla, Year: 2024\n",
      "Brand: Ford, Year: 2020\n"
     ]
    }
   ],
   "source": [
    "public class ObjectCreation {\n",
    "    public static void main(String[] args) {\n",
    "        // 1. Create two Car objects using 'new'\n",
    "        Car car1 = new Car(\"Tesla\", 2024);\n",
    "        Car car2 = new Car(\"Ford\", 2020);\n",
    "\n",
    "        // 2. Print each car's info\n",
    "        System.out.println(car1);\n",
    "        System.out.println(car2);\n",
    "    }\n",
    "}\n",
    "\n",
    "class Car {\n",
    "    // 1. Declare variables: brand, year\n",
    "    String brand;\n",
    "    int year;\n",
    "\n",
    "    // 2. Create a constructor to set those variables\n",
    "    Car(String brand, int year) {\n",
    "        this.brand = brand;\n",
    "        this.year = year;\n",
    "    }\n",
    "\n",
    "    // 3. Add a method or toString() to display car info\n",
    "    @Override\n",
    "    public String toString() {\n",
    "        return \"Brand: \" + brand + \", Year: \" + year;\n",
    "    }\n",
    "}\n",
    "ObjectCreation.main(null);"
   ]
  },
  {
   "cell_type": "code",
   "execution_count": 8,
   "id": "664f69ad",
   "metadata": {},
   "outputs": [
    {
     "name": "stdout",
     "output_type": "stream",
     "text": [
      "Primitive variables:\n",
      "pages = 500\n",
      "pagesCopy = 300\n",
      "\n",
      "Book objects:\n",
      "b1 = Book title: Advanced Java\n",
      "b2 = Book title: Advanced Java\n"
     ]
    }
   ],
   "source": [
    "// Homework Hack #2: Heap vs Stack Storage Demo\n",
    "\n",
    "public class HeapVsStack {\n",
    "    public static void main(String[] args) {\n",
    "        // 1. Create a primitive variable (int pages)\n",
    "        int pages = 300;\n",
    "\n",
    "        // 2. Create another primitive variable that copies it\n",
    "        int pagesCopy = pages;\n",
    "\n",
    "        // 3. Create a Book object\n",
    "        Book b1 = new Book(\"Java Basics\");\n",
    "\n",
    "        // 4. Create another Book reference\n",
    "        Book b2 = b1;\n",
    "\n",
    "        // 5. Change the original primitive and the Book title\n",
    "        pages = 500;\n",
    "        b1.title = \"Advanced Java\";\n",
    "\n",
    "        // 6. Print both sets of values to compare behavior\n",
    "        System.out.println(\"Primitive variables:\");\n",
    "        System.out.println(\"pages = \" + pages);        // 500\n",
    "        System.out.println(\"pagesCopy = \" + pagesCopy); // 300\n",
    "\n",
    "        System.out.println(\"\\nBook objects:\");\n",
    "        System.out.println(\"b1 = \" + b1); // Advanced Java\n",
    "        System.out.println(\"b2 = \" + b2); // Advanced Java\n",
    "    }\n",
    "}\n",
    "\n",
    "class Book {\n",
    "    // 1. Declare variable: String title\n",
    "    String title;\n",
    "\n",
    "    // 2. Constructor to set the title\n",
    "    Book(String title) {\n",
    "        this.title = title;\n",
    "    }\n",
    "\n",
    "    // 3. toString() to show the title\n",
    "    @Override\n",
    "    public String toString() {\n",
    "        return \"Book title: \" + title;\n",
    "    }\n",
    "}\n",
    "\n",
    "HeapVsStack.main(null);"
   ]
  }
 ],
 "metadata": {
  "kernelspec": {
   "display_name": "Java",
   "language": "java",
   "name": "java"
  },
  "language_info": {
   "codemirror_mode": "java",
   "file_extension": ".jshell",
   "mimetype": "text/x-java-source",
   "name": "java",
   "pygments_lexer": "java",
   "version": "18.0.1.1+2-6"
  }
 },
 "nbformat": 4,
 "nbformat_minor": 5
}

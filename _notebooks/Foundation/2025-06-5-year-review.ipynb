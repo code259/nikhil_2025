{
 "cells": [
  {
   "cell_type": "raw",
   "id": "cb32a1d1",
   "metadata": {
    "vscode": {
     "languageId": "raw"
    }
   },
   "source": [
    "---\n",
    "layout: post\n",
    "title: Yearly Review Blog\n",
    "description: Yearly Review Blog\n",
    "type: issues\n",
    "comments: true\n",
    "---"
   ]
  },
  {
   "cell_type": "markdown",
   "id": "ced24615",
   "metadata": {},
   "source": [
    "## Linkedin\n",
    "\n",
    "Profile: https://www.linkedin.com/in/nikhil-maturi-40a8ab369/\n",
    "\n",
    "\n",
    "## N@TM (Night at the Museum) Experience\n",
    "\n",
    "## Executive Summary (i.e Five Things)\n",
    "\n",
    "## Trimester 1\n",
    "\n",
    "## Trimester 2\n",
    "\n",
    "## Trimester 3\n"
   ]
  }
 ],
 "metadata": {
  "language_info": {
   "name": "python"
  }
 },
 "nbformat": 4,
 "nbformat_minor": 5
}

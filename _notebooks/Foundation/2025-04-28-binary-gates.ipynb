{
 "cells": [
  {
   "cell_type": "raw",
   "id": "b362078c",
   "metadata": {
    "vscode": {
     "languageId": "raw"
    }
   },
   "source": [
    "---\n",
    "layout: post\n",
    "title: Binary Numbers and Logic Gates\n",
    "description: Binary Numbers and Logic Gates Teach Teach Blog\n",
    "type: issues\n",
    "comments: true\n",
    "---"
   ]
  },
  {
   "cell_type": "markdown",
   "id": "cc7335f1",
   "metadata": {},
   "source": [
    "# Homework Code"
   ]
  },
  {
   "cell_type": "raw",
   "id": "9ee2a363",
   "metadata": {
    "vscode": {
     "languageId": "raw"
    }
   },
   "source": [
    "TXT File:\n",
    "\n",
    "0000 0\n",
    "0001 1\n",
    "0010 2\n",
    "0011 3\n",
    "0100 4\n",
    "0101 5\n",
    "0110 6\n",
    "0111 7\n",
    "1000 8\n",
    "1001 9\n",
    "1010 A\n",
    "1011 B\n",
    "1100 C\n",
    "1101 D\n",
    "1110 E\n",
    "1111 F"
   ]
  },
  {
   "cell_type": "code",
   "execution_count": null,
   "id": "88b354c7",
   "metadata": {},
   "outputs": [],
   "source": [
    "def load_conversion_table(file_path):\n",
    "    conversion = {}\n",
    "    with open(file_path, 'r') as f:\n",
    "        for line in f:\n",
    "            binary, hex_digit = line.strip().split()\n",
    "            conversion[binary] = hex_digit\n",
    "    return conversion\n",
    "\n",
    "def binary_to_hex(binary_str, conversion_table):\n",
    "    while len(binary_str) % 4 != 0:\n",
    "        binary_str = '0' + binary_str\n",
    "\n",
    "    hex_str = ''\n",
    "    for i in range(0, len(binary_str), 4):\n",
    "        nibble = binary_str[i:i+4]\n",
    "        hex_digit = conversion_table.get(nibble, '?')\n",
    "        hex_str += hex_digit\n",
    "    return hex_str\n",
    "\n",
    "def main():\n",
    "    conversion_table = load_conversion_table('conversion.txt')\n",
    "    binary_input = input(\"Enter a binary number: \").strip()\n",
    "    hex_output = binary_to_hex(binary_input, conversion_table)\n",
    "    print(f\"Hexadecimal equivalent: {hex_output}\")\n",
    "\n",
    "main()\n"
   ]
  }
 ],
 "metadata": {
  "language_info": {
   "name": "python"
  }
 },
 "nbformat": 4,
 "nbformat_minor": 5
}

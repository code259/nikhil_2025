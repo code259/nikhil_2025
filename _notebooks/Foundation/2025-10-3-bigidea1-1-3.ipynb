{
 "cells": [
  {
   "cell_type": "raw",
   "id": "fbc96412",
   "metadata": {
    "vscode": {
     "languageId": "raw"
    }
   },
   "source": [
    "---\n",
    "layout: post\n",
    "title: Big Idea 1 Lesson 1.3\n",
    "description: Big Idea 1 Lesson 1.3\n",
    "type: issues\n",
    "comments: true\n",
    "---"
   ]
  },
  {
   "cell_type": "markdown",
   "id": "f1ca99b2",
   "metadata": {},
   "source": [
    "# Popcorn Hacks 1 & 2\n",
    "\n",
    "Was answered on the lesson during the class peiod."
   ]
  },
  {
   "cell_type": "markdown",
   "id": "1f029662",
   "metadata": {},
   "source": [
    "# Homework Hacks"
   ]
  },
  {
   "cell_type": "markdown",
   "id": "a153fe2b",
   "metadata": {
    "vscode": {
     "languageId": "raw"
    }
   },
   "source": [
    "## Homework Hack 1"
   ]
  },
  {
   "cell_type": "markdown",
   "id": "7bf4f825",
   "metadata": {},
   "source": [
    "1. The output is that AP CSA is on one line and the next line says Rocks!"
   ]
  },
  {
   "cell_type": "markdown",
   "id": "54fe17a2",
   "metadata": {},
   "source": [
    "2. See below\n"
   ]
  },
  {
   "cell_type": "code",
   "execution_count": 1,
   "id": "4eeea5c6",
   "metadata": {
    "vscode": {
     "languageId": "java"
    }
   },
   "outputs": [
    {
     "name": "stdout",
     "output_type": "stream",
     "text": [
      "C:\\Users\\Student\n"
     ]
    }
   ],
   "source": [
    "System.out.println(\"C:\\\\Users\\\\Student\");\n"
   ]
  },
  {
   "cell_type": "markdown",
   "id": "e541950e",
   "metadata": {},
   "source": [
    "3. See below."
   ]
  },
  {
   "cell_type": "code",
   "execution_count": 3,
   "id": "da7d4e41",
   "metadata": {
    "vscode": {
     "languageId": "java"
    }
   },
   "outputs": [],
   "source": [
    "import java.util.Scanner;\n",
    "\n",
    "public class Menu {\n",
    "    public static void main(String[] args) {\n",
    "        Scanner sc = new Scanner(System.in);\n",
    "\n",
    "        System.out.println(\"==== Main Menu ====\");\n",
    "        System.out.println(\"1. Start Game\");\n",
    "        System.out.println(\"2. Instructions\");\n",
    "        System.out.println(\"3. Exit\");\n",
    "        System.out.println(\"4. Settings\");   // ✅ New option added\n",
    "\n",
    "        System.out.print(\"Choose an option: \");\n",
    "        int choice = sc.nextInt();\n",
    "\n",
    "        System.out.println(\"You selected option: \" + choice);\n",
    "\n",
    "        int optionCount = 4;  // ✅ updated option count\n",
    "        System.out.println(\"There are \" + optionCount + \" total options.\");\n",
    "    }\n",
    "}\n"
   ]
  },
  {
   "cell_type": "markdown",
   "id": "edeb0f45",
   "metadata": {},
   "source": [
    "4. See below."
   ]
  },
  {
   "cell_type": "code",
   "execution_count": 4,
   "id": "00d192a4",
   "metadata": {
    "vscode": {
     "languageId": "java"
    }
   },
   "outputs": [
    {
     "name": "stdout",
     "output_type": "stream",
     "text": [
      "Pi = 3.14\n"
     ]
    },
    {
     "data": {
      "text/plain": [
       "java.io.PrintStream@3d817c54"
      ]
     },
     "execution_count": 4,
     "metadata": {},
     "output_type": "execute_result"
    }
   ],
   "source": [
    "System.out.printf(\"Pi = %.2f\\n\", Math.PI);"
   ]
  },
  {
   "cell_type": "markdown",
   "id": "f90283c0",
   "metadata": {},
   "source": [
    "## Homework Hack 2"
   ]
  },
  {
   "cell_type": "code",
   "execution_count": 5,
   "id": "023984d6",
   "metadata": {
    "vscode": {
     "languageId": "java"
    }
   },
   "outputs": [],
   "source": [
    "import java.util.Scanner;\n",
    "\n",
    "public class Menu {\n",
    "    public static void main(String[] args) {\n",
    "        Scanner sc = new Scanner(System.in);\n",
    "\n",
    "        // Print calculator menu\n",
    "        System.out.println(\"==== Calculator Menu ====\");\n",
    "        System.out.println(\"1. Add\");\n",
    "        System.out.println(\"2. Subtract\");\n",
    "        System.out.println(\"3. Multiply\");\n",
    "        System.out.println(\"4. Divide\");\n",
    "\n",
    "        // Ask user to choose an option\n",
    "        System.out.print(\"Choose an option: \");\n",
    "        int choice = sc.nextInt();\n",
    "\n",
    "        // Ask for two numbers\n",
    "        System.out.print(\"Enter first number: \");\n",
    "        double num1 = sc.nextDouble();\n",
    "\n",
    "        System.out.print(\"Enter second number: \");\n",
    "        double num2 = sc.nextDouble();\n",
    "\n",
    "        double result = 0; // variable to store the result\n",
    "        boolean validChoice = true;\n",
    "\n",
    "        // Compute result based on user choice\n",
    "        switch(choice) {\n",
    "            case 1: // Add\n",
    "                result = num1 + num2;\n",
    "                break;\n",
    "            case 2: // Subtract\n",
    "                result = num1 - num2;\n",
    "                break;\n",
    "            case 3: // Multiply\n",
    "                result = num1 * num2;\n",
    "                break;\n",
    "            case 4: // Divide\n",
    "                if (num2 != 0) {\n",
    "                    result = num1 / num2;\n",
    "                } else {\n",
    "                    System.out.println(\"Error: Cannot divide by zero.\");\n",
    "                    validChoice = false;\n",
    "                }\n",
    "                break;\n",
    "            default:\n",
    "                System.out.println(\"Invalid choice.\");\n",
    "                validChoice = false;\n",
    "        }\n",
    "\n",
    "        // Print result if valid\n",
    "        if (validChoice) {\n",
    "            System.out.println(\"Result: \" + result);\n",
    "        }\n",
    "    }\n",
    "}\n"
   ]
  },
  {
   "cell_type": "markdown",
   "id": "9c502b49",
   "metadata": {},
   "source": [
    "==== Calculator Menu ====\n",
    "1. Add\n",
    "2. Subtract\n",
    "3. Multiply\n",
    "4. Divide\n",
    "Choose an option: 1\n",
    "Enter first number: 10\n",
    "Enter second number: 5\n",
    "Result: 15.0"
   ]
  },
  {
   "cell_type": "markdown",
   "id": "0ceadb62",
   "metadata": {},
   "source": [
    "## Homework Hack 3\n",
    "\n",
    "- Photo submitted directly in form as asked. "
   ]
  }
 ],
 "metadata": {
  "kernelspec": {
   "display_name": "Java",
   "language": "java",
   "name": "java"
  },
  "language_info": {
   "codemirror_mode": "java",
   "file_extension": ".jshell",
   "mimetype": "text/x-java-source",
   "name": "Java",
   "pygments_lexer": "java",
   "version": "18.0.1.1+2-6"
  }
 },
 "nbformat": 4,
 "nbformat_minor": 5
}

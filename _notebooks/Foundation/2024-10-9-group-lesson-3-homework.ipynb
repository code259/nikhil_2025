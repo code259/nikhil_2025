{
 "cells": [
  {
   "cell_type": "raw",
   "metadata": {
    "vscode": {
     "languageId": "raw"
    }
   },
   "source": [
    "---\n",
    "layout: post\n",
    "title: Group Lesson 4 Homework \n",
    "description: Popcorn and Homework Hacks\n",
    "type: issues \n",
    "comments: true\n",
    "---"
   ]
  },
  {
   "cell_type": "markdown",
   "metadata": {},
   "source": [
    "### Popcorn Hacks"
   ]
  },
  {
   "cell_type": "code",
   "execution_count": 1,
   "metadata": {},
   "outputs": [
    {
     "name": "stdout",
     "output_type": "stream",
     "text": [
      "f(2) = 7\n",
      "f(5) = 13\n",
      "f(7) = 37\n",
      "f(10) = 103\n"
     ]
    }
   ],
   "source": [
    "# List of x-coordinates to be plugged into the equation to get the corresponding y-values\n",
    "x_values = [2, 5, 7, 10]\n",
    "\n",
    "# Loop to iterate through the list of x-coordinates\n",
    "for x in x_values:\n",
    "    # Calculate the corresponding y-values using the equation f(x) = 2(x - 3)^2 + 5\n",
    "    y = 2 * (x - 3) ** 2 + 5\n",
    "    # Print the result for each x-coordinate\n",
    "    print(f\"f({x}) = {y}\")\n"
   ]
  },
  {
   "cell_type": "code",
   "execution_count": 2,
   "metadata": {},
   "outputs": [
    {
     "name": "stdout",
     "output_type": "stream",
     "text": [
      "103.0\n"
     ]
    }
   ],
   "source": [
    "numb1 = 40\n",
    "numb2 = numb1 /4 \n",
    "numb3 = numb2 * 10 + 3\n",
    "print(numb3)"
   ]
  },
  {
   "cell_type": "code",
   "execution_count": 3,
   "metadata": {},
   "outputs": [
    {
     "name": "stdout",
     "output_type": "stream",
     "text": [
      "Add: 199\n",
      "Subtract: 1\n",
      "Multiply: 9900\n",
      "Divide: 1.0101010101010102\n"
     ]
    }
   ],
   "source": [
    "a, b = 100, 99\n",
    "\n",
    "Add = a + b\n",
    "Subtract = a - b\n",
    "Multiply = a * b\n",
    "Divide = a / b if b != 0 else 'undefined'\n",
    "\n",
    "print(f\"Add: {Add}\")\n",
    "print(f\"Subtract: {Subtract}\")\n",
    "print(f\"Multiply: {Multiply}\")\n",
    "print(f\"Divide: {Divide}\")"
   ]
  },
  {
   "cell_type": "code",
   "execution_count": 4,
   "metadata": {},
   "outputs": [
    {
     "name": "stdout",
     "output_type": "stream",
     "text": [
      "The 5th Fibonacci number is: 3\n"
     ]
    }
   ],
   "source": [
    "def fibonacci(n):\n",
    "    if n <= 0:\n",
    "        return \"invalid\"\n",
    "    elif n == 1:\n",
    "        return 0\n",
    "    elif n == 2:\n",
    "        return 1\n",
    "    else:\n",
    "        return fibonacci(n - 1) + fibonacci(n - 2)\n",
    "\n",
    "\n",
    "n = 5\n",
    "print(f\"The {n}th Fibonacci number is: {fibonacci(n)}\")"
   ]
  },
  {
   "cell_type": "code",
   "execution_count": 9,
   "metadata": {},
   "outputs": [
    {
     "name": "stdout",
     "output_type": "stream",
     "text": [
      "A is true, so B must also be true: True\n",
      "B is true, we cannot conclude anything about A.\n"
     ]
    }
   ],
   "source": [
    "def A():\n",
    "    return True  # Condition A\n",
    "\n",
    "def B():\n",
    "    return True  # Condition B\n",
    "\n",
    "# Original statement: if A then B\n",
    "if A():\n",
    "    print(\"A is true, so B must also be true:\", B())\n",
    "else:\n",
    "    print(\"A is false, we cannot conclude anything about B.\")\n",
    "\n",
    "# Contrapositive: if not B then not A\n",
    "if not B():\n",
    "    print(\"B is false, therefore A must also be false:\", not A())\n",
    "else:\n",
    "    print(\"B is true, we cannot conclude anything about A.\")\n"
   ]
  },
  {
   "cell_type": "markdown",
   "metadata": {},
   "source": [
    "### Homework Hacks"
   ]
  },
  {
   "cell_type": "markdown",
   "metadata": {},
   "source": [
    "##### Alternate Fibonacci Implementation"
   ]
  },
  {
   "cell_type": "code",
   "execution_count": 6,
   "metadata": {},
   "outputs": [
    {
     "name": "stdout",
     "output_type": "stream",
     "text": [
      "3\n"
     ]
    }
   ],
   "source": [
    "fibonacci = [0, 1]\n",
    "\n",
    "num = int(input(\"Enter the number until which you want to calculate: \"))\n",
    "\n",
    "# subtract one to account for preset fibonacci numbers\n",
    "for i in range(num):\n",
    "    fibonacci.append(fibonacci[i] + fibonacci[i + 1])\n",
    "    if len(fibonacci) == num:\n",
    "        break\n",
    "\n",
    "print(fibonacci[-1])"
   ]
  },
  {
   "cell_type": "code",
   "execution_count": 8,
   "metadata": {},
   "outputs": [
    {
     "name": "stderr",
     "output_type": "stream",
     "text": [
      "INFO:Matrix raised to power 7:\n",
      "[[21 13]\n",
      " [13 8]]\n"
     ]
    },
    {
     "name": "stdout",
     "output_type": "stream",
     "text": [
      "Fibonacci number at position 8 is: 21\n"
     ]
    }
   ],
   "source": [
    "import numpy as np\n",
    "import logging\n",
    "import sys\n",
    "\n",
    "# Configure logging\n",
    "logging.basicConfig(level=logging.INFO, format='%(levelname)s:%(message)s')\n",
    "\n",
    "def matrix_multiply(A, B):\n",
    "    \"\"\"\n",
    "    Perform matrix multiplication between two numpy arrays A and B.\n",
    "    \"\"\"\n",
    "    logging.debug(f\"Multiplying matrices:\\n{A}\\n{B}\")\n",
    "    return np.dot(A, B)\n",
    "\n",
    "def matrix_power(M, power):\n",
    "    \"\"\"\n",
    "    Raise matrix M to the specified power using binary exponentiation.\n",
    "    \"\"\"\n",
    "    if power < 0:\n",
    "        raise ValueError(\"Power must be a non-negative integer.\")\n",
    "    \n",
    "    result = np.identity(len(M), dtype=object)\n",
    "    logging.debug(f\"Initial identity matrix:\\n{result}\")\n",
    "    \n",
    "    while power > 0:\n",
    "        if power % 2 == 1:\n",
    "            result = matrix_multiply(result, M)\n",
    "            logging.debug(f\"Result after multiplying by M:\\n{result}\")\n",
    "        M = matrix_multiply(M, M)\n",
    "        logging.debug(f\"Matrix M squared:\\n{M}\")\n",
    "        power = power // 2\n",
    "        logging.debug(f\"Power reduced to: {power}\")\n",
    "    \n",
    "    return result\n",
    "\n",
    "def fibonacci_matrix(n):\n",
    "    \"\"\"\n",
    "    Calculate the nth Fibonacci number using matrix exponentiation.\n",
    "    \"\"\"\n",
    "    if not isinstance(n, int):\n",
    "        raise TypeError(\"Input must be an integer.\")\n",
    "    if n < 0:\n",
    "        raise ValueError(\"Fibonacci number is not defined for negative integers.\")\n",
    "    elif n == 0:\n",
    "        return 0\n",
    "    elif n == 1:\n",
    "        return 1\n",
    "    \n",
    "    F = np.array([[1, 1],\n",
    "                  [1, 0]], dtype=object)\n",
    "    \n",
    "    result = matrix_power(F, n-1)\n",
    "    \n",
    "    logging.info(f\"Matrix raised to power {n-1}:\\n{result}\")\n",
    "    \n",
    "    return result[0][0]\n",
    "\n",
    "def validate_input(user_input):\n",
    "    \"\"\"\n",
    "    Validate the user input to ensure it's a non-negative integer.\n",
    "    \"\"\"\n",
    "    try:\n",
    "        value = int(user_input)\n",
    "        if value < 0:\n",
    "            raise ValueError\n",
    "        return value\n",
    "    except ValueError:\n",
    "        raise ValueError(\"Please enter a valid non-negative integer.\")\n",
    "\n",
    "def main():\n",
    "    \"\"\"\n",
    "    Main function to execute the Fibonacci calculation.\n",
    "    \"\"\"\n",
    "    try:\n",
    "        user_input = input(\"Enter the position of the Fibonacci number you want to calculate: \")\n",
    "        n = validate_input(user_input)\n",
    "        fib_n = fibonacci_matrix(n)\n",
    "        print(f\"Fibonacci number at position {n} is: {fib_n}\")\n",
    "    except ValueError as ve:\n",
    "        logging.error(ve)\n",
    "    except Exception as e:\n",
    "        logging.error(f\"An unexpected error occurred: {e}\")\n",
    "        sys.exit(1)\n",
    "\n",
    "if __name__ == \"__main__\":\n",
    "    main()"
   ]
  },
  {
   "cell_type": "code",
   "execution_count": 1,
   "metadata": {
    "vscode": {
     "languageId": "javascript"
    }
   },
   "outputs": [
    {
     "data": {
      "application/javascript": "\nclass FibonacciDP {\n    fibonacci(n) {\n        if (n === 0) return 0;\n        if (n === 1) return 1;\n        let prev1 = 1, prev2 = 0;\n        let current = 0;\n        for (let i = 2; i <= n; i++) {\n            current = prev1 + prev2;\n            prev2 = prev1;\n            prev1 = current;\n        }\n\n        return current;\n    }\n    fibonacciMatrix(n) {\n        if (n === 0) return 0;\n\n        let F = [[1, 1], [1, 0]];\n        this.power(F, n - 1);\n\n        return F[0][0];\n    }\n    power(F, n) {\n        if (n === 0 || n === 1) return;\n\n        let M = [[1, 1], [1, 0]];\n\n        this.power(F, Math.floor(n / 2));\n        this.multiply(F, F); \n\n        if (n % 2 !== 0) this.multiply(F, M); \n    }\n    multiply(F, M) {\n        let x = F[0][0] * M[0][0] + F[0][1] * M[1][0];\n        let y = F[0][0] * M[0][1] + F[0][1] * M[1][1];\n        let z = F[1][0] * M[0][0] + F[1][1] * M[1][0];\n        let w = F[1][0] * M[0][1] + F[1][1] * M[1][1];\n\n        F[0][0] = x;\n        F[0][1] = y;\n        F[1][0] = z;\n        F[1][1] = w;\n    }\n}\n\n\nlet n = 50;\nconsole.log(`Fibonacci number at position ${n} using DP is: ` + FibonacciDP.fibonacci(n));\nconsole.log(`Fibonacci number at position ${n} using Matrix Exponentiation is: ` + FibonacciDP.fibonacciMatrix(n));\n",
      "text/plain": [
       "<IPython.core.display.Javascript object>"
      ]
     },
     "metadata": {},
     "output_type": "display_data"
    }
   ],
   "source": [
    "%%js\n",
    "\n",
    "class FibonacciDP {\n",
    "    static fibonacci(n) {\n",
    "        if (n === 0) return 0;\n",
    "        if (n === 1) return 1;\n",
    "        let prev1 = 1, prev2 = 0;\n",
    "        let current = 0;\n",
    "        for (let i = 2; i <= n; i++) {\n",
    "            current = prev1 + prev2;\n",
    "            prev2 = prev1;\n",
    "            prev1 = current;\n",
    "        }\n",
    "\n",
    "        return current;\n",
    "    }\n",
    "    static fibonacciMatrix(n) {\n",
    "        if (n === 0) return 0;\n",
    "\n",
    "        let F = [[1, 1], [1, 0]];\n",
    "        this.power(F, n - 1);\n",
    "\n",
    "        return F[0][0];\n",
    "    }\n",
    "    static power(F, n) {\n",
    "        if (n === 0 || n === 1) return;\n",
    "\n",
    "        let M = [[1, 1], [1, 0]];\n",
    "\n",
    "        this.power(F, Math.floor(n / 2));\n",
    "        this.multiply(F, F); \n",
    "\n",
    "        if (n % 2 !== 0) this.multiply(F, M); \n",
    "    }\n",
    "    static multiply(F, M) {\n",
    "        let x = F[0][0] * M[0][0] + F[0][1] * M[1][0];\n",
    "        let y = F[0][0] * M[0][1] + F[0][1] * M[1][1];\n",
    "        let z = F[1][0] * M[0][0] + F[1][1] * M[1][0];\n",
    "        let w = F[1][0] * M[0][1] + F[1][1] * M[1][1];\n",
    "\n",
    "        F[0][0] = x;\n",
    "        F[0][1] = y;\n",
    "        F[1][0] = z;\n",
    "        F[1][1] = w;\n",
    "    }\n",
    "}\n",
    "\n",
    "\n",
    "let n = 50;\n",
    "console.log(`Fibonacci number at position ${n} using one method is: ` + FibonacciDP.fibonacci(n));\n",
    "console.log(`Fibonacci number at position ${n} using alternate method is: ` + FibonacciDP.fibonacciMatrix(n));\n"
   ]
  },
  {
   "cell_type": "code",
   "execution_count": 10,
   "metadata": {},
   "outputs": [
    {
     "name": "stdout",
     "output_type": "stream",
     "text": [
      "A     B | AND | OR | NOT A\n",
      "---------------------------\n",
      "1     1     | 1    | 1   | False\n",
      "1     0     | 0    | 1   | False\n",
      "0     1     | 0    | 1   | True\n",
      "0     0     | 0    | 0   | True\n"
     ]
    }
   ],
   "source": [
    "def AND(A, B):\n",
    "    return A and B\n",
    "\n",
    "def OR(A, B):\n",
    "    return A or B\n",
    "\n",
    "def NOT(A):\n",
    "    return not A\n",
    "\n",
    "print(\"A     B | AND | OR | NOT A\")\n",
    "print(\"---------------------------\")\n",
    "for A in [True, False]:\n",
    "    for B in [True, False]:\n",
    "        print(f\"{A:<5} {B:<5} | {AND(A, B):<4} | {OR(A, B):<3} | {NOT(A)}\")\n"
   ]
  },
  {
   "cell_type": "code",
   "execution_count": 2,
   "metadata": {
    "vscode": {
     "languageId": "javascript"
    }
   },
   "outputs": [
    {
     "data": {
      "application/javascript": "class LogicGateSimulator {\n\n    // Define logic gate functions\n    static AND(A, B) {\n        return A && B;\n    }\n\n    static OR(A, B) {\n        return A || B;\n    }\n\n    static NOT(A) {\n        return !A;\n    }\n\n    static NAND(A, B) {\n        return !(A && B);\n    }\n\n    static NOR(A, B) {\n        return !(A || B);\n    }\n\n    static XOR(A, B) {\n        return A ^ B;\n    }\n    static displayGateOperations(A, B) {\n        console.log(`A: ${A}, B: ${B}`);\n        console.log(`AND: ${LogicGateSimulator.AND(A, B)}`);\n        console.log(`OR: ${LogicGateSimulator.OR(A, B)}`);\n        console.log(`NOT A: ${LogicGateSimulator.NOT(A)}`);\n        console.log(`NAND: ${LogicGateSimulator.NAND(A, B)}`);\n        console.log(`NOR: ${LogicGateSimulator.NOR(A, B)}`);\n        console.log(`XOR: ${LogicGateSimulator.XOR(A, B)}`);\n        console.log(\"-----------------------------\");\n    }\n\n    static main() {\n        const readline = require('readline').createInterface({\n            input: process.stdin,\n            output: process.stdout\n        });\n\n        console.log(\"Logic Gate Simulator\");\n        console.log(\"Enter 'exit' to quit\");\n\n        const askQuestions = () => {\n            readline.question(\"Enter value for A (true/false): \", (A_input) => {\n                if (A_input.trim().toLowerCase() === \"exit\") {\n                    readline.close();\n                    return;\n                }\n\n                readline.question(\"Enter value for B (true/false): \", (B_input) => {\n                    if (B_input.trim().toLowerCase() === \"exit\") {\n                        readline.close();\n                        return;\n                    }\n\n\n                    const A = A_input.trim().toLowerCase() === 'true';\n                    const B = B_input.trim().toLowerCase() === 'true';\n\n\n                    LogicGateSimulator.displayGateOperations(A, B);\n                    askQuestions();\n                });\n            });\n        };\n\n        askQuestions();\n    }\n}\n\nLogicGateSimulator.main();\n\n",
      "text/plain": [
       "<IPython.core.display.Javascript object>"
      ]
     },
     "metadata": {},
     "output_type": "display_data"
    }
   ],
   "source": [
    "%%js\n",
    "class LogicGateSimulator {\n",
    "\n",
    "    // Define logic gate functions\n",
    "    static AND(A, B) {\n",
    "        return A && B;\n",
    "    }\n",
    "\n",
    "    static OR(A, B) {\n",
    "        return A || B;\n",
    "    }\n",
    "\n",
    "    static NOT(A) {\n",
    "        return !A;\n",
    "    }\n",
    "\n",
    "    static NAND(A, B) {\n",
    "        return !(A && B);\n",
    "    }\n",
    "\n",
    "    static NOR(A, B) {\n",
    "        return !(A || B);\n",
    "    }\n",
    "\n",
    "    static XOR(A, B) {\n",
    "        return A ^ B;\n",
    "    }\n",
    "    static displayGateOperations(A, B) {\n",
    "        console.log(`A: ${A}, B: ${B}`);\n",
    "        console.log(`AND: ${LogicGateSimulator.AND(A, B)}`);\n",
    "        console.log(`OR: ${LogicGateSimulator.OR(A, B)}`);\n",
    "        console.log(`NOT A: ${LogicGateSimulator.NOT(A)}`);\n",
    "        console.log(`NAND: ${LogicGateSimulator.NAND(A, B)}`);\n",
    "        console.log(`NOR: ${LogicGateSimulator.NOR(A, B)}`);\n",
    "        console.log(`XOR: ${LogicGateSimulator.XOR(A, B)}`);\n",
    "        console.log(\"-----------------------------\");\n",
    "    }\n",
    "\n",
    "    static main() {\n",
    "        const readline = require('readline').createInterface({\n",
    "            input: process.stdin,\n",
    "            output: process.stdout\n",
    "        });\n",
    "\n",
    "        console.log(\"Logic Gate Simulator\");\n",
    "        console.log(\"Enter 'exit' to quit\");\n",
    "\n",
    "        const askQuestions = () => {\n",
    "            readline.question(\"Enter value for A (true/false): \", (A_input) => {\n",
    "                if (A_input.trim().toLowerCase() === \"exit\") {\n",
    "                    readline.close();\n",
    "                    return;\n",
    "                }\n",
    "\n",
    "                readline.question(\"Enter value for B (true/false): \", (B_input) => {\n",
    "                    if (B_input.trim().toLowerCase() === \"exit\") {\n",
    "                        readline.close();\n",
    "                        return;\n",
    "                    }\n",
    "\n",
    "\n",
    "                    const A = A_input.trim().toLowerCase() === 'true';\n",
    "                    const B = B_input.trim().toLowerCase() === 'true';\n",
    "\n",
    "\n",
    "                    LogicGateSimulator.displayGateOperations(A, B);\n",
    "                    askQuestions();\n",
    "                });\n",
    "            });\n",
    "        };\n",
    "\n",
    "        askQuestions();\n",
    "    }\n",
    "}\n",
    "\n",
    "LogicGateSimulator.main();\n",
    "\n"
   ]
  },
  {
   "cell_type": "code",
   "execution_count": null,
   "metadata": {},
   "outputs": [],
   "source": [
    "def A():\n",
    "    return True  # Condition A\n",
    "\n",
    "def B():\n",
    "    return True  # Condition B\n",
    "\n",
    "# Original statement: if A then B\n",
    "if A():\n",
    "    print(\"A is true, so B must also be true:\", B())\n",
    "else:\n",
    "    print(\"A is false, we cannot conclude anything about B.\")\n",
    "\n",
    "# Contrapositive: if not B then not A\n",
    "if not B():\n",
    "    print(\"B is false, therefore A must also be false:\", not A())\n",
    "else:\n",
    "    print(\"B is true, we cannot conclude anything about A.\")\n"
   ]
  },
  {
   "cell_type": "markdown",
   "metadata": {},
   "source": [
    "### Contrapositive Law Explanation\n",
    "\n",
    "The contrapositive law states that an if-then statement is only true if its contrapositive is true. The contrapositive of an if-then statement is the statement negated and inverted. For example:\n",
    "\n",
    "Original: If I eat 100 donuts, then I will get sick.\n",
    "Contrapositive: If I don't get sick, then I don't eat 100 donuts.\n",
    "\n",
    "Contrapositive is an example of booleans as it relies on True and False Statements."
   ]
  },
  {
   "cell_type": "markdown",
   "metadata": {},
   "source": [
    "### De Morgan's Law Explanation\n",
    "\n",
    "![De Morgan's Laws](https://upload.wikimedia.org/wikipedia/commons/thumb/0/06/Demorganlaws.svg/800px-Demorganlaws.svg.png)\n",
    "\n",
    "De Morgan's first law:\n",
    "The complement of the union of two sets is the intersection of their complements.\n",
    "\n",
    "Regular English Equivalent: Not (A and B) is the same as Not A or Not B.\n",
    "\n",
    "Statement: \"It's not true that I will eat cake and ice cream.\"\n",
    "Applying De Morgan's First Law: \"Either I will not eat pizza or I will not eat ice cream.\"\n",
    "\n",
    "---------------------------------------------------------------------------------------------\n",
    "\n",
    "De Morgan's second law:\n",
    "The complement of the intersection of two sets is the union of their complements.\n",
    "\n",
    "Regular English Equivalent: Not (A or B) is the same as Not A and Not B.\n",
    "\n",
    "Statement: \"It's not true that I will eat a cake or eat a ice cream.\"\n",
    "Applying De Morgan's Second Law: \"I will neither eat cake nor eat icecream.\"\n",
    "\n",
    "Use Cases of De Morgan's Laws: Can help in Math and CS for logical tasks, circuit design, etc.\n",
    "\n"
   ]
  },
  {
   "cell_type": "code",
   "execution_count": 3,
   "metadata": {
    "vscode": {
     "languageId": "javascript"
    }
   },
   "outputs": [
    {
     "data": {
      "application/javascript": "// same as not(a and b)\nif (!(isRaining && isCold)) {\n    console.log(\"It's either not raining or not cold.\");\n}\n\n// shows not A or Not B, as ! represents not and the || represents or.\nif (!isRaining || !isCold) {\n    console.log(\"It's either not raining or not cold.\");\n}\n",
      "text/plain": [
       "<IPython.core.display.Javascript object>"
      ]
     },
     "metadata": {},
     "output_type": "display_data"
    }
   ],
   "source": [
    "%%js\n",
    "// same as not(a and b)\n",
    "if (!(isRaining && isCold)) {\n",
    "    console.log(\"It's either not raining or not cold.\");\n",
    "}\n",
    "\n",
    "// shows not A or Not B, as ! represents not and the || represents or.\n",
    "if (!isRaining || !isCold) {\n",
    "    console.log(\"It's either not raining or not cold.\");\n",
    "}\n"
   ]
  }
 ],
 "metadata": {
  "kernelspec": {
   "display_name": "venv",
   "language": "python",
   "name": "python3"
  },
  "language_info": {
   "codemirror_mode": {
    "name": "ipython",
    "version": 3
   },
   "file_extension": ".py",
   "mimetype": "text/x-python",
   "name": "python",
   "nbconvert_exporter": "python",
   "pygments_lexer": "ipython3",
   "version": "3.9.19"
  }
 },
 "nbformat": 4,
 "nbformat_minor": 2
}

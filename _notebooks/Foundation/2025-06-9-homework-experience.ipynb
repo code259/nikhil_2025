{
 "cells": [
  {
   "cell_type": "raw",
   "id": "a400362c",
   "metadata": {
    "vscode": {
     "languageId": "raw"
    }
   },
   "source": [
    "---\n",
    "layout: post\n",
    "title: Homework Experience Final Review\n",
    "description: Homework Experience Final Review\n",
    "type: issues\n",
    "comments: true\n",
    "---"
   ]
  },
  {
   "cell_type": "markdown",
   "id": "0b59caea",
   "metadata": {},
   "source": [
    "## AP CSP Certificate of Homework Completion 📜\n",
    "\n",
    "> ---  \n",
    ">   \n",
    "> **Awarded To:**  \n",
    "> **Nikhil Maturi**  \n",
    ">   \n",
    "> **For:**  \n",
    "> Exemplary dedication, consistency, and computational excellence in completing  \n",
    "> **_all assigned homework for AP Computer Science Principles_**  \n",
    "> with integrity, creativity, and a strong commitment to learning.  \n",
    ">   \n",
    "> ---  \n",
    ">   \n",
    "> ## Highlights of Achievement:  \n",
    "> - On-time submissions, even during bug-filled nights  \n",
    "> - Thoughtful pseudocode and logical problem-solving  \n",
    "> - Debugged problems that arose  \n",
    "> - Demonstrated growth in core CSP concepts:  \n",
    ">   *Algorithms, Abstractions, Data, the Internet, and more*  \n",
    ">   \n",
    "> ---  \n",
    ">   \n",
    "> ## 🏅 Issued By:  \n",
    "> **[Instructor's Name]**  \n",
    "> _AP Computer Science Principles_  \n",
    ">   \n",
    "> 📅 **Date Issued:** `06/06/2025`  \n",
    ">   \n",
    "> ---  \n",
    ">   \n",
    "> > *\"The computer was born to solve problems that did not exist before.\"*  \n",
    "> > — Bill Gates  \n",
    ">   \n",
    "> ---"
   ]
  },
  {
   "cell_type": "markdown",
   "id": "f993f60d",
   "metadata": {},
   "source": [
    "## Lesson Table\n",
    "\n",
    "| Big Idea | Topic                          | Lesson Link                                                                                      | Homework Link                                                                                              | Study Video / Study Guide                                                                                                     | Importance | ✅ Complete |\n",
    "|----------|--------------------------------|--------------------------------------------------------------------------------------------------|-------------------------------------------------------------------------------------------------------------|------------------------------------------------------------------------------------------------------------------------------|------------|-------------|\n",
    "| 5        | Beneficial / Harmful Effects   | [Lesson](https://sanpranav.github.io/QcommVNE_Frontend/Benefical)                               | –                                                                                                           | [Fiveable](https://library.fiveable.me/ap-comp-sci-p/unit-5/beneficial-harmful-effects/study-guide/rErWKPcu55DLj7N7L8hZ)     | High       | ✅          |\n",
    "| 5        | Digital Divide                 | [Lesson](https://sanpranav.github.io/QcommVNE_Frontend/DigitalD)                                | [HW](https://kiruthic-selvakumar.github.io/Kiruthic_student_2025/2025/03/21/digitaldivide_IPYNB_2_.html)   | [Fiveable](https://library.fiveable.me/ap-comp-sci-p/unit-5/digital-divide/study-guide/cPITNOBetOdsC1E7wfig)                 | High       | ✅          |\n",
    "| 5        | Computing Bias                 | [Lesson](https://shawnray09.github.io/computerbias/2025/03/18/computing-bias.html)              | –                                                                                                           | [Fiveable](https://library.fiveable.me/ap-comp-sci-p/unit-5/computing-bias/study-guide/Wn6X4YFxicWX7hJcjAlq)                 | Medium     | ✅          |\n",
    "| 5        | Crowdsourcing                  | [Lesson](https://vibha1019.github.io/team_teach_tri3/crowdsourcing-lesson)                      | –                                                                                                           | [Fiveable](https://library.fiveable.me/ap-comp-sci-p/unit-5/crowdsourcing/study-guide/DEDLDePHCG22EMDaFXhh)                  | Medium     | ✅          |\n",
    "| 5        | Legal / Ethical Concerns       | –                                                                                                | –                                                                                                           | [Fiveable](https://library.fiveable.me/ap-comp-sci-p/unit-5/legal-ethical-concerns/study-guide/dAf2KQxLsqwN3aEvajq0)         | Low        | ✅          |\n",
    "| 5        | Safe Computing                 | –                                                                                                | –                                                                                                           | [Fiveable](https://library.fiveable.me/ap-comp-sci-p/unit-5/safe-computing/study-guide/zMi0PutBHnDjIlOB5lMs)                 | Low        | ✅          |\n",
    "| 3        | Binary Search Algorithm        | [Lesson](https://hypernova101.github.io/MihirCSP/2025/03/19/binarysearch.html)                  | –                                                                                                           | [Khan Academy](https://www.khanacademy.org/computing/computer-science/algorithms/binary-search/a/binary-search)             | High       | ✅          |\n",
    "| 3        | Lists and Filtering Algorithm  | [Lesson](https://sanpranav.github.io/QcommVNE_Frontend/ListsFilter)                             | [HW](https://kiruthic-selvakumar.github.io/Kiruthic_student_2025/2025/04/09/listsandfiltering_IPYNB_2_.html) | [Khan](https://www.khanacademy.org/computing/ap-computer-science-principles/programming-101/lists/a/storing-lists-of-data)  | High       | ✅          |\n",
    "| 3        | Simulations & Random           | [Lesson](https://vibha1019.github.io/team_teach_tri3/simulationteamteach)                       | [HW](https://kiruthic-selvakumar.github.io/Kiruthic_student_2025/2025/04/10/listsandfilter_IPYNB_2_.html) | [Fiveable](https://library.fiveable.me/ap-comp-sci-p/unit-3/simulations/study-guide/FbXrprMnzc77nAnIX4rw)                   | Medium     | ✅          |\n",
    "| 3        | Big O Algorithm Efficiency     | [Lesson](https://sanpranav.github.io/QcommVNE_Frontend/BigO)                                    | –                                                                                                           | [Fiveable](https://library.fiveable.me/lists/big-o-notation-examples)                                                        | Medium     | ✅          |\n",
    "| 3        | Undecidable + Graphs           | –                                                                                                | –                                                                                                           | [Khan](https://www.khanacademy.org/computing/ap-computer-science-principles/algorithms-101/solving-hard-problems/a/undecidable-problems) | Medium     | ✅          |\n",
    "| 3        | Binary / Base 2 / Logic Gates  | [Lesson](https://sanpranav.github.io/QcommVNE_Frontend/Binary)                                  | –                                                                                                           | [Khan](https://www.khanacademy.org/computing/computers-and-internet/xcae6f4a7ff015e7d%3Adigital-information/xcae6f4a7ff015e7d%3Abinary-numbers/a/bits-and-binary) | High       | ✅          |\n",
    "| 3        | Color Codes / Images / Base64  | [Lesson](https://xaviertho.github.io/csp/image-lesson)                                          | –                                                                                                           | [Code.org](https://forum.code.org/t/ap-csp-unit-1-lesson-8-color-pixelation-task-2/33208)                                    | Medium     | ✅          |\n"
   ]
  }
 ],
 "metadata": {
  "language_info": {
   "name": "python"
  }
 },
 "nbformat": 4,
 "nbformat_minor": 5
}

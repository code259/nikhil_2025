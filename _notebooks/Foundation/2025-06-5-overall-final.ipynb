{
 "cells": [
  {
   "cell_type": "raw",
   "id": "1957392b",
   "metadata": {
    "vscode": {
     "languageId": "raw"
    }
   },
   "source": [
    "---\n",
    "layout: post\n",
    "title: Final Review Blog\n",
    "description: Overall final review of the course and aggregation of all blogs\n",
    "type: issues\n",
    "comments: true\n",
    "---"
   ]
  },
  {
   "cell_type": "markdown",
   "id": "f6408ada",
   "metadata": {
    "vscode": {
     "languageId": "raw"
    }
   },
   "source": [
    "# Overview\n",
    "\n",
    "### Night at the Museum Experiences: [View Post]({{site.baseurl}}/2025/06/05/natm-year-review_IPYNB_2_.html)\n",
    "### Homework Experience: [View Post]({{site.baseurl}}/2025/06/09/homework-experience_IPYNB_2_.html)\n",
    "### Project Overviews: [View Post]({{site.baseurl}}/2025/06/09/project-final-overview_IPYNB_2_.html)"
   ]
  },
  {
   "cell_type": "markdown",
   "id": "bc39fcde",
   "metadata": {},
   "source": [
    "## Executive Summary (i.e Five Things & Macro Skill Perspective)\n",
    "- Developed presentation skills, developed speaking clarity transitioning from fast chaotic presentation to more slow methodic presentation style. Learned and slowly practiced implementing consolidation to review fewer core concepts in presentations, and practiced/learned how to make a pitch video.\n",
    "- Developed frontend design and developement skills, through multiple projects such as Pyre, Pawnsy, Personal Website, etc. and the numerous websites in each of those pages learned the basics of user design and experience. For instance having core features consolidated if possible, clear colors and text for user readibility, clear navigation, etc. Also developed HTML, CSS and DOM manipulation skills to create desired frontend experiences whether that be modals, animation, etc.\n",
    "- Developed deployment skills such as setting up DNS in Route 53, and then creating nginx files, docker files for containerization, certbot for website security, and other valuable skills such as the iteration and continous deployment cycle post-deployment.\n",
    "- Developed Backend CRUD and API creation skills such as making REST APIs with Create, Read, Update/Patch, and Delete requests in flask. Also learned how to test those APIs in Postman and debug using the console and other tools available. Developed skills to integrate those APIs in the frontend with fetch requests and then DOM manipulation tactics.\n",
    "- Developed Machine Learning skills through Pyre Project, intially with Titanic learning basic data analysis methods such as data gathering, metrics analysis, row clearing, etc. Then developed practice with creating Machine Learning models with Scikit-Learn such as linear regression, logistic regression, clustering models, etc. Also developed and learned how to utilize Large Language Models such as Gemini and integrating it effectively with system prompting.\n"
   ]
  },
  {
   "cell_type": "markdown",
   "id": "a60df1ab",
   "metadata": {},
   "source": [
    "## Linkedin\n",
    "\n",
    "### Link: [Link to Linkedin](https://www.linkedin.com/in/nikhil-maturi-40a8ab369/)\n",
    "\n",
    "<img src=\"{{site.baseurl}}/images/linkedin_project.png\">\n",
    "<img src=\"{{site.baseurl}}/images/linkedin_profile.png\">\n",
    "\n",
    "## Statistics\n",
    "\n",
    "Below is my GitHub activity this trimester. It shows my consistent contributions across multiple projects, from front-end development to backend APIs and machine learning\n",
    "\n",
    "<img src=\"{{site.baseurl}}/images/github_analytics.png\">\n",
    "\n",
    "- Major Projects Contributed To: Pawnsy (Trimester 2), Pyre (Trimester 3), Personal Website\n",
    "- Tools Used: GitHub Actions, Issue Tracking, Commit Logging\n",
    "\n",
    "<img src=\"{{site.baseurl}}/images/grade_predictor.png\">\n",
    "\n",
    "### Predicted Score: 90%\n",
    "\n",
    "**Takeaways:**\n",
    "- Consistency in contributions was a valuable habit I built this year, at the beginning of this year my commits were very large but after understanding that consistent commits are key to effective team developement and proper practice to ensure reverting is possible I shifted to shorter commits.\n",
    "- Predictive tools are not just motivational — they can validate or invalidate the amount of work you put into a project and can help motivate you to commit more to the team."
   ]
  },
  {
   "cell_type": "markdown",
   "id": "48e74852",
   "metadata": {},
   "source": [
    "## Next Steps\n",
    "\n",
    "This AP CSP course has been an important stepping stone in my computer science journey. It has helped me develop not only coding skills but also critical thinking, problem-solving, and communication abilities. To continue growing, I plan to focus on several areas:\n",
    "\n",
    "- **Strengthening Programming Skills:** I want to improve my fluency in programming by practicing more complex coding exercises regularly. Exploring languages like Python and JavaScript will broaden my toolkit and help me understand different programming paradigms. I’ll work on writing clean, well-organized code and learn how to debug effectively.\n",
    "\n",
    "- **Deepening Understanding of Algorithms and Data Structures:** Concepts like binary search, big O notation, and simulations have shown me the importance of efficient problem-solving. I aim to learn more about common data structures (like arrays, linked lists, trees) and algorithms (such as sorting, recursion, and graph traversal) to improve my ability to tackle challenging problems.\n",
    "\n",
    "- **Exploring Ethics and Social Impacts in Computing:** The lessons on computing bias, digital divide, and legal/ethical concerns opened my eyes to the responsibilities that come with technology. I plan to study how software design can affect privacy, fairness, and accessibility, and how to incorporate ethical thinking into future projects.\n",
    "\n",
    "- **Enhancing Presentation and Communication Skills:** Throughout the course, I practiced explaining my work clearly through blogs, homework write-ups, and discussions. I want to further develop these skills by learning how to present technical concepts to different audiences—whether peers, teachers, or online communities—in a clear, engaging way. This includes improving both written and verbal communication.\n",
    "\n",
    "- **Preparing Thoroughly for the AP Exam:** To perform well on the AP CSP exam, I will create a structured review plan that includes revisiting key concepts, taking practice tests, and analyzing free-response questions. This preparation will also help me strengthen time management and test-taking strategies.\n",
    "\n",
    "- **Collaborating and Seeking Feedback:** I plan to work with classmates, join coding clubs or online forums, and seek feedback from teachers or mentors. Collaboration will expose me to new ideas and help me improve my projects and problem-solving approaches.\n",
    "\n",
    "By focusing on these steps, I aim to become a more well-rounded computer scientist—one who writes efficient code, understands the broader impact of technology, and can communicate ideas effectively. These skills will prepare me not only for future computer science classes and competitions but also for real-world challenges.\n",
    "\n",
    "---\n",
    "\n",
    "## Summer Plan\n",
    "\n",
    "To keep advancing during the summer without feeling overwhelmed, I’ve put together a detailed but manageable plan:\n",
    "\n",
    "- **Weekly Coding Practice:** Dedicate about 3-4 hours each week to solving programming problems on sites like Code.org, Khan Academy, or LeetCode. I will focus on a mix of easy and medium problems to build confidence and gradually increase difficulty as I improve.\n",
    "\n",
    "- **Build a Small Project:** Choose a simple project such as a personal portfolio website, a to-do list app, or a basic game. This will allow me to apply what I’ve learned about programming, algorithms, and design, and practice planning, coding, and debugging an entire project from start to finish.\n",
    "\n",
    "- **Explore New Topics:** Spend 30–45 minutes twice a week watching videos, reading articles, or completing tutorials on computer science topics beyond the class curriculum—such as AI basics, cybersecurity, or web development. I will keep a journal to reflect on what I’ve learned and how it connects to what I know."
   ]
  }
 ],
 "metadata": {
  "language_info": {
   "name": "python"
  }
 },
 "nbformat": 4,
 "nbformat_minor": 5
}

{
 "cells": [
  {
   "cell_type": "raw",
   "id": "1957392b",
   "metadata": {
    "vscode": {
     "languageId": "raw"
    }
   },
   "source": [
    "---\n",
    "layout: post\n",
    "title: Final Review Blog\n",
    "description: Overall final review of the course and aggregation of all blogs\n",
    "type: issues\n",
    "comments: true\n",
    "---"
   ]
  },
  {
   "cell_type": "markdown",
   "id": "f6408ada",
   "metadata": {
    "vscode": {
     "languageId": "raw"
    }
   },
   "source": [
    "# Overview\n",
    "\n",
    "### Night at the Museum Experiences: [View Post]({{site.baseurl}}/2025/06/05/natm-year-review_IPYNB_2_.html)\n",
    "### Homework Experience: [View Post]({{site.baseurl}}/2025/06/09/homework-experience_IPYNB_2_.html)\n",
    "### Project Overviews: [View Post]({{site.baseurl}}/2025/06/09/project-final-overview_IPYNB_2_.html)"
   ]
  },
  {
   "cell_type": "markdown",
   "id": "bc39fcde",
   "metadata": {},
   "source": [
    "## Executive Summary (i.e Five Things & Macro Skill Perspective)\n",
    "- Developed presentation skills, developed speaking clarity transitioning from fast chaotic presentation to more slow methodic presentation style. Learned and slowly practiced implementing consolidation to review fewer core concepts in presentations, and practiced/learned how to make a pitch video.\n",
    "- Developed frontend design and developement skills, through multiple projects such as Pyre, Pawnsy, Personal Website, etc. and the numerous websites in each of those pages learned the basics of user design and experience. For instance having core features consolidated if possible, clear colors and text for user readibility, clear navigation, etc. Also developed HTML, CSS and DOM manipulation skills to create desired frontend experiences whether that be modals, animation, etc.\n",
    "- Developed deployment skills such as setting up DNS in Route 53, and then creating nginx files, docker files for containerization, certbot for website security, and other valuable skills such as the iteration and continous deployment cycle post-deployment.\n",
    "- Developed Backend CRUD and API creation skills such as making REST APIs with Create, Read, Update/Patch, and Delete requests in flask. Also learned how to test those APIs in Postman and debug using the console and other tools available. Developed skills to integrate those APIs in the frontend with fetch requests and then DOM manipulation tactics.\n",
    "- Developed Machine Learning skills through Pyre Project, intially with Titanic learning basic data analysis methods such as data gathering, metrics analysis, row clearing, etc. Then developed practice with creating Machine Learning models with Scikit-Learn such as linear regression, logistic regression, clustering models, etc. Also developed and learned how to utilize Large Language Models such as Gemini and integrating it effectively with system prompting.\n",
    "\n",
    "## Linkedin\n",
    "\n",
    "### Link: [Link to Linkedin](https://www.linkedin.com/in/nikhil-maturi-40a8ab369/)\n",
    "\n",
    "<img src=\"{{site.baseurl}}/images/linkedin_project.png\">\n",
    "<img src=\"{{site.baseurl}}/images/linkedin_profile.png\">\n",
    "\n",
    "## Statistics\n",
    "\n",
    "Below is my GitHub activity this trimester. It shows my consistent contributions across multiple projects, from front-end development to backend APIs and machine learning\n",
    "\n",
    "<img src=\"{{site.baseurl}}/images/github_analytics.png\">\n",
    "\n",
    "- Major Projects Contributed To: Pawnsy (Trimester 2), Pyre (Trimester 3), Personal Website\n",
    "- Tools Used: GitHub Actions, Issue Tracking, Commit Logging\n",
    "\n",
    "<img src=\"{{site.baseurl}}/images/grade_predictor.png\">\n",
    "\n",
    "### Predicted Score: 90%\n",
    "\n",
    "**Takeaways:**\n",
    "- Consistency in contributions was a valuable habit I built this year, at the beginning of this year my commits were very large but after understanding that consistent commits are key to effective team developement and proper practice to ensure reverting is possible I shifted to shorter commits.\n",
    "- Predictive tools are not just motivational — they can validate or invalidate the amount of work you put into a project and can help motivate you to commit more to the team.\n"
   ]
  }
 ],
 "metadata": {
  "language_info": {
   "name": "python"
  }
 },
 "nbformat": 4,
 "nbformat_minor": 5
}

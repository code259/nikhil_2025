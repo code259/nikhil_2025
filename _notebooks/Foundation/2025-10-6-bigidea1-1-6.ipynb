{
 "cells": [
  {
   "cell_type": "raw",
   "id": "c0e0a88b",
   "metadata": {
    "vscode": {
     "languageId": "raw"
    }
   },
   "source": [
    "---\n",
    "layout: post\n",
    "title: Big Idea 1 Lesson 1.6\n",
    "description: Big Idea 1 Lesson 1.6\n",
    "type: issues\n",
    "comments: true\n",
    "---"
   ]
  },
  {
   "cell_type": "markdown",
   "id": "94a7a636",
   "metadata": {},
   "source": [
    "#  Big Idea 1 Lesson 1.6"
   ]
  },
  {
   "cell_type": "markdown",
   "id": "68e292d6",
   "metadata": {},
   "source": [
    "### Popcorn Hack 2"
   ]
  },
  {
   "cell_type": "code",
   "execution_count": 1,
   "id": "3cf47338",
   "metadata": {
    "vscode": {
     "languageId": "java"
    }
   },
   "outputs": [],
   "source": [
    "public class PopcornHack2 {\n",
    "    public static void main(String[] args) {\n",
    "        int score = 100;\n",
    "        System.out.println(\"Starting score: \" + score);\n",
    "\n",
    "        // Deduct points for a wrong answer\n",
    "        score -= 20;\n",
    "        System.out.println(\"After wrong answer (-=20): \" + score);\n",
    "\n",
    "        // Double the score with a power-up\n",
    "        score *= 2;\n",
    "        System.out.println(\"After power-up (*=2): \" + score);\n",
    "\n",
    "        // Find remainder after dividing by 7\n",
    "        score %= 7;\n",
    "        System.out.println(\"After dividing by 7 (%=7): \" + score);\n",
    "    }\n",
    "}\n"
   ]
  },
  {
   "cell_type": "code",
   "execution_count": 2,
   "id": "ce96fef1",
   "metadata": {
    "vscode": {
     "languageId": "java"
    }
   },
   "outputs": [
    {
     "name": "stdout",
     "output_type": "stream",
     "text": [
      "Starting score: 100\n",
      "After wrong answer (-=20): 80\n",
      "After power-up (*=2): 160\n",
      "After dividing by 7 (%=7): 6\n"
     ]
    }
   ],
   "source": [
    "int score = 100;\n",
    "System.out.println(\"Starting score: \" + score);\n",
    "\n",
    "// Deduct points for a wrong answer\n",
    "score -= 20;\n",
    "System.out.println(\"After wrong answer (-=20): \" + score);\n",
    "\n",
    "// Double the score with a power-up\n",
    "score *= 2;\n",
    "System.out.println(\"After power-up (*=2): \" + score);\n",
    "\n",
    "// Find remainder after dividing by 7\n",
    "score %= 7;\n",
    "System.out.println(\"After dividing by 7 (%=7): \" + score);\n"
   ]
  },
  {
   "cell_type": "markdown",
   "id": "1d8fa6ce",
   "metadata": {},
   "source": [
    "### Homework Hack"
   ]
  },
  {
   "cell_type": "code",
   "execution_count": 3,
   "id": "1130f07d",
   "metadata": {
    "vscode": {
     "languageId": "java"
    }
   },
   "outputs": [],
   "source": [
    "public class SocialMediaSimulator {\n",
    "    public static void main(String[] args) {\n",
    "        System.out.println(\"=== SOCIAL MEDIA SIMULATOR ===\\n\");\n",
    "\n",
    "        // Starting stats\n",
    "        int followers = 500;\n",
    "        int posts = 0;\n",
    "        int engagement = 0;\n",
    "        int sponsorshipEarnings = 0;\n",
    "        int position = 800;\n",
    "\n",
    "        System.out.println(\"Starting followers: \" + followers + \"\\n\");\n",
    "\n",
    "        // Posted a new video\n",
    "        posts++;\n",
    "        followers += 250; // viral growth\n",
    "        engagement += 70; // likes/comments\n",
    "        System.out.println(\"Posted a new video!\");\n",
    "        System.out.println(\"Followers: \" + followers + \" (+250 from the viral video)\\n\");\n",
    "\n",
    "        // Controversial opinion posted\n",
    "        followers -= 50;\n",
    "        System.out.println(\"Controversial opinion posted...\");\n",
    "        System.out.println(\"Followers: \" + followers + \" (-50 from upset followers)\\n\");\n",
    "\n",
    "        // Trending hashtag boost\n",
    "        followers *= 2; // double followers\n",
    "        engagement *= 2; // double engagement\n",
    "        System.out.println(\"Trending hashtag boost!\");\n",
    "        System.out.println(\"Followers: \" + followers + \" (doubled from trending!)\\n\");\n",
    "\n",
    "        // Average engagement per post\n",
    "        double avgEngagement = (double) engagement / posts;\n",
    "        System.out.println(\"Average engagement per post: \" + avgEngagement + \"\\n\");\n",
    "\n",
    "        // Sponsorship earnings\n",
    "        sponsorshipEarnings += 500;\n",
    "        System.out.println(\"Sponsorship earnings so far: $\" + sponsorshipEarnings + \"\\n\");\n",
    "\n",
    "        // Ranking position\n",
    "        position %= 500; // simulate ranking\n",
    "        System.out.println(\"Final ranking position: \" + position + \"\\n\");\n",
    "\n",
    "        System.out.println(\"=== SIMULATION COMPLETE ===\");\n",
    "    }\n",
    "}\n"
   ]
  },
  {
   "cell_type": "code",
   "execution_count": 4,
   "id": "bd8e421f",
   "metadata": {
    "vscode": {
     "languageId": "java"
    }
   },
   "outputs": [
    {
     "name": "stdout",
     "output_type": "stream",
     "text": [
      "=== SOCIAL MEDIA SIMULATOR ===\n",
      "\n",
      "Starting followers: 500\n",
      "\n",
      "Posted a new video!\n",
      "Followers: 750 (+250 from the viral video)\n",
      "\n",
      "Controversial opinion posted...\n",
      "Followers: 700 (-50 from upset followers)\n",
      "\n",
      "Trending hashtag boost!\n",
      "Followers: 1400 (doubled from trending!)\n",
      "\n",
      "Average engagement per post: 140.0\n",
      "\n",
      "Sponsorship earnings so far: $500\n",
      "\n",
      "Final ranking position: 300\n",
      "\n",
      "=== SIMULATION COMPLETE ===\n"
     ]
    }
   ],
   "source": [
    "System.out.println(\"=== SOCIAL MEDIA SIMULATOR ===\\n\");\n",
    "\n",
    "// Starting stats\n",
    "int followers = 500;\n",
    "int posts = 0;\n",
    "int engagement = 0;\n",
    "int sponsorshipEarnings = 0;\n",
    "int position = 800;\n",
    "\n",
    "System.out.println(\"Starting followers: \" + followers + \"\\n\");\n",
    "\n",
    "// Posted a new video\n",
    "posts++;\n",
    "followers += 250; // viral growth\n",
    "engagement += 70; // likes/comments\n",
    "System.out.println(\"Posted a new video!\");\n",
    "System.out.println(\"Followers: \" + followers + \" (+250 from the viral video)\\n\");\n",
    "\n",
    "// Controversial opinion posted\n",
    "followers -= 50;\n",
    "System.out.println(\"Controversial opinion posted...\");\n",
    "System.out.println(\"Followers: \" + followers + \" (-50 from upset followers)\\n\");\n",
    "\n",
    "// Trending hashtag boost\n",
    "followers *= 2; // double followers\n",
    "engagement *= 2; // double engagement\n",
    "System.out.println(\"Trending hashtag boost!\");\n",
    "System.out.println(\"Followers: \" + followers + \" (doubled from trending!)\\n\");\n",
    "\n",
    "// Average engagement per post\n",
    "double avgEngagement = (double) engagement / posts;\n",
    "System.out.println(\"Average engagement per post: \" + avgEngagement + \"\\n\");\n",
    "\n",
    "// Sponsorship earnings\n",
    "sponsorshipEarnings += 500;\n",
    "System.out.println(\"Sponsorship earnings so far: $\" + sponsorshipEarnings + \"\\n\");\n",
    "\n",
    "// Ranking position\n",
    "position %= 500; // simulate ranking\n",
    "System.out.println(\"Final ranking position: \" + position + \"\\n\");\n",
    "\n",
    "System.out.println(\"=== SIMULATION COMPLETE ===\");\n"
   ]
  }
 ],
 "metadata": {
  "kernelspec": {
   "display_name": "Java",
   "language": "java",
   "name": "java"
  },
  "language_info": {
   "codemirror_mode": "java",
   "file_extension": ".jshell",
   "mimetype": "text/x-java-source",
   "name": "Java",
   "pygments_lexer": "java",
   "version": "18.0.1.1+2-6"
  }
 },
 "nbformat": 4,
 "nbformat_minor": 5
}

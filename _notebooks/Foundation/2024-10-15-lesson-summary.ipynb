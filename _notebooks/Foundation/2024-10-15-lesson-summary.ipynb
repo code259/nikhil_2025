{
 "cells": [
  {
   "cell_type": "raw",
   "metadata": {
    "vscode": {
     "languageId": "raw"
    }
   },
   "source": [
    "---\n",
    "layout: post\n",
    "title: Group Lesson Summary\n",
    "description: For final sprint grading.\n",
    "type: issues\n",
    "comments: true\n",
    "---"
   ]
  },
  {
   "cell_type": "markdown",
   "metadata": {
    "vscode": {
     "languageId": "html"
    }
   },
   "source": [
    "<a href=\"https://nighthawkcoders.github.io/portfolio_2025/csp/big-idea/p2/fundamentals\">Lessons</a>\n",
    "<a href=\"{{site.baseurl}}/2024/10/04/group-lesson-0-homework_IPYNB_2_.html\">Lesson 0</a>\n",
    "<a href=\"{{site.baseurl}}/2024/10/04/group-lesson-1-homework_IPYNB_2_.html\">Lesson 1</a>\n",
    "<a href=\"{{site.baseurl}}/2024/10/08/group-lesson-2-homework_IPYNB_2_.html\">Lesson 2</a>\n",
    "<a href=\"{{site.baseurl}}/2024/10/09/group-lesson-3-homework_IPYNB_2_.html\">Lesson 3</a>\n",
    "<a href=\"{{site.baseurl}}/2024/10/10/group-lesson-4-homework_IPYNB_2_.html\">Lesson 4</a>"
   ]
  },
  {
   "cell_type": "markdown",
   "metadata": {},
   "source": [
    "## Executive Summary\n",
    "\n",
    "#### Executive Summary:\n",
    "- Self Grade: 0.89, because of contributions to the lesson in terms of content created (python lessons for sections 1-5 of 3.2), helped with creation of codepen and quiz modal. Lastly work in terms of other adjacent tasks, such as grading, integration with new dropdown systems, trouble shooting, etc.\n",
    "\n",
    "#### What I Learned from the Lesson:\n",
    "- Collaboration & Debugging: After the introduction of the initial sub-menu me and Yash spent almost the entirety class of that troubleshooting because our file structure for the project was different from the new system introduced. Afterwards, I realized that was foolish of us as if we just asked the team that introduced the actual system we would have been able to identify the actual problem much faster. Specifically, they could have pointed out the differences between our structure and there structure leading to us finding the solution faster and saving us time to work on the project itself.\n",
    "\n",
    "- Technical Skills: I learned a lot about the actual details of abstractions, prior to the lesson had I had a general understanding of the concept. However, after the lesson and trying to understand how abstraction can be used in specific cases it gave me ideas and overarching principles I can apply to make my programming more efficient. For example, now I learnt to save unnecessary computations as they utilize memory and computational power (e.g avoid iteration or other similar operations and abstract with various other concepts instead). Also I now have more appreciation for builtin function as they save time and abstract away the complexity allowing me to focus on other aspects of the project or application.\n",
    "\n",
    "#### Summary of Relevancy Checklist:\n",
    "- Individual Contribution: Created Homework Hack and drop down menu for the hacks, last two popcorn hacks, python section with comments for section 1-5, modal for the quiz on main page, and codepen for first lesson to show visual aspect.\n",
    "\n",
    "- Personal Notebooks: Answered homework hacks on time except for first two, as my VS Code kept crashing due to a corrupted file. I made each homework hack unique to me and changed all the content to better understand the function of the homework and popcorn hacks. For Manas's lesson since I didn't know much about what they did I did the extra credit opportunity researching De Morgan's law (added pictures and written explanation as well).\n",
    "\n",
    "- Grading/Feedback: Gave detailed feedback and comments to indicate reason for grade and if points were lost why they were lost and how to improve in the future. Furthermore added a numeric breakdown for each part of the grade (e.g completion, homework hack quality, popcorn hack quality, etc.)\n",
    "\n",
    "- Everything Else: From this I think me and my group were above perfunctory, and I also believe we had a strong presentation while definitely not perfect effectively communicated the topic we were trying to teach. We also planned each task for the group members with an Issue that we made on our group repository, and each of use contributed equally."
   ]
  },
  {
   "cell_type": "markdown",
   "metadata": {},
   "source": [
    "### Variables\n",
    "\n",
    "- store data\n",
    "- camel case and pascal case are used for variables and classes respectively\n",
    "- fundamental component in all forms of programming since they allow for data manipulation and efficiency"
   ]
  },
  {
   "cell_type": "markdown",
   "metadata": {},
   "source": [
    "### Data Abstraction\n",
    "\n",
    "- simplify creation of code by creating functions, classes, etc for programmer\n",
    "- increase computational efficiency through methods that abstract unnecessary looping and/or operation\n",
    "- examples include: string operations, list operations, etc."
   ]
  },
  {
   "cell_type": "markdown",
   "metadata": {},
   "source": [
    "### Mathematical operations\n",
    "- used to perform math of course which is used in numerous algorithms\n",
    "- manipulate data and perform calculations\n",
    "- can also be used as condition to check against in loops or other conditional based operations\n"
   ]
  },
  {
   "cell_type": "markdown",
   "metadata": {
    "vscode": {
     "languageId": "raw"
    }
   },
   "source": [
    "### Strings\n",
    "\n",
    "- store words and sentences in data types to be manipulated and used\n",
    "- strings also allow for user input and interaction"
   ]
  },
  {
   "cell_type": "markdown",
   "metadata": {
    "vscode": {
     "languageId": "raw"
    }
   },
   "source": [
    "### Booleans\n",
    "\n",
    "- can be used to control loops and evaluate conditions (logical operators and relational operators)\n",
    "- can be used for error checking"
   ]
  },
  {
   "cell_type": "markdown",
   "metadata": {},
   "source": [
    "### Conditionals\n",
    "\n",
    "- allow for logical operations based on certain cases\n",
    "- allow for decision making and controlling the flow of the program\n",
    "- nested conditionals allow for more specific control for more specific cases"
   ]
  },
  {
   "cell_type": "markdown",
   "metadata": {
    "vscode": {
     "languageId": "raw"
    }
   },
   "source": [
    "### Loops & List Operations\n",
    "\n",
    "- Loops can be used to reduce repetitive tasks\n",
    "- List operations can be used for data manipulation like: indexing, assigning, deleting, adding, etc."
   ]
  }
 ],
 "metadata": {
  "language_info": {
   "name": "python"
  }
 },
 "nbformat": 4,
 "nbformat_minor": 2
}

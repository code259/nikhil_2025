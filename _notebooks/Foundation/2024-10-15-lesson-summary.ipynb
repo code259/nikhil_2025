{
 "cells": [
  {
   "cell_type": "raw",
   "metadata": {
    "vscode": {
     "languageId": "raw"
    }
   },
   "source": [
    "---\n",
    "layout: post\n",
    "title: Group Lesson Summary\n",
    "description: For final sprint grading.\n",
    "type: issues\n",
    "comments: true\n",
    "---"
   ]
  },
  {
   "cell_type": "markdown",
   "metadata": {
    "vscode": {
     "languageId": "html"
    }
   },
   "source": [
    "<a href=\"{{site.baseurl}}/2024/10/04/group-lesson-0-homework_IPYNB_2_.html\">Lesson 0</a>\n",
    "<a href=\"{{site.baseurl}}/2024/10/04/group-lesson-1-homework_IPYNB_2_.html\">Lesson 1</a>\n",
    "<a href=\"{{site.baseurl}}/2024/10/08/group-lesson-2-homework_IPYNB_2_.html\">Lesson 2</a>\n",
    "<a href=\"{{site.baseurl}}/2024/10/09/group-lesson-3-homework_IPYNB_2_.html\">Lesson 3</a>\n",
    "<a href=\"{{site.baseurl}}/2024/10/10/group-lesson-4-homework_IPYNB_2_.html\">Lesson 4</a>"
   ]
  },
  {
   "cell_type": "markdown",
   "metadata": {},
   "source": [
    "### Variables\n",
    "\n",
    "- store data\n",
    "- camel case and pascal case are used for variables and classes respectively\n",
    "- fundamental component in all forms of programming since they allow for data manipulation and efficiency"
   ]
  },
  {
   "cell_type": "markdown",
   "metadata": {},
   "source": [
    "### Data Abstraction\n",
    "\n",
    "- simplify creation of code by creating functions, classes, etc for programmer\n",
    "- increase computational efficiency through methods that abstract unnecessary looping and/or operation\n",
    "- examples include: string operations, list operations, etc."
   ]
  },
  {
   "cell_type": "markdown",
   "metadata": {},
   "source": [
    "### Mathematical operations\n",
    "- used to perform math of course which is used in numerous algorithms\n",
    "- manipulate data and perform calculations\n",
    "- can also be used as condition to check against in loops or other conditional based operations\n"
   ]
  },
  {
   "cell_type": "markdown",
   "metadata": {
    "vscode": {
     "languageId": "raw"
    }
   },
   "source": [
    "### Strings\n",
    "\n",
    "- store words and sentences in data types to be manipulated and used\n",
    "- strings also allow for user input and interaction"
   ]
  },
  {
   "cell_type": "markdown",
   "metadata": {
    "vscode": {
     "languageId": "raw"
    }
   },
   "source": [
    "### Booleans\n",
    "\n",
    "- can be used to control loops and evaluate conditions (logical operators and relational operators)\n",
    "- can be used for error checking"
   ]
  },
  {
   "cell_type": "markdown",
   "metadata": {},
   "source": [
    "### Conditionals\n",
    "\n",
    "- allow for logical operations based on certain cases\n",
    "- allow for decision making and controlling the flow of the program\n",
    "- nested conditionals allow for more specific control for more specific cases"
   ]
  },
  {
   "cell_type": "markdown",
   "metadata": {
    "vscode": {
     "languageId": "raw"
    }
   },
   "source": [
    "### Loops & List Operations\n",
    "\n",
    "- Loops can be used to reduce repetitive tasks\n",
    "- List operations can be used for data manipulation like: indexing, assigning, deleting, adding, etc."
   ]
  }
 ],
 "metadata": {
  "language_info": {
   "name": "python"
  }
 },
 "nbformat": 4,
 "nbformat_minor": 2
}

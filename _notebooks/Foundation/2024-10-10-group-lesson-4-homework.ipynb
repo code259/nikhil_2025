{
 "cells": [
  {
   "cell_type": "raw",
   "metadata": {
    "vscode": {
     "languageId": "raw"
    }
   },
   "source": [
    "---\n",
    "layout: post\n",
    "title: Group Lesson 5 Homework\n",
    "description: Popcorn and Homework Hacks\n",
    "type: issues\n",
    "comments: true\n",
    "---"
   ]
  },
  {
   "cell_type": "markdown",
   "metadata": {},
   "source": [
    "## Popcorn Hacks"
   ]
  },
  {
   "cell_type": "code",
   "execution_count": 1,
   "metadata": {},
   "outputs": [
    {
     "name": "stdout",
     "output_type": "stream",
     "text": [
      "You are obese!\n"
     ]
    }
   ],
   "source": [
    "BMI = 30\n",
    "\n",
    "# Conditional statement\n",
    "if BMI >= 30:\n",
    "    print(\"You are obese!\")\n",
    "else:\n",
    "    print(\"You are not obese\")"
   ]
  },
  {
   "cell_type": "code",
   "execution_count": 2,
   "metadata": {
    "vscode": {
     "languageId": "javascript"
    }
   },
   "outputs": [
    {
     "data": {
      "application/javascript": "let BMI = 30;\n\n// Conditional statement\nif (BMI >= 75) {\n    console.log(\"You passed the test!\");\n} else {\n    console.log(\"You failed the test.\");\n}\n",
      "text/plain": [
       "<IPython.core.display.Javascript object>"
      ]
     },
     "metadata": {},
     "output_type": "display_data"
    }
   ],
   "source": [
    "%%js\n",
    "let BMI = 30;\n",
    "\n",
    "// Conditional statement\n",
    "if (BMI >= 75) {\n",
    "    console.log(\"You passed the test!\");\n",
    "} else {\n",
    "    console.log(\"You failed the test.\");\n",
    "}"
   ]
  },
  {
   "cell_type": "code",
   "execution_count": 3,
   "metadata": {},
   "outputs": [
    {
     "name": "stdout",
     "output_type": "stream",
     "text": [
      "Can vote.\n"
     ]
    }
   ],
   "source": [
    "isEighteen = True\n",
    "\n",
    "if isEighteen:\n",
    "    print(\"Can vote.\")\n",
    "else:\n",
    "    print(\"Cannot vote.\")"
   ]
  },
  {
   "cell_type": "code",
   "execution_count": 4,
   "metadata": {
    "vscode": {
     "languageId": "javascript"
    }
   },
   "outputs": [
    {
     "data": {
      "application/javascript": "let isEighteen = True;\n\nif (isEighteen) {\n    console.log(\"Can vote.\");\n} else {\n    console.log(\"Cannot vote.\");\n}\n",
      "text/plain": [
       "<IPython.core.display.Javascript object>"
      ]
     },
     "metadata": {},
     "output_type": "display_data"
    }
   ],
   "source": [
    "%%js\n",
    "let isEighteen = True;\n",
    "\n",
    "if (isEighteen) {\n",
    "    console.log(\"Can vote.\");\n",
    "} else {\n",
    "    console.log(\"Cannot vote.\");\n",
    "}\n"
   ]
  },
  {
   "cell_type": "code",
   "execution_count": 73,
   "metadata": {},
   "outputs": [
    {
     "name": "stdout",
     "output_type": "stream",
     "text": [
      "Your roll is: 8\n",
      "The winning number was: 12\n",
      "You are still poor! 😔\n"
     ]
    }
   ],
   "source": [
    "import random\n",
    "lottery_answer = random.randint(0, 20)\n",
    "lottery_roll = random.randint(0,20)\n",
    "\n",
    "if lottery_answer == lottery_roll:\n",
    "    print(\"You rich! You won the lottery! 🤑🤑🤑\")\n",
    "else:\n",
    "    print(\"Your roll is:\", lottery_roll)\n",
    "    print(\"The winning number was:\", lottery_answer)\n",
    "    print(\"You are still poor! 😔\")"
   ]
  },
  {
   "cell_type": "code",
   "execution_count": 45,
   "metadata": {
    "vscode": {
     "languageId": "javascript"
    }
   },
   "outputs": [
    {
     "data": {
      "application/javascript": "let lottery_answer = Math.floor(Math.random() * 20) + 1;\nlet lottery_roll = Math.floor(Math.random() * 20) + 1;\n\nif (lottery_answer === lottery_roll) {\n    console.log(\"You rich! You won the lottery! 🤑🤑🤑\");\n} else {\n    console.log(\"Your roll is:\", lottery_roll);\n    console.log(\"The winning number was:\", lottery_answer);\n    console.log(\"You are still poor! 😔\")\n}\n",
      "text/plain": [
       "<IPython.core.display.Javascript object>"
      ]
     },
     "metadata": {},
     "output_type": "display_data"
    }
   ],
   "source": [
    "%%js\n",
    "let lottery_answer = Math.floor(Math.random() * 20) + 1;\n",
    "let lottery_roll = Math.floor(Math.random() * 20) + 1;\n",
    "\n",
    "if (lottery_answer === lottery_roll) {\n",
    "    console.log(\"You rich! You won the lottery! 🤑🤑🤑\");\n",
    "} else {\n",
    "    console.log(\"Your roll is:\", lottery_roll);\n",
    "    console.log(\"The winning number was:\", lottery_answer);\n",
    "    console.log(\"You are still poor! 😔\")\n",
    "}"
   ]
  },
  {
   "cell_type": "code",
   "execution_count": 75,
   "metadata": {},
   "outputs": [
    {
     "name": "stdout",
     "output_type": "stream",
     "text": [
      "You can have another drink.\n"
     ]
    }
   ],
   "source": [
    "age = int(input(\"Enter your age: \"))\n",
    "likes_alcohol = input(\"Do you like alcohol? (yes/no): \").lower()\n",
    "\n",
    "if age >= 21:\n",
    "    if likes_alcohol == \"yes\":\n",
    "        print(\"You can have beer!\")\n",
    "    else:\n",
    "        print(\"You can have a non-alcoholic drink.\")\n",
    "else:\n",
    "    print(\"You get water.\")"
   ]
  },
  {
   "cell_type": "code",
   "execution_count": 78,
   "metadata": {
    "vscode": {
     "languageId": "javascript"
    }
   },
   "outputs": [
    {
     "data": {
      "application/javascript": "let age = 22\nlet likes_alcohol = true //prompt doesn't work\n\nif (age >= 21) {\n    if (likes_alcohol) {\n        console.log(\"You can have beer\");\n    } else {\n        console.log(\"You can have a non-alcoholic drink\");\n    }\n} else {\n    console.log(\"You can get water.\")\n}\n",
      "text/plain": [
       "<IPython.core.display.Javascript object>"
      ]
     },
     "metadata": {},
     "output_type": "display_data"
    }
   ],
   "source": [
    "%%js\n",
    "let age = 22\n",
    "let likes_alcohol = true //prompt doesn't work\n",
    "\n",
    "if (age >= 21) {\n",
    "    if (likes_alcohol) {\n",
    "        console.log(\"You can have beer\");\n",
    "    } else {\n",
    "        console.log(\"You can have a non-alcoholic drink\");\n",
    "    }\n",
    "} else {\n",
    "    console.log(\"You can get water.\")\n",
    "}"
   ]
  },
  {
   "cell_type": "code",
   "execution_count": null,
   "metadata": {},
   "outputs": [],
   "source": [
    "savings = 500\n",
    "\n",
    "# Laptop prices\n",
    "bicycle = 200\n",
    "ebike = 2000\n",
    "scooter = 75\n",
    "\n",
    "# Determine which laptop you can buy\n",
    "if savings >= bicycle:\n",
    "    print(\"You can buy a bike 🚲!\")\n",
    "elif savings >= ebike:\n",
    "    print(\"You can buy an ebike 🏍️!\")\n",
    "elif savings >= scooter:\n",
    "    print(\"You can buy a scooter 🛴!\")\n",
    "else:\n",
    "    print(\"You don't have enough money to buy anything.\")"
   ]
  },
  {
   "cell_type": "code",
   "execution_count": 76,
   "metadata": {
    "vscode": {
     "languageId": "javascript"
    }
   },
   "outputs": [
    {
     "data": {
      "application/javascript": "// Grocery Conditions\nlet is_school_open = false;\nlet is_homework_assigned = false;\n\n// Shopping logic based on store and item availability\nif (is_store_open) {\n    console.log(\"Go to school.\");\n\n    if (is_homework_assigned) {\n        console.log(\"Do your homework.\");\n    } else {\n        console.log(\"Do whatever your want.\");\n    }\n} else {\n    console.log(\"Go on a holiday.\");\n}\n",
      "text/plain": [
       "<IPython.core.display.Javascript object>"
      ]
     },
     "metadata": {},
     "output_type": "display_data"
    }
   ],
   "source": [
    "%%js\n",
    "// Grocery Conditions\n",
    "let is_school_open = false;\n",
    "let is_homework_assigned = false;\n",
    "\n",
    "// Shopping logic based on store and item availability\n",
    "if (is_store_open) {\n",
    "    console.log(\"Go to school.\");\n",
    "\n",
    "    if (is_homework_assigned) {\n",
    "        console.log(\"Do your homework.\");\n",
    "    } else {\n",
    "        console.log(\"Do whatever your want.\");\n",
    "    }\n",
    "} else {\n",
    "    console.log(\"Go on a holiday.\");\n",
    "}"
   ]
  },
  {
   "cell_type": "markdown",
   "metadata": {},
   "source": [
    "## Homework Hacks"
   ]
  },
  {
   "cell_type": "markdown",
   "metadata": {},
   "source": [
    "##### Added speed based bonuses for the quiz and improved code efficiency with loop and lists."
   ]
  },
  {
   "cell_type": "code",
   "execution_count": 88,
   "metadata": {},
   "outputs": [
    {
     "name": "stdout",
     "output_type": "stream",
     "text": [
      "You scored 2 points for being fast. And your score is 0\n",
      "Correct! And your score is 2\n",
      "You scored 2 points for being fast. And your score is 2\n",
      "Correct! And your score is 4\n",
      "You scored 2 points for being fast. And your score is 4\n",
      "Correct! And your score is 6\n",
      "You scored 2 points for being fast. And your score is 6\n",
      "Correct! And your score is 8\n",
      "You scored 2 points for being fast. And your score is 8\n",
      "Correct! And your score is 10\n",
      "Final score 10\n"
     ]
    }
   ],
   "source": [
    "import time\n",
    "questions = [\"What is the acronym of the city has the empire state building?\", \"What city has the space needle?\", \"What city has a well known arch? (no spaces in answer)\", \"wWhat city has the willis tower?\", \"What city has the golden gate bridge?\"]\n",
    "answers = [\"nyc\", \"seattle\", \"st.louis\", \"chicago\", \"san francisco\"]\n",
    "\n",
    "score = 0\n",
    "\n",
    "for i in range(len(questions)):\n",
    "    start_time = time.time()\n",
    "    answer = input(questions[i])\n",
    "    time_taken = time.time() - start_time\n",
    "    if time_taken < 3:\n",
    "        print(f\"You scored 2 points for being fast. And your score is {score}\")\n",
    "        if answer.strip().lower() == answers[i]:\n",
    "            score += 2\n",
    "            print(f\"Correct! And your score is {score}\")\n",
    "    else:\n",
    "        if answer.strip().lower() == answers[i]:\n",
    "            score += 1\n",
    "            print(f\"Correct! And your score is {score}\")\n",
    "\n",
    "print(\"Final score\", score)"
   ]
  },
  {
   "cell_type": "code",
   "execution_count": 80,
   "metadata": {},
   "outputs": [
    {
     "name": "stdout",
     "output_type": "stream",
     "text": [
      "You can play the game! And..\n",
      "You can play with the older kids! 🧔\n"
     ]
    }
   ],
   "source": [
    "age = int(input(\"Enter your age: \"))\n",
    "ball = input(\"Do you have a ball (yes or no)?\")\n",
    "\n",
    "if age > 5 and ball == \"yes\":\n",
    "    print(\"You can play the game! And..\")\n",
    "    if age > 13:\n",
    "        print(\"You can play with the older kids! 🧔\")\n",
    "    else:\n",
    "        print(\"Play with the younger kids! 👦\")\n",
    "else:\n",
    "    print(\"Sorry you can't join the game yet 😭\")\n"
   ]
  }
 ],
 "metadata": {
  "kernelspec": {
   "display_name": "venv",
   "language": "python",
   "name": "python3"
  },
  "language_info": {
   "codemirror_mode": {
    "name": "ipython",
    "version": 3
   },
   "file_extension": ".py",
   "mimetype": "text/x-python",
   "name": "python",
   "nbconvert_exporter": "python",
   "pygments_lexer": "ipython3",
   "version": "3.9.19"
  }
 },
 "nbformat": 4,
 "nbformat_minor": 2
}

{
 "cells": [
  {
   "cell_type": "raw",
   "id": "69f967a2",
   "metadata": {
    "vscode": {
     "languageId": "raw"
    }
   },
   "source": [
    "---\n",
    "layout: post\n",
    "title: Big Idea 1 Lesson 1.4\n",
    "description: Big Idea 1 Lesson 1.4\n",
    "type: issues\n",
    "comments: true\n",
    "---"
   ]
  },
  {
   "cell_type": "markdown",
   "id": "cb40382a",
   "metadata": {},
   "source": [
    "### Popcorn Hacks\n",
    "\n",
    "- showed popcorn hack 1.1\n",
    "- popcorn hack 1.1, 2.1, 2.2 are verbal (no code cells needed)\n",
    "- showed popcorn hack 3"
   ]
  },
  {
   "cell_type": "code",
   "execution_count": 2,
   "id": "3f4be6c2",
   "metadata": {},
   "outputs": [
    {
     "name": "stdout",
     "output_type": "stream",
     "text": [
      "20\n"
     ]
    }
   ],
   "source": [
    "int x = 10;\n",
    "x = 20;\n",
    "int y = x;\n",
    "\n",
    "System.out.println(y);"
   ]
  },
  {
   "cell_type": "code",
   "execution_count": 4,
   "id": "fc810da3",
   "metadata": {},
   "outputs": [],
   "source": [
    "import java.util.Scanner;\n",
    "\n",
    "public class InputLesson {\n",
    "    public static void main(String[] args) {\n",
    "        System.out.println(\"=== User Information Program ===\\n\");\n",
    "        Scanner sc = new Scanner(System.in);\n",
    "\n",
    "        // String input\n",
    "        System.out.print(\"Enter your full name: \");\n",
    "        String name = sc.nextLine();\n",
    "        \n",
    "        // Integer input\n",
    "        System.out.print(\"Enter your age: \");\n",
    "        int age = sc.nextInt();\n",
    "        \n",
    "        // Double input\n",
    "        System.out.print(\"Enter your GPA: \");\n",
    "        double gpa = sc.nextDouble();\n",
    "        \n",
    "        // Display results\n",
    "        System.out.println(\"\\n--- Summary ---\");\n",
    "        System.out.println(\"Name: \" + name);\n",
    "        System.out.println(\"Age: \" + age + \" (next year: \" + (age + 1) + \")\");\n",
    "        System.out.println(\"GPA: \" + gpa);\n",
    "        \n",
    "        sc.close();\n",
    "    }\n",
    "}"
   ]
  },
  {
   "cell_type": "markdown",
   "id": "cc036d71",
   "metadata": {},
   "source": [
    "### Homework Hacks\n",
    "- picked the second homework hack (as the lesson said to choose one)"
   ]
  },
  {
   "cell_type": "markdown",
   "id": "66ef4492",
   "metadata": {
    "vscode": {
     "languageId": "java"
    }
   },
   "source": [
    "## Assignment Operator (=) vs Comparison Operator (==) in Java\n",
    "\n",
    "In Java, the symbols `=` and `==` look similar but serve very different purposes.\n",
    "\n",
    "### 1. Assignment Operator (=)\n",
    "- **Purpose:** Assigns a value to a variable.\n",
    "- **Effect:** Changes the value stored in that variable."
   ]
  },
  {
   "cell_type": "code",
   "execution_count": null,
   "id": "4d88fe5d",
   "metadata": {},
   "outputs": [
    {
     "name": "stdout",
     "output_type": "stream",
     "text": [
      "5\n",
      "Hello\n"
     ]
    }
   ],
   "source": [
    "int x = 5;         \n",
    "String y = \"Hello\"; \n",
    "\n",
    "System.out.println(x);  \n",
    "System.out.println(y);  \n"
   ]
  },
  {
   "cell_type": "markdown",
   "id": "3f0e02e0",
   "metadata": {},
   "source": [
    "## 2. Comparison Operator (==)\n",
    "- **Purpose:** Compares two values for equality.\n",
    "- **Effect:** Returns a boolean (`true` or `false`)."
   ]
  },
  {
   "cell_type": "code",
   "execution_count": null,
   "id": "49cf47db",
   "metadata": {},
   "outputs": [
    {
     "name": "stdout",
     "output_type": "stream",
     "text": [
      "false\n",
      "true\n",
      "false\n",
      "true\n"
     ]
    }
   ],
   "source": [
    "int a = 10;\n",
    "int b = 20;\n",
    "\n",
    "System.out.println(a == b);  \n",
    "System.out.println(a == 10); \n",
    "\n",
    "String s1 = new String(\"Hello\");\n",
    "String s2 = new String(\"Hello\");\n",
    "\n",
    "System.out.println(s1 == s2);        \n",
    "System.out.println(s1.equals(s2));   \n"
   ]
  },
  {
   "cell_type": "markdown",
   "id": "db6de60c",
   "metadata": {},
   "source": [
    "## 3. Common Bug: Mixing up `=` and `==`\n",
    "- A common mistake is to use `=` when you mean `==`.\n",
    "- In Java, this won’t raise a syntax error inside `if` statements (unlike Python).\n",
    "- Instead, it changes the variable and the condition may always evaluate as `true` or `false`."
   ]
  },
  {
   "cell_type": "code",
   "execution_count": null,
   "id": "36966be1",
   "metadata": {},
   "outputs": [
    {
     "ename": "CompilationException",
     "evalue": "",
     "output_type": "error",
     "traceback": [
      "\u001b[1m\u001b[30m|   \u001b[1m\u001b[30mif (\u001b[0m\u001b[1m\u001b[30m\u001b[41mz = 5\u001b[0m\u001b[1m\u001b[30m) {   // ❌ Error: incompatible types (int cannot be converted to boolean)\u001b[0m",
      "\u001b[1m\u001b[31mincompatible types: int cannot be converted to boolean\u001b[0m",
      ""
     ]
    }
   ],
   "source": [
    "int z = 3;\n",
    "\n",
    "// incorrect usage (common mistake):\n",
    "if (z = 5) {\n",
    "    System.out.println(\"z is 5\");\n",
    "}\n",
    "\n",
    "// correct usage:\n",
    "z = 5;\n",
    "if (z == 5) { \n",
    "    System.out.println(\"z is 5\");\n",
    "}\n"
   ]
  }
 ],
 "metadata": {
  "kernelspec": {
   "display_name": "Java",
   "language": "java",
   "name": "java"
  },
  "language_info": {
   "codemirror_mode": "java",
   "file_extension": ".jshell",
   "mimetype": "text/x-java-source",
   "name": "java",
   "pygments_lexer": "java",
   "version": "18.0.1.1+2-6"
  }
 },
 "nbformat": 4,
 "nbformat_minor": 5
}

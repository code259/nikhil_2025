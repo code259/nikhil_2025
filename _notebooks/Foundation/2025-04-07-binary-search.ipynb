{
 "cells": [
  {
   "cell_type": "raw",
   "id": "a2f1572d",
   "metadata": {
    "vscode": {
     "languageId": "raw"
    }
   },
   "source": [
    "---\n",
    "layout: post\n",
    "title: Binary Search\n",
    "description: Binary Search Algorithm - Team Teach by Mihir, Kiruthic, and Akshaj\n",
    "type: issues\n",
    "comments: true\n",
    "---"
   ]
  },
  {
   "cell_type": "markdown",
   "id": "a9e1e16d",
   "metadata": {},
   "source": [
    "# Testing code snippets"
   ]
  },
  {
   "cell_type": "code",
   "execution_count": 12,
   "id": "e1a5c3fc",
   "metadata": {},
   "outputs": [
    {
     "name": "stdout",
     "output_type": "stream",
     "text": [
      "Searching between indices 0 and 6, middle index is 3, value at mid is 7\n",
      "Searching between indices 0 and 2, middle index is 1, value at mid is 3\n",
      "Target found at index 1, value is 3\n"
     ]
    }
   ],
   "source": [
    "def binary_search(arr, target):\n",
    "    left, right = 0, len(arr) - 1\n",
    "    while left <= right:\n",
    "        mid = (left + right) // 2  # Find middle index\n",
    "        print(f\"Searching between indices {left} and {right}, middle index is {mid}, value at mid is {arr[mid]}\")\n",
    "        if arr[mid] == target:\n",
    "            return mid, arr[mid]  # Return index and the value at mid\n",
    "        elif arr[mid] < target:\n",
    "            left = mid + 1  # Search right half\n",
    "        else:\n",
    "            right = mid - 1  # Search left half\n",
    "    return -1, None  # Element not found\n",
    "\n",
    "# Example usage:\n",
    "arr = [1, 3, 5, 7, 9, 11, 13]\n",
    "target = 3\n",
    "index, value = binary_search(arr, target)\n",
    "print(f\"Target found at index {index}, value is {value}\")"
   ]
  },
  {
   "cell_type": "markdown",
   "id": "7efdae76",
   "metadata": {},
   "source": [
    "# Homework Hacks"
   ]
  },
  {
   "cell_type": "markdown",
   "id": "fea3ae0f",
   "metadata": {
    "vscode": {
     "languageId": "raw"
    }
   },
   "source": [
    "### Homework Hack 1"
   ]
  },
  {
   "cell_type": "code",
   "execution_count": null,
   "id": "a79910b0",
   "metadata": {},
   "outputs": [
    {
     "name": "stdout",
     "output_type": "stream",
     "text": [
      "7\n",
      "[4, 5, 6, 7, 0, 1, 2]\n",
      "Searching between indices 0 and 6, middle index is 3, value at mid is 7\n",
      "Searching between indices 0 and 2, middle index is 1, value at mid is 5\n",
      "Searching between indices 0 and 0, middle index is 0, value at mid is 4\n",
      "Element 1 is at index: (-1, None)\n"
     ]
    }
   ],
   "source": [
    "def binary_search(arr, target):\n",
    "    left, right = 0, len(arr) - 1\n",
    "    while left <= right:\n",
    "        mid = (left + right) // 2  # Find middle index\n",
    "        print(f\"Searching between indices {left} and {right}, middle index is {mid}, value at mid is {arr[mid]}\")\n",
    "        if arr[mid] == target:\n",
    "            return mid, arr[mid]  # Return index and the value at mid\n",
    "        elif arr[mid] < target:\n",
    "            left = mid + 1  # Search right half\n",
    "        else:\n",
    "            right = mid - 1  # Search left half\n",
    "    return -1, None  # Element not found\n",
    "\n",
    "# input\n",
    "input_arr = [4, 5, 6, 7, 0, 1, 2]\n",
    "input_target = 1\n",
    "\n",
    "input_arr.sort()\n",
    "output = binary_search(input_arr, input_target)\n",
    "print(f\"Element {input_target} is at index: {output}\")"
   ]
  },
  {
   "cell_type": "markdown",
   "id": "082e304d",
   "metadata": {},
   "source": [
    "### Note: Your answer to the homework is wrong.\n",
    "\n",
    "The answer says 5 on the homework, but that is unsorted if you actually sort the array and get the index the answer is 1."
   ]
  },
  {
   "cell_type": "markdown",
   "id": "c1784322",
   "metadata": {},
   "source": [
    "### Homework Hack 2"
   ]
  },
  {
   "cell_type": "code",
   "execution_count": 17,
   "id": "24690716",
   "metadata": {},
   "outputs": [
    {
     "name": "stdout",
     "output_type": "stream",
     "text": [
      "(1, 3)\n"
     ]
    }
   ],
   "source": [
    "def find_first_and_last(arr, target):\n",
    "    def find_index(is_first):\n",
    "        left, right = 0, len(arr) - 1\n",
    "        index = -1\n",
    "        while left <= right:\n",
    "            mid = (left + right) // 2\n",
    "            if arr[mid] == target:\n",
    "                index = mid\n",
    "                if is_first:\n",
    "                    right = mid - 1\n",
    "                else:\n",
    "                    left = mid + 1\n",
    "            elif arr[mid] < target:\n",
    "                left = mid + 1\n",
    "            else:\n",
    "                right = mid - 1\n",
    "        return index\n",
    "\n",
    "    first = find_index(is_first=True)\n",
    "    last = find_index(is_first=False)\n",
    "    return (first, last)\n",
    "\n",
    "arr = [1, 2, 2, 2, 3, 4, 5]\n",
    "target = 2\n",
    "print(find_first_and_last(arr, target))\n"
   ]
  },
  {
   "cell_type": "markdown",
   "id": "01c8f28b",
   "metadata": {},
   "source": [
    "### Homework Hack 3"
   ]
  },
  {
   "cell_type": "code",
   "execution_count": 18,
   "id": "cd369f8c",
   "metadata": {},
   "outputs": [
    {
     "name": "stdout",
     "output_type": "stream",
     "text": [
      "9\n"
     ]
    }
   ],
   "source": [
    "def smallest_greater_or_equal(arr, target):\n",
    "    left, right = 0, len(arr) - 1\n",
    "    result = -1\n",
    "\n",
    "    while left <= right:\n",
    "        mid = (left + right) // 2\n",
    "        if arr[mid] >= target:\n",
    "            result = arr[mid]\n",
    "            right = mid - 1\n",
    "        else:\n",
    "            left = mid + 1\n",
    "\n",
    "    return result\n",
    "\n",
    "arr = [1, 3, 5, 7, 9, 11]\n",
    "target = 8\n",
    "print(smallest_greater_or_equal(arr, target))\n"
   ]
  }
 ],
 "metadata": {
  "kernelspec": {
   "display_name": "venv",
   "language": "python",
   "name": "python3"
  },
  "language_info": {
   "codemirror_mode": {
    "name": "ipython",
    "version": 3
   },
   "file_extension": ".py",
   "mimetype": "text/x-python",
   "name": "python",
   "nbconvert_exporter": "python",
   "pygments_lexer": "ipython3",
   "version": "3.9.19"
  }
 },
 "nbformat": 4,
 "nbformat_minor": 5
}

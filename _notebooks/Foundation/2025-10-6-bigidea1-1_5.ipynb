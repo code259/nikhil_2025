{
 "cells": [
  {
   "cell_type": "markdown",
   "id": "a84d0476",
   "metadata": {},
   "source": [
    "# Big Idea 1 - Lesson 1.5"
   ]
  },
  {
   "cell_type": "markdown",
   "id": "82f958e8",
   "metadata": {},
   "source": [
    "### FRQ 1"
   ]
  },
  {
   "cell_type": "code",
   "execution_count": 12,
   "id": "2f558627",
   "metadata": {
    "vscode": {
     "languageId": "java"
    }
   },
   "outputs": [
    {
     "name": "stdout",
     "output_type": "stream",
     "text": [
      "2.5\n",
      "5.5\n",
      "6.0\n"
     ]
    }
   ],
   "source": [
    "public static double avgInt(int a, int b) {\n",
    "    return ((double) a + b) / 2;\n",
    "}\n",
    "\n",
    "System.out.println(avgInt(2, 3));  \n",
    "System.out.println(avgInt(5, 6)); \n",
    "System.out.println(avgInt(4, 8)); "
   ]
  },
  {
   "cell_type": "markdown",
   "id": "c2c8dd30",
   "metadata": {},
   "source": [
    "### FRQ 2"
   ]
  },
  {
   "cell_type": "code",
   "execution_count": 11,
   "id": "e01162f0",
   "metadata": {
    "vscode": {
     "languageId": "java"
    }
   },
   "outputs": [
    {
     "name": "stdout",
     "output_type": "stream",
     "text": [
      "80.0\n"
     ]
    }
   ],
   "source": [
    "public static double percent(int correct, int total) {\n",
    "    return ((double) correct / total) * 100;\n",
    "}\n",
    "System.out.println(percent(8, 10));  "
   ]
  },
  {
   "cell_type": "markdown",
   "id": "db2d9512",
   "metadata": {},
   "source": [
    "### FRQ 3"
   ]
  },
  {
   "cell_type": "code",
   "execution_count": 10,
   "id": "63acd920",
   "metadata": {
    "vscode": {
     "languageId": "java"
    }
   },
   "outputs": [
    {
     "name": "stdout",
     "output_type": "stream",
     "text": [
      "1\n",
      "2\n",
      "0\n"
     ]
    }
   ],
   "source": [
    "public static int safeMod(int a, int b) {\n",
    "    if (b == 0) {\n",
    "        return 0;\n",
    "    }\n",
    "    return a % b;\n",
    "}\n",
    "\n",
    "System.out.println(safeMod(10, 3));  // 1\n",
    "System.out.println(safeMod(7, 5));   // 2\n",
    "System.out.println(safeMod(7, 0));   // 0 (safe)"
   ]
  }
 ],
 "metadata": {
  "kernelspec": {
   "display_name": "Java",
   "language": "java",
   "name": "java"
  },
  "language_info": {
   "codemirror_mode": "java",
   "file_extension": ".jshell",
   "mimetype": "text/x-java-source",
   "name": "Java",
   "pygments_lexer": "java",
   "version": "18.0.1.1+2-6"
  }
 },
 "nbformat": 4,
 "nbformat_minor": 5
}

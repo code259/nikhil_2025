{
 "cells": [
  {
   "cell_type": "raw",
   "metadata": {
    "vscode": {
     "languageId": "raw"
    }
   },
   "source": [
    "---\n",
    "layout: post\n",
    "title: Hacks Tools & Equipment Play\n",
    "description:  The hacks.\n",
    "type: issues\n",
    "toc: true\n",
    "comments: true\n",
    "---"
   ]
  },
  {
   "cell_type": "markdown",
   "metadata": {},
   "source": [
    "# Hacks Tools & Equipment Play\n",
    "\n",
    "Lorem ipsum dolor sit amet, consectetur adipiscing elit. Mauris pretium fringilla eros, nec efficitur dolor pulvinar vitae. Nullam sagittis augue non risus accumsan molestie. Donec in mi nisi. Morbi elementum nisi et odio consequat ornare. Integer rutrum felis vitae orci aliquam, non blandit est sodales. Nulla et tincidunt sem. Nunc velit nibh, tristique id pellentesque non, molestie vitae nibh. Nulla facilisi. Suspendisse gravida ipsum quam, in pharetra orci fermentum in. Vivamus eget enim sit amet ex ultrices gravida."
   ]
  },
  {
   "cell_type": "markdown",
   "metadata": {},
   "source": [
    "# Emoji"
   ]
  },
  {
   "cell_type": "code",
   "execution_count": 3,
   "metadata": {},
   "outputs": [
    {
     "name": "stdout",
     "output_type": "stream",
     "text": [
      "👍 I like San Diego and basketball! :basketball\n"
     ]
    }
   ],
   "source": [
    "#!pip install emoji\n",
    "from emoji import emojize\n",
    "print(emojize(\":thumbs_up: I like San Diego and basketball! :basketball\"))"
   ]
  },
  {
   "cell_type": "markdown",
   "metadata": {},
   "source": [
    "<script src=\"https://utteranc.es/client.js\"\n",
    "        repo=\"code259/nikhil_2025\"\n",
    "        issue-term=\"pathname\"\n",
    "        theme=\"icy-dark\"\n",
    "        crossorigin=\"anonymous\"\n",
    "        async>\n",
    "</script>"
   ]
  }
 ],
 "metadata": {
  "kernelspec": {
   "display_name": "venv",
   "language": "python",
   "name": "python3"
  },
  "language_info": {
   "codemirror_mode": {
    "name": "ipython",
    "version": 3
   },
   "file_extension": ".py",
   "mimetype": "text/x-python",
   "name": "python",
   "nbconvert_exporter": "python",
   "pygments_lexer": "ipython3",
   "version": "3.9.19"
  }
 },
 "nbformat": 4,
 "nbformat_minor": 2
}

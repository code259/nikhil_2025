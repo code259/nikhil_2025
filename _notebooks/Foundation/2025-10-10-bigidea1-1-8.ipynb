{
 "cells": [
  {
   "cell_type": "raw",
   "id": "8908cf76",
   "metadata": {
    "vscode": {
     "languageId": "raw"
    }
   },
   "source": [
    "---\n",
    "layout: post\n",
    "title: Big Idea 1 Lesson 1.8\n",
    "description: Big Idea 1 Lesson 1.8\n",
    "type: issues\n",
    "comments: true\n",
    "---"
   ]
  },
  {
   "cell_type": "markdown",
   "id": "2e982dfb",
   "metadata": {},
   "source": [
    "# Popcorn Hacks"
   ]
  },
  {
   "cell_type": "markdown",
   "id": "fff8e7c4",
   "metadata": {},
   "source": [
    "### Popcorn Hack 1"
   ]
  },
  {
   "cell_type": "code",
   "execution_count": null,
   "id": "331c7be1",
   "metadata": {
    "vscode": {
     "languageId": "java"
    }
   },
   "outputs": [],
   "source": [
    "/**\n",
    " * Sums all positive even integers in the given array.\n",
    " *\n",
    " * @param nums array of integers, must not be null\n",
    " * @return sum of positive even numbers, or 0 if none\n",
    " */\n",
    "\n",
    "public int doSomething(int[] nums) {\n",
    "    int result = 0;\n",
    "    for (int i = 0; i < nums.length; i++) {\n",
    "        if (nums[i] > 0 && nums[i] % 2 == 0) {\n",
    "            result += nums[i];\n",
    "        }\n",
    "    }\n",
    "    return result;\n",
    "}"
   ]
  },
  {
   "cell_type": "markdown",
   "id": "bf0cf96f",
   "metadata": {},
   "source": [
    "### Popcorn Hack 2"
   ]
  },
  {
   "cell_type": "code",
   "execution_count": null,
   "id": "ed66f9a5",
   "metadata": {
    "vscode": {
     "languageId": "java"
    }
   },
   "outputs": [],
   "source": [
    "/**\n",
    " * Grade book for storing assignments, category weights, and extra credit.\n",
    " * Can add assignments, set weights, calculate final grade, and generate a report.\n",
    " *\n",
    " * @author Your Name\n",
    " * @version 1.0\n",
    " * @since 2025-10-10\n",
    " */\n",
    "public class GradeBook {\n",
    "\n",
    "    private HashMap<String, Double> assignments;\n",
    "    private HashMap<String, Double> categoryWeights;\n",
    "    private double extraCredit;\n",
    "\n",
    "    /**\n",
    "     * Adds an assignment with category, name, and score.\n",
    "     */\n",
    "    public void addAssignment(String category, String name, double score) { }\n",
    "\n",
    "    /**\n",
    "     * Sets the weight for a grading category.\n",
    "     */\n",
    "    public void setCategoryWeight(String category, double weight) { }\n",
    "\n",
    "    /**\n",
    "     * Calculates the weighted final grade including extra credit.\n",
    "     */\n",
    "    public double calculateFinalGrade() { return 0.0; }\n",
    "\n",
    "    /**\n",
    "     * Generates a text report of grades and final score.\n",
    "     */\n",
    "    public String generateReport() { return \"\"; }\n",
    "}\n"
   ]
  },
  {
   "cell_type": "markdown",
   "id": "4dfca1a7",
   "metadata": {},
   "source": [
    "# Homework Hack"
   ]
  },
  {
   "cell_type": "markdown",
   "id": "d31ca318",
   "metadata": {},
   "source": [
    "### Part 1"
   ]
  },
  {
   "cell_type": "code",
   "execution_count": null,
   "id": "125e8072",
   "metadata": {
    "vscode": {
     "languageId": "java"
    }
   },
   "outputs": [],
   "source": [
    "/**\n",
    " * Demonstrates adding two integers and printing the result.\n",
    " * This class shows basic usage of a utility method for addition.\n",
    " */\n",
    "public class Stuff {\n",
    "\n",
    "    /**\n",
    "     * Runs the program: adds two numbers and prints the result.\n",
    "     * Example usage:\n",
    "     * java Stuff\n",
    "     * Output: Result: 15\n",
    "     *\n",
    "     * @param args command-line arguments (not used)\n",
    "     */\n",
    "    public static void main(String[] args) {\n",
    "        int x = 5;\n",
    "        int y = 10;\n",
    "        int z = add(x, y); // sum x and y\n",
    "        System.out.println(\"Result: \" + z);\n",
    "    }\n",
    "}\n",
    "    /**\n",
    "     * Returns the sum of two integers.\n",
    "     * Assumes neither value will cause integer overflow.\n",
    "     * Example usage:\n",
    "     * int result = add(3, 7); // ret*\n"
   ]
  },
  {
   "cell_type": "markdown",
   "id": "cd0916ec",
   "metadata": {},
   "source": [
    "### Part 2"
   ]
  },
  {
   "cell_type": "code",
   "execution_count": null,
   "id": "32b9a3fe",
   "metadata": {
    "vscode": {
     "languageId": "java"
    }
   },
   "outputs": [],
   "source": [
    "/**\n",
    " * Attempts to enroll a student in a course for a given semester.\n",
    " *\n",
    " * This method performs several checks before enrollment:\n",
    " * - Verifies that the student exists.\n",
    " * - Verifies that the course exists.\n",
    " * - Ensures the course is not full.\n",
    " * - Checks for schedule conflicts with the student's existing courses.\n",
    " * - Verifies the student meets all prerequisites for the course.\n",
    " * - Ensures the student's total credit hours do not exceed 18 after enrollment.\n",
    " *\n",
    " * If all checks pass, the course is added to the student's schedule,\n",
    " * the student is added to the course roster, and the enrollment transaction\n",
    " * is recorded.\n",
    " *\n",
    " * Assumptions:\n",
    " * - studentId and courseCode are valid, non-null strings.\n",
    " * - semester is a valid semester identifier.\n",
    " * - Credit hours for all courses are positive integers.\n",
    " *\n",
    " * Return value:\n",
    " * - true if enrollment succeeds.\n",
    " * - false if any check fails (student/course not found, course full, schedule conflict,\n",
    " *   missing prerequisites, or exceeding max credit hours).\n",
    " *\n",
    " * Example usage:\n",
    " * boolean success = enrollStudent(\"S12345\", \"CS101\", 1);\n",
    " * if (success) {\n",
    " *     System.out.println(\"Enrollment successful\");\n",
    " * } else {\n",
    " *     System.out.println(\"Enrollment failed\");\n",
    " * }\n",
    " *\n",
    " * @param studentId the unique ID of the student to enroll\n",
    " * @param courseCode the unique code of the course to enroll in\n",
    " * @param semester the semester number for enrollment\n",
    " * @return true if the student was successfully enrolled; false otherwise\n",
    " */\n",
    "public boolean enrollStudent(String studentId, String courseCode, int semester) {\n",
    "    Student student = findStudentById(studentId);\n",
    "    if (student == null) return false;\n",
    "\n",
    "    Course course = findCourseByCode(courseCode);\n",
    "    if (course == null) return false;\n",
    "\n",
    "    if (course.isFull()) return false;\n",
    "    if (student.hasScheduleConflict(course)) return false;\n",
    "    if (!student.hasPrerequisites(course)) return false;\n",
    "    if (student.getCreditHours() + course.getCreditHours() > 18) return false;\n",
    "\n",
    "    student.addCourse(course);\n",
    "    course.addStudent(student);\n",
    "    recordEnrollmentTransaction(studentId, courseCode, semester);\n",
    "    return true;\n",
    "}"
   ]
  },
  {
   "cell_type": "markdown",
   "id": "9367d1fc",
   "metadata": {},
   "source": [
    "### Part 3\n",
    "\n",
    "**Why more important in team projects:**\n",
    "Documentation ensures everyone understands the code, its purpose, assumptions, and edge cases. It prevents confusion, speeds up onboarding, and reduces bugs when multiple people work on the same code. In solo projects, you can rely on memory, so extensive documentation is less critical.\n",
    "\n",
    "**Example when it SHOULD be documented:**\n",
    "A method that calculates a student's final grade based on multiple rules, weights, and edge cases — because others need to know the why and how.\n",
    "\n",
    "**Example when it SHOULD NOT be documented:**\n",
    "A simple getter like getName() — the purpose is obvious and adding a comment adds clutter."
   ]
  },
  {
   "cell_type": "markdown",
   "id": "0d1cd910",
   "metadata": {},
   "source": [
    "# Challenge Problems"
   ]
  },
  {
   "cell_type": "markdown",
   "id": "627c244f",
   "metadata": {},
   "source": [
    "### Challenge Problem 1"
   ]
  },
  {
   "cell_type": "code",
   "execution_count": null,
   "id": "da8beb60",
   "metadata": {
    "vscode": {
     "languageId": "java"
    }
   },
   "outputs": [],
   "source": [
    "/**\n",
    " * Computes the factorial of a non-negative integer using recursion.\n",
    " *\n",
    " * This method multiplies the given number by the factorial of (n-1)\n",
    " * until it reaches the base case of 0 or 1.\n",
    " *\n",
    " * Base case:\n",
    " * - If n is 0 or 1, returns 1.\n",
    " *\n",
    " * Recursive case:\n",
    " * - Returns n multiplied by factorial(n - 1).\n",
    " *\n",
    " * Assumptions:\n",
    " * - n must be non-negative.\n",
    " *\n",
    " * Time complexity:\n",
    " * - O(n) because the method makes n recursive calls.\n",
    " *\n",
    " * Space complexity:\n",
    " * - O(n) due to the recursion stack.\n",
    " *\n",
    " * Example usage:\n",
    " * int result = factorial(5); // returns 120\n",
    " *\n",
    " * @param n the non-negative integer whose factorial is to be computed\n",
    " * @return the factorial of n\n",
    " * @throws IllegalArgumentException if n is negative\n",
    " */\n",
    "public static int factorial(int n) {\n",
    "    if (n < 0) throw new IllegalArgumentException(\"n must be non-negative\");\n",
    "    if (n == 0 || n == 1) return 1; // base case\n",
    "    return n * factorial(n - 1); // recursive case\n",
    "}"
   ]
  },
  {
   "cell_type": "markdown",
   "id": "d3aaa6a4",
   "metadata": {},
   "source": [
    "### Challenge Problem 2"
   ]
  },
  {
   "cell_type": "markdown",
   "id": "372aba05",
   "metadata": {
    "vscode": {
     "languageId": "raw"
    }
   },
   "source": [
    "#### 1. When to Document\n",
    "\n",
    "**Document a method/class when:**\n",
    "- Implements complex logic, algorithms, or business rules.\n",
    "- Has assumptions, edge cases, or constraints.\n",
    "- Will be used by other team members or external code.\n",
    "- Modifies state, handles I/O, or interacts with external systems.\n",
    "\n",
    "**Do NOT document:**\n",
    "- Simple getters/setters.\n",
    "- Obvious one-line operations (`x = 5;`).\n",
    "- Code that will be immediately clear to any competent developer.\n",
    "\n",
    "---\n",
    "\n",
    "#### 2. Required Tags\n",
    "\n",
    "| Method Type      | Required Tags |\n",
    "|-----------------|---------------|\n",
    "| Complex method   | `@param`, `@return`, `@throws`, usage example, assumptions, complexity (if recursive/algorithmic) |\n",
    "| Simple method    | `@param`, `@return` (only if not obvious) |\n",
    "| Constructor      | `@param` for arguments |\n",
    "| Class            | `@author`, `@version`, `@since`, purpose, main features, usage example |\n",
    "\n",
    "---\n",
    "\n",
    "#### 3. Example Templates\n",
    "\n",
    "**Complex method example:**\n",
    "\n",
    "```java\n",
    "/**\n",
    " * Computes the sum of positive even integers in an array.\n",
    " *\n",
    " * Assumes the array is not null.\n",
    " *\n",
    " * Example:\n",
    " * int result = sumPositiveEven(new int[]{1,2,3,4}); // returns 6\n",
    " *\n",
    " * @param nums array of integers, must not be null\n",
    " * @return sum of positive even integers\n",
    " * @throws NullPointerException if nums is null\n",
    " */\n",
    "```\n",
    "\n",
    "#### 4. Common Mistakes to Avoid\n",
    "- Using vague descriptions like “processes data.”\n",
    "- Over-documenting trivial code (getters/setters).\n",
    "- Forgetting edge cases (`null`, empty arrays, invalid input).\n",
    "- Letting documentation become outdated when code changes.\n",
    "- Using HTML tags in Javadoc — always use plain text.\n",
    "\n"
   ]
  },
  {
   "cell_type": "markdown",
   "id": "68dfe26a",
   "metadata": {},
   "source": [
    "### Challenge Problem 3"
   ]
  },
  {
   "cell_type": "markdown",
   "id": "b43d24f9",
   "metadata": {
    "vscode": {
     "languageId": "raw"
    }
   },
   "source": [
    "### OSS Project: https://github.com/rsyslog/rsyslog\n",
    "\n",
    "#### Before: Original Class Documentation\n",
    "\n",
    "```java\n",
    "/**\n",
    " * Class to manage user accounts.\n",
    " */\n",
    "public class UserAccount {\n",
    "    private String username;\n",
    "    private String password;\n",
    "\n",
    "    public UserAccount(String username, String password) {\n",
    "        this.username = username;\n",
    "        this.password = password;\n",
    "    }\n",
    "\n",
    "    public boolean authenticate(String password) {\n",
    "        return this.password.equals(password);\n",
    "    }\n",
    "\n",
    "    public void changePassword(String newPassword) {\n",
    "        this.password = newPassword;\n",
    "    }\n",
    "}\n",
    "```\n",
    "\n",
    "**Issues:**\n",
    "- Lacks detailed explanations of methods and parameters.\n",
    "- No information about assumptions, edge cases, or limitations.\n",
    "- No examples provided.\n",
    "\n",
    "#### After: Improved Documentation\n",
    "\n",
    "```java\n",
    "/**\n",
    " * Represents a user account with authentication and password management capabilities.\n",
    " *\n",
    " * This class provides methods to authenticate a user, change their password,\n",
    " * and retrieve the username associated with the account.\n",
    " *\n",
    " * Assumptions:\n",
    " * - The username is unique and immutable.\n",
    " * - Passwords are stored in plain text (consider hashing for production).\n",
    " *\n",
    " * Example usage:\n",
    " * UserAccount user = new UserAccount(\"john_doe\", \"securePassword123\");\n",
    " * boolean isAuthenticated = user.authenticate(\"securePassword123\");\n",
    " * if (isAuthenticated) {\n",
    " *     user.changePassword(\"newSecurePassword456\");\n",
    " * }\n",
    " *\n",
    " * @author Your Name\n",
    " * @version 1.1\n",
    " * @since 2025-10-10\n",
    " */\n",
    "public class UserAccount {\n",
    "    private String username;\n",
    "    private String password;\n",
    "\n",
    "    /**\n",
    "     * Constructs a UserAccount with the specified username and password.\n",
    "     *\n",
    "     * @param username the unique identifier for the user\n",
    "     * @param password the user's password\n",
    "     */\n",
    "    public UserAccount(String username, String password) {\n",
    "        this.username = username;\n",
    "        this.password = password;\n",
    "    }\n",
    "\n",
    "    /**\n",
    "     * Authenticates the user by comparing the provided password with the stored password.\n",
    "     *\n",
    "     * @param password the password to authenticate\n",
    "     * @return true if the provided password matches the stored password; false otherwise\n",
    "     */\n",
    "    public boolean authenticate(String password) {\n",
    "        return this.password.equals(password);\n",
    "    }\n",
    "\n",
    "    /**\n",
    "     * Changes the user's password to the specified new password.\n",
    "     *\n",
    "     * @param newPassword the new password to set\n",
    "     */\n",
    "    public void changePassword(String newPassword) {\n",
    "        this.password = newPassword;\n",
    "    }\n",
    "\n",
    "    /**\n",
    "     * Retrieves the username associated with this account.\n",
    "     *\n",
    "     * @return the username of the account\n",
    "     */\n",
    "    public String getUsername() {\n",
    "        return username;\n",
    "    }\n",
    "}\n",
    "```\n",
    "\n"
   ]
  }
 ],
 "metadata": {
  "language_info": {
   "name": "python"
  }
 },
 "nbformat": 4,
 "nbformat_minor": 5
}

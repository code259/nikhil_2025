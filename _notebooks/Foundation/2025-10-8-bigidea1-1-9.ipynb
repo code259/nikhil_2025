{
 "cells": [
  {
   "cell_type": "raw",
   "id": "342364e8",
   "metadata": {
    "vscode": {
     "languageId": "raw"
    }
   },
   "source": [
    "---\n",
    "layout: post\n",
    "title: Big Idea 1 Lesson 1.9\n",
    "description: Big Idea 1 Lesson 1.9\n",
    "type: issues\n",
    "comments: true\n",
    "---"
   ]
  },
  {
   "cell_type": "markdown",
   "id": "06372c29",
   "metadata": {},
   "source": [
    "# Popcorn Hacks"
   ]
  },
  {
   "cell_type": "markdown",
   "id": "ae4d2b15",
   "metadata": {},
   "source": [
    "### Popcorn Hack 1"
   ]
  },
  {
   "cell_type": "code",
   "execution_count": 5,
   "id": "bdd0a78e",
   "metadata": {
    "vscode": {
     "languageId": "java"
    }
   },
   "outputs": [
    {
     "name": "stdout",
     "output_type": "stream",
     "text": [
      "9\n",
      "-2\n",
      "3.5\n",
      "2.0\n"
     ]
    }
   ],
   "source": [
    "public class PopcornMax {\n",
    "    // TODO: write int version of max\n",
    "    // TODO: write double version of max\n",
    "    public static int max(int a, int b) {\n",
    "        if (a > b) {\n",
    "            return a;\n",
    "        } else {\n",
    "            return b;\n",
    "        }\n",
    "    }\n",
    "\n",
    "    public static double max(double a, double b) {\n",
    "        if (a > b) {\n",
    "            return a;\n",
    "        } else {\n",
    "            return b;\n",
    "        }\n",
    "    }\n",
    "\n",
    "    public static void main(String[] args) {\n",
    "        System.out.println(max(3, 9));      // expected: 9\n",
    "        System.out.println(max(-2, -7));    // expected: -2\n",
    "        System.out.println(max(3.5, 2.9));  // expected: 3.5\n",
    "        System.out.println(max(2, 2.0));    // should call double version → 2.0\n",
    "    }\n",
    "}\n",
    "\n",
    "PopcornMax.main(null);"
   ]
  },
  {
   "cell_type": "markdown",
   "id": "8e620dd4",
   "metadata": {},
   "source": [
    "### Popcorn Hack 2"
   ]
  },
  {
   "cell_type": "code",
   "execution_count": null,
   "id": "1fddfc17",
   "metadata": {
    "vscode": {
     "languageId": "java"
    }
   },
   "outputs": [],
   "source": []
  },
  {
   "cell_type": "markdown",
   "id": "a9138cd9",
   "metadata": {},
   "source": [
    "# Homework Hacks"
   ]
  }
 ],
 "metadata": {
  "kernelspec": {
   "display_name": "Java",
   "language": "java",
   "name": "java"
  },
  "language_info": {
   "codemirror_mode": "java",
   "file_extension": ".jshell",
   "mimetype": "text/x-java-source",
   "name": "Java",
   "pygments_lexer": "java",
   "version": "18.0.1.1+2-6"
  }
 },
 "nbformat": 4,
 "nbformat_minor": 5
}

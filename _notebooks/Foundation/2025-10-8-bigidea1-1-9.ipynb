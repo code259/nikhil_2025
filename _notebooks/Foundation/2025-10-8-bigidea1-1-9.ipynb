{
 "cells": [
  {
   "cell_type": "raw",
   "id": "342364e8",
   "metadata": {
    "vscode": {
     "languageId": "raw"
    }
   },
   "source": [
    "---\n",
    "layout: post\n",
    "title: Big Idea 1 Lesson 1.9\n",
    "description: Big Idea 1 Lesson 1.9\n",
    "type: issues\n",
    "comments: true\n",
    "---"
   ]
  },
  {
   "cell_type": "markdown",
   "id": "06372c29",
   "metadata": {},
   "source": [
    "# Popcorn Hacks"
   ]
  },
  {
   "cell_type": "markdown",
   "id": "ae4d2b15",
   "metadata": {},
   "source": [
    "### Popcorn Hack 1"
   ]
  },
  {
   "cell_type": "code",
   "execution_count": 5,
   "id": "bdd0a78e",
   "metadata": {
    "vscode": {
     "languageId": "java"
    }
   },
   "outputs": [
    {
     "name": "stdout",
     "output_type": "stream",
     "text": [
      "9\n",
      "-2\n",
      "3.5\n",
      "2.0\n"
     ]
    }
   ],
   "source": [
    "public class PopcornMax {\n",
    "    // TODO: write int version of max\n",
    "    // TODO: write double version of max\n",
    "    public static int max(int a, int b) {\n",
    "        if (a > b) {\n",
    "            return a;\n",
    "        } else {\n",
    "            return b;\n",
    "        }\n",
    "    }\n",
    "\n",
    "    public static double max(double a, double b) {\n",
    "        if (a > b) {\n",
    "            return a;\n",
    "        } else {\n",
    "            return b;\n",
    "        }\n",
    "    }\n",
    "\n",
    "    public static void main(String[] args) {\n",
    "        System.out.println(max(3, 9));      // expected: 9\n",
    "        System.out.println(max(-2, -7));    // expected: -2\n",
    "        System.out.println(max(3.5, 2.9));  // expected: 3.5\n",
    "        System.out.println(max(2, 2.0));    // should call double version → 2.0\n",
    "    }\n",
    "}\n",
    "\n",
    "PopcornMax.main(null);"
   ]
  },
  {
   "cell_type": "markdown",
   "id": "8e620dd4",
   "metadata": {},
   "source": [
    "### Popcorn Hack 2"
   ]
  },
  {
   "cell_type": "code",
   "execution_count": 1,
   "id": "1fddfc17",
   "metadata": {
    "vscode": {
     "languageId": "java"
    }
   },
   "outputs": [
    {
     "name": "stdout",
     "output_type": "stream",
     "text": [
      "int:42\n",
      "str:hello\n",
      "str:A!\n"
     ]
    }
   ],
   "source": [
    "public class PopcornPrint {\n",
    "    static void print(int n) {\n",
    "        System.out.println(\"int:\" + n);\n",
    "    }\n",
    "\n",
    "    static void print(String s) {\n",
    "        System.out.println(\"str:\" + s);\n",
    "    }\n",
    "\n",
    "    public static void main(String[] args) {\n",
    "        print(42);          // int:42\n",
    "        print(\"hello\");     // str:hello\n",
    "        print('A' + \"!\");   // str:A!\n",
    "    }\n",
    "}\n",
    "\n",
    "PopcornPrint.main(null);"
   ]
  },
  {
   "cell_type": "markdown",
   "id": "a9138cd9",
   "metadata": {},
   "source": [
    "# Homework Hacks"
   ]
  },
  {
   "cell_type": "markdown",
   "id": "59bc03b1",
   "metadata": {},
   "source": [
    "### Short Answer"
   ]
  },
  {
   "cell_type": "markdown",
   "id": "928642c8",
   "metadata": {
    "vscode": {
     "languageId": "java"
    }
   },
   "source": [
    "int sum(int a, int b) and double sum(int a, int b) cannot both exist because they have the same method name and parameter list, and changing only the return type does not make a method different.\n",
    "\n",
    "Parameters are the variables listed in a method’s definition, while arguments are the actual values you pass into the method when you call it."
   ]
  },
  {
   "cell_type": "markdown",
   "id": "de1e04aa",
   "metadata": {},
   "source": [
    "### Coding Tasks (1, 2, and 3)"
   ]
  },
  {
   "cell_type": "code",
   "execution_count": null,
   "id": "c24d151f",
   "metadata": {
    "vscode": {
     "languageId": "java"
    }
   },
   "outputs": [],
   "source": [
    "// Task 1\n",
    "int abs(int x) {\n",
    "    return x < 0 ? -x : x;\n",
    "}\n",
    "\n",
    "double abs(double x) {\n",
    "    return x < 0 ? -x : x;\n",
    "}\n",
    "\n",
    "long abs(long x) {\n",
    "    return x < 0 ? -x : x;\n",
    "}\n"
   ]
  },
  {
   "cell_type": "code",
   "execution_count": null,
   "id": "77d4d315",
   "metadata": {
    "vscode": {
     "languageId": "java"
    }
   },
   "outputs": [
    {
     "name": "stdout",
     "output_type": "stream",
     "text": [
      "HelloWorld\n",
      "HiHiHi\n"
     ]
    }
   ],
   "source": [
    "// Task 2\n",
    "public class ConcatExample {\n",
    "    static String concat(String a, String b) {\n",
    "        return a + b;\n",
    "    }\n",
    "\n",
    "    static String concat(String a, int n) {\n",
    "        String result = \"\";\n",
    "        for (int i = 0; i < n; i++) {\n",
    "            result += a;\n",
    "        }\n",
    "        return result;\n",
    "    }\n",
    "\n",
    "    public static void main(String[] args) {\n",
    "        System.out.println(concat(\"Hello\", \"World\")); // HelloWorld\n",
    "        System.out.println(concat(\"Hi\", 3));          // HiHiHi\n",
    "    }\n",
    "}\n",
    "ConcatExample.main(null);"
   ]
  },
  {
   "cell_type": "code",
   "execution_count": null,
   "id": "7601bf50",
   "metadata": {
    "vscode": {
     "languageId": "java"
    }
   },
   "outputs": [
    {
     "name": "stdout",
     "output_type": "stream",
     "text": [
      "int\n",
      "long\n",
      "double\n"
     ]
    }
   ],
   "source": [
    "// Task 3\n",
    "public class ShowExample {\n",
    "    static void show(int x) {\n",
    "        System.out.println(\"int\");\n",
    "    }\n",
    "\n",
    "    static void show(double x) {\n",
    "        System.out.println(\"double\");\n",
    "    }\n",
    "\n",
    "    static void show(long x) {\n",
    "        System.out.println(\"long\");\n",
    "    }\n",
    "\n",
    "    public static void main(String[] args) {\n",
    "        show(7);    // int\n",
    "        show(7L);   // long\n",
    "        show(7.0);  // double\n",
    "    }\n",
    "}\n",
    "ShowExample.main(null);"
   ]
  },
  {
   "cell_type": "markdown",
   "id": "b88b018f",
   "metadata": {},
   "source": [
    "### FRQ Style Questions"
   ]
  },
  {
   "cell_type": "code",
   "execution_count": 6,
   "id": "be9f1321",
   "metadata": {
    "vscode": {
     "languageId": "java"
    }
   },
   "outputs": [
    {
     "name": "stdout",
     "output_type": "stream",
     "text": [
      "1\n",
      "-1\n",
      "1\n",
      "-1\n"
     ]
    }
   ],
   "source": [
    "// Question 1\n",
    "\n",
    "public class IndexOfExample {\n",
    "\n",
    "    // Assumptions & Constraints:\n",
    "    // - s and target are non-null.\n",
    "    // - Case-sensitive search.\n",
    "    // - No use of built-in indexOf() or similar library methods.\n",
    "    // - Returns -1 if target or substring is not found.\n",
    "\n",
    "    static int indexOf(char target, String s) {\n",
    "        for (int i = 0; i < s.length(); i++) {\n",
    "            if (s.charAt(i) == target) {\n",
    "                return i;\n",
    "            }\n",
    "        }\n",
    "        return -1;\n",
    "    }\n",
    "\n",
    "    static int indexOf(String target, String s) {\n",
    "        if (target.length() == 0 || target.length() > s.length()) {\n",
    "            return -1;\n",
    "        }\n",
    "\n",
    "        for (int i = 0; i <= s.length() - target.length(); i++) {\n",
    "            boolean match = true;\n",
    "            for (int j = 0; j < target.length(); j++) {\n",
    "                if (s.charAt(i + j) != target.charAt(j)) {\n",
    "                    match = false;\n",
    "                    break;\n",
    "                }\n",
    "            }\n",
    "            if (match) {\n",
    "                return i;\n",
    "            }\n",
    "        }\n",
    "        return -1;\n",
    "    }\n",
    "\n",
    "    public static void main(String[] args) {\n",
    "        System.out.println(indexOf('a', \"banana\")); // 1\n",
    "        System.out.println(indexOf('z', \"banana\")); // -1\n",
    "        System.out.println(indexOf(\"ana\", \"banana\")); // 1\n",
    "        System.out.println(indexOf(\"apple\", \"banana\")); // -1\n",
    "    }\n",
    "}\n",
    "IndexOfExample.main(null);"
   ]
  },
  {
   "cell_type": "code",
   "execution_count": 7,
   "id": "417316b3",
   "metadata": {
    "vscode": {
     "languageId": "java"
    }
   },
   "outputs": [
    {
     "name": "stdout",
     "output_type": "stream",
     "text": [
      "5\n",
      "0\n",
      "10\n",
      "8.5\n"
     ]
    }
   ],
   "source": [
    "// Question 2\n",
    "\n",
    "public class ClampExample {\n",
    "\n",
    "    // Assumptions & Constraints:\n",
    "    // - Works for any int or double inputs.\n",
    "    // - If low > high, values are swapped so the range is valid.\n",
    "\n",
    "    static int clamp(int value, int low, int high) {\n",
    "        if (low > high) {\n",
    "            int temp = low;\n",
    "            low = high;\n",
    "            high = temp;\n",
    "        }\n",
    "        if (value < low) return low;\n",
    "        if (value > high) return high;\n",
    "        return value;\n",
    "    }\n",
    "\n",
    "    static double clamp(double value, double low, double high) {\n",
    "        if (low > high) {\n",
    "            double temp = low;\n",
    "            low = high;\n",
    "            high = temp;\n",
    "        }\n",
    "        if (value < low) return low;\n",
    "        if (value > high) return high;\n",
    "        return value;\n",
    "    }\n",
    "\n",
    "    public static void main(String[] args) {\n",
    "        System.out.println(clamp(5, 1, 10));      // 5\n",
    "        System.out.println(clamp(-3, 0, 7));      // 0\n",
    "        System.out.println(clamp(12, 0, 10));     // 10\n",
    "        System.out.println(clamp(8.5, 10.0, 5.0)); // 8.5 (swaps low/high)\n",
    "    }\n",
    "}\n",
    "ClampExample.main(null);"
   ]
  }
 ],
 "metadata": {
  "kernelspec": {
   "display_name": "Java",
   "language": "java",
   "name": "java"
  },
  "language_info": {
   "codemirror_mode": "java",
   "file_extension": ".jshell",
   "mimetype": "text/x-java-source",
   "name": "Java",
   "pygments_lexer": "java",
   "version": "18.0.1.1+2-6"
  }
 },
 "nbformat": 4,
 "nbformat_minor": 5
}

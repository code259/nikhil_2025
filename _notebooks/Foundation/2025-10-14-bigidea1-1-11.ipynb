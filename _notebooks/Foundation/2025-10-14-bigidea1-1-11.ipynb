{
 "cells": [
  {
   "cell_type": "raw",
   "id": "81d2d9de",
   "metadata": {
    "vscode": {
     "languageId": "raw"
    }
   },
   "source": [
    "---\n",
    "layout: post\n",
    "title: Big Idea 1 Lesson 1.11\n",
    "description: Big Idea 1 Lesson 1.11\n",
    "type: issues\n",
    "comments: true\n",
    "---"
   ]
  },
  {
   "cell_type": "markdown",
   "id": "565a3805",
   "metadata": {},
   "source": [
    "# Popcorn Hacks"
   ]
  },
  {
   "cell_type": "markdown",
   "id": "124f8824",
   "metadata": {},
   "source": [
    "### Popcorn Hack 1"
   ]
  },
  {
   "cell_type": "code",
   "execution_count": 1,
   "id": "38549da8",
   "metadata": {
    "vscode": {
     "languageId": "java"
    }
   },
   "outputs": [
    {
     "name": "stdout",
     "output_type": "stream",
     "text": [
      "Level: 10\n",
      "Base Power: 100.0\n",
      "Final Power: 619.17\n"
     ]
    },
    {
     "data": {
      "text/plain": [
       "java.io.PrintStream@44dc0768"
      ]
     },
     "execution_count": 1,
     "metadata": {},
     "output_type": "execute_result"
    }
   ],
   "source": [
    "// Popcorn Hack #1: Power Level Calculator\n",
    "// This program calculates a character's final power level based on a hard-coded level.\n",
    "\n",
    "// Base power of the character\n",
    "double basePower = 100;\n",
    "\n",
    "// Hard-coded level\n",
    "int level = 10;\n",
    "\n",
    "// Calculate final power using formula: basePower * (1.2)^level\n",
    "double finalPower = basePower * Math.pow(1.2, level);\n",
    "\n",
    "// Print the results\n",
    "System.out.println(\"Level: \" + level);\n",
    "System.out.println(\"Base Power: \" + basePower);\n",
    "System.out.printf(\"Final Power: %.2f%n\", finalPower);"
   ]
  },
  {
   "cell_type": "markdown",
   "id": "86475cde",
   "metadata": {},
   "source": [
    "#### Testing with different values"
   ]
  },
  {
   "cell_type": "code",
   "execution_count": 2,
   "id": "aa93a215",
   "metadata": {
    "vscode": {
     "languageId": "java"
    }
   },
   "outputs": [
    {
     "name": "stdout",
     "output_type": "stream",
     "text": [
      "Level: 5 | Final Power: 248.83\n",
      "Level: 10 | Final Power: 619.17\n",
      "Level: 15 | Final Power: 1540.70\n",
      "Level: 20 | Final Power: 3833.76\n"
     ]
    }
   ],
   "source": [
    "// Testing the Power Level Calculator with different level values\n",
    "\n",
    "double basePower = 100;\n",
    "\n",
    "// Test different levels\n",
    "int[] testLevels = {5, 10, 15, 20};\n",
    "\n",
    "for (int level : testLevels) {\n",
    "    // Calculate final power for each level\n",
    "    double finalPower = basePower * Math.pow(1.2, level);\n",
    "\n",
    "    // Print the result\n",
    "    System.out.printf(\"Level: %d | Final Power: %.2f%n\", level, finalPower);\n",
    "}\n"
   ]
  },
  {
   "cell_type": "markdown",
   "id": "1d311f1e",
   "metadata": {},
   "source": [
    "### Popcorn Hack 2"
   ]
  },
  {
   "cell_type": "code",
   "execution_count": 3,
   "id": "8691763a",
   "metadata": {
    "vscode": {
     "languageId": "java"
    }
   },
   "outputs": [
    {
     "name": "stdout",
     "output_type": "stream",
     "text": [
      "Loot Drop!\n",
      "Rarity Roll: 22\n",
      "You got: COMMON item\n",
      "Gold Value: 17\n"
     ]
    }
   ],
   "source": [
    "// Popcorn Hack #2: Loot Drop System\n",
    "// This program simulates a random loot drop with different rarities and gold values.\n",
    "\n",
    "// Print starting message\n",
    "System.out.println(\"Loot Drop!\");\n",
    "\n",
    "// Generate a random rarity roll between 1 and 100 (inclusive)\n",
    "int rarityRoll = (int)(Math.random() * 100) + 1;\n",
    "System.out.println(\"Rarity Roll: \" + rarityRoll);\n",
    "\n",
    "// Variables for rarity type and gold value\n",
    "String rarity;\n",
    "int goldValue;\n",
    "\n",
    "// Determine rarity and gold value based on rarityRoll\n",
    "if (rarityRoll >= 1 && rarityRoll <= 60) {\n",
    "    rarity = \"COMMON\";\n",
    "    goldValue = (int)(Math.random() * (30 - 10 + 1)) + 10; // 10–30 gold\n",
    "} else if (rarityRoll <= 85) {\n",
    "    rarity = \"RARE\";\n",
    "    goldValue = (int)(Math.random() * (70 - 31 + 1)) + 31; // 31–70 gold\n",
    "} else {\n",
    "    rarity = \"LEGENDARY\";\n",
    "    goldValue = (int)(Math.random() * (100 - 71 + 1)) + 71; // 71–100 gold\n",
    "}\n",
    "\n",
    "// Print the result\n",
    "System.out.println(\"You got: \" + rarity + \" item\");\n",
    "System.out.println(\"Gold Value: \" + goldValue);\n"
   ]
  },
  {
   "cell_type": "markdown",
   "id": "c52d08c9",
   "metadata": {},
   "source": [
    "#### Testing with different values"
   ]
  },
  {
   "cell_type": "code",
   "execution_count": 4,
   "id": "87fb635d",
   "metadata": {
    "vscode": {
     "languageId": "java"
    }
   },
   "outputs": [
    {
     "name": "stdout",
     "output_type": "stream",
     "text": [
      "Loot Drop #1!\n",
      "Rarity Roll: 15\n",
      "You got: COMMON item\n",
      "Gold Value: 14\n",
      "---------------------------\n",
      "Loot Drop #2!\n",
      "Rarity Roll: 50\n",
      "You got: COMMON item\n",
      "Gold Value: 18\n",
      "---------------------------\n",
      "Loot Drop #3!\n",
      "Rarity Roll: 90\n",
      "You got: LEGENDARY item\n",
      "Gold Value: 97\n",
      "---------------------------\n",
      "Loot Drop #4!\n",
      "Rarity Roll: 34\n",
      "You got: COMMON item\n",
      "Gold Value: 10\n",
      "---------------------------\n",
      "Loot Drop #5!\n",
      "Rarity Roll: 13\n",
      "You got: COMMON item\n",
      "Gold Value: 11\n",
      "---------------------------\n"
     ]
    }
   ],
   "source": [
    "// Testing the Loot Drop System multiple times\n",
    "// This will simulate 5 random loot drops to show different possible outcomes\n",
    "\n",
    "for (int i = 1; i <= 5; i++) {\n",
    "    System.out.println(\"Loot Drop #\" + i + \"!\");\n",
    "\n",
    "    // Generate rarity roll (1–100)\n",
    "    int rarityRoll = (int)(Math.random() * 100) + 1;\n",
    "\n",
    "    String rarity;\n",
    "    int goldValue;\n",
    "\n",
    "    // Determine rarity and gold value\n",
    "    if (rarityRoll <= 60) {\n",
    "        rarity = \"COMMON\";\n",
    "        goldValue = (int)(Math.random() * (30 - 10 + 1)) + 10;\n",
    "    } else if (rarityRoll <= 85) {\n",
    "        rarity = \"RARE\";\n",
    "        goldValue = (int)(Math.random() * (70 - 31 + 1)) + 31;\n",
    "    } else {\n",
    "        rarity = \"LEGENDARY\";\n",
    "        goldValue = (int)(Math.random() * (100 - 71 + 1)) + 71;\n",
    "    }\n",
    "\n",
    "    // Print results for this drop\n",
    "    System.out.println(\"Rarity Roll: \" + rarityRoll);\n",
    "    System.out.println(\"You got: \" + rarity + \" item\");\n",
    "    System.out.println(\"Gold Value: \" + goldValue);\n",
    "    System.out.println(\"---------------------------\");\n",
    "}\n"
   ]
  },
  {
   "cell_type": "markdown",
   "id": "9626b241",
   "metadata": {},
   "source": [
    "# Homework Hacks"
   ]
  },
  {
   "cell_type": "code",
   "execution_count": 5,
   "id": "f85250cb",
   "metadata": {
    "vscode": {
     "languageId": "java"
    }
   },
   "outputs": [
    {
     "name": "stdout",
     "output_type": "stream",
     "text": [
      "=== Part A: Health Difference ===\n",
      "healthDifference(75, 120): 45\n",
      "healthDifference(100, 80): 20\n",
      "healthDifference(50, 50): 0\n",
      "\n",
      "=== Part B: Attack Damage ===\n",
      "calculateDamage(10.0, 2): 22.5\n",
      "calculateDamage(15.0, 3): 50.625\n",
      "\n",
      "=== Part C: Distance Detector ===\n",
      "findDistance(0, 0, 3, 4): 5.0\n",
      "findDistance(1, 1, 4, 5): 5.0\n",
      "\n",
      "=== Part D: Random Loot Generator ===\n",
      "generateLoot(10, 50): 33\n",
      "generateLoot(100, 100): 100\n",
      "generateLoot(1, 6): 1\n"
     ]
    }
   ],
   "source": [
    "// This program defines several methods to handle player statistics in a simple game.\n",
    "public class GameStatsCalculator {\n",
    "    // Part A: Health Difference\n",
    "    // Calculates the absolute difference between two players' health values.\n",
    "    public static int healthDifference(int player1Health, int player2Health) {\n",
    "        return Math.abs(player1Health - player2Health);\n",
    "    }\n",
    "\n",
    "    // Part B: Attack Damage\n",
    "    // Calculates total attack damage using a power multiplier.\n",
    "    public static double calculateDamage(double baseDamage, double powerLevel) {\n",
    "        return baseDamage * Math.pow(1.5, powerLevel);\n",
    "    }\n",
    "\n",
    "    // Part C: Distance Detector\n",
    "    // Calculates distance between a player and an enemy using the distance formula.\n",
    "    public static double findDistance(int playerX, int playerY, int enemyX, int enemyY) {\n",
    "        return Math.sqrt(Math.pow(enemyX - playerX, 2) + Math.pow(enemyY - playerY, 2));\n",
    "    }\n",
    "\n",
    "    // Part D: Random Loot Generator\n",
    "    // Generates a random integer value between minValue and maxValue (inclusive).\n",
    "    public static int generateLoot(int minValue, int maxValue) {\n",
    "        return (int)(Math.random() * (maxValue - minValue + 1)) + minValue;\n",
    "    }\n",
    "\n",
    "    // main method to test all parts\n",
    "    public static void main(String[] args) {\n",
    "\n",
    "        System.out.println(\"=== Part A: Health Difference ===\");\n",
    "        System.out.println(\"healthDifference(75, 120): \" + healthDifference(75, 120));\n",
    "        System.out.println(\"healthDifference(100, 80): \" + healthDifference(100, 80));\n",
    "        System.out.println(\"healthDifference(50, 50): \" + healthDifference(50, 50));\n",
    "\n",
    "        System.out.println(\"\\n=== Part B: Attack Damage ===\");\n",
    "        System.out.println(\"calculateDamage(10.0, 2): \" + calculateDamage(10.0, 2));\n",
    "        System.out.println(\"calculateDamage(15.0, 3): \" + calculateDamage(15.0, 3));\n",
    "\n",
    "        System.out.println(\"\\n=== Part C: Distance Detector ===\");\n",
    "        System.out.println(\"findDistance(0, 0, 3, 4): \" + findDistance(0, 0, 3, 4));\n",
    "        System.out.println(\"findDistance(1, 1, 4, 5): \" + findDistance(1, 1, 4, 5));\n",
    "\n",
    "        System.out.println(\"\\n=== Part D: Random Loot Generator ===\");\n",
    "        System.out.println(\"generateLoot(10, 50): \" + generateLoot(10, 50));\n",
    "        System.out.println(\"generateLoot(100, 100): \" + generateLoot(100, 100));\n",
    "        System.out.println(\"generateLoot(1, 6): \" + generateLoot(1, 6)); // like a dice roll\n",
    "    }\n",
    "}\n",
    "GameStatsCalculator.main(null);"
   ]
  }
 ],
 "metadata": {
  "kernelspec": {
   "display_name": "Java",
   "language": "java",
   "name": "java"
  },
  "language_info": {
   "codemirror_mode": "java",
   "file_extension": ".jshell",
   "mimetype": "text/x-java-source",
   "name": "Java",
   "pygments_lexer": "java",
   "version": "18.0.1.1+2-6"
  }
 },
 "nbformat": 4,
 "nbformat_minor": 5
}

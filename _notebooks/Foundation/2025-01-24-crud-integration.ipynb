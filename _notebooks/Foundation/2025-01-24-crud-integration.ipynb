{
 "cells": [
  {
   "cell_type": "raw",
   "metadata": {
    "vscode": {
     "languageId": "raw"
    }
   },
   "source": [
    "---\n",
    "layout: post\n",
    "title: CRUD Check Blog\n",
    "description: Review of week for CRUD Checkpoint\n",
    "type: issues\n",
    "comments: true\n",
    "---"
   ]
  },
  {
   "cell_type": "markdown",
   "metadata": {},
   "source": [
    "### CRUD Integration Checkpoint (01/27/2025)\n",
    "\n",
    "**Executive Summary:**\n",
    "- Made a database to store user chess games and the moves played in the form of PGN fles.\n",
    "- Created a REST api with POST, GET, PATCH, and DELETE requests to manipulate data.\n",
    "- Created manager page on frontend to review, delete, and update games.\n",
    "- Created function request to save games automatically after completon.\n",
    "\n",
    "**Team Purpose:**\n",
    "- Chess social platform to discuss, analyze and learn chess content. Our project will be a social media website and forum where users can discuss chess topics and interact with Artificial Intelligence to learn and play chess.\n",
    "\n",
    "**Individual Features:**\n",
    "- The purpose of my feature for this review is to store games the user plays against the computer, this enables future review and analysis using the analysis page. The manager page employs CRUD functions so the user can manage the data.\n",
    "- The game feature enables the user to play chess and provide data and topics of discussion for the users.\n",
    "\n",
    "**Input/Output requests:**\n",
    "- The PGN API has GET, POST, PATCH, and DELETE requests. The GET request is seen in the manager when the page is loaded as all the games are populated in cards, the POST request is made on the game page immediately after the game is over. The PATCH request is used to update the database entries, a PATCH request is used instead of a PUT as a PUT typically means all fields are changed, but for my data that would be illogical do I developed a PATCH method instead. Lastly, the DELETE request can also be used from the manager page. (*to be shown in the live demo*)\n",
    "- Postman requests work as well, and if breakpoint is placed on the return line the function will cease to function, displaying proper setup.\n",
    "\n",
    "**Requests & DOM:**\n",
    "- The fetch request receives data from the REST API and is manipulated in the DOM (Document Object Model). Looping through the respose object, and then accessing each property of each individual \"game\" to then be dispalyed.\n",
    "- The queries to database are made by Flask_SQLAlchemy which is an ORM (Object Relational Manager) that abstracts the SQL requests enabling easier interfacing with the database.\n",
    "- The classes in my API file have multiple methods that can be called, most process the request data, parse it, perform the associated databse operaton and return a response. The databse operations that create, delete, read, etd, are defined in the model file.\n",
    "\n",
    "**Algorithmic Request:**\n",
    "- My \"_CRUD\" class handles POST, DELETE, and PATCH Requests. Based on the fetch request parameters one of the methods is called the corresponding logic executed. The function take the request data, parse it if necessary call the database function required and return a response (status like 200, or 404, or something else.)\n",
    "- The delete method, obtains the entry id to be deleted from the fetch request, then it searches through the database to find the entry and delete it. The developement of the function involved iteration, as I tested what parameters to be sent from frontend, in the end the entry id was most logical and efficient.\n",
    "- The body of the request contains the id, and the resonse contains a status message and status code. Shoule the call be sucessful, it will say \"PGN deleted\" with a 200 status code, else it returns \"PGN could not be found\" with a 404 error code.\n",
    "\n",
    "**Call to Algorithm Request:**\n",
    "- The delete request is called when a click is made on the delete button, an event listens for a click action and calls the delete function accordingly which makes the fetch request. The fetch makes a DELETE call to /api/pgn and passes a body with an id to be deleted. The fetch request is a try-except block to handle errors.\n",
    "- After the response is returned, should there be no issues the functon that runs the GET request will be called to update the page after the delete request, else error messages are printed.\n",
    "- The sole paramter is the entry's id, and the jsonify resonse is a a string indicating success or error along with the corresponding HTTP status code.\n",
    "\n",
    "\n",
    "\n"
   ]
  }
 ],
 "metadata": {
  "language_info": {
   "name": "python"
  }
 },
 "nbformat": 4,
 "nbformat_minor": 2
}
